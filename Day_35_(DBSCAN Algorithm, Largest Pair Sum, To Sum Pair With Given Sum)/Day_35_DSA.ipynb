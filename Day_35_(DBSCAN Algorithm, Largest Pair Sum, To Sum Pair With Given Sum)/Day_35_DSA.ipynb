{
  "nbformat": 4,
  "nbformat_minor": 0,
  "metadata": {
    "colab": {
      "provenance": [],
      "authorship_tag": "ABX9TyMrVKjlmhYzgcEzBVl4R9Qm"
    },
    "kernelspec": {
      "name": "python3",
      "display_name": "Python 3"
    },
    "language_info": {
      "name": "python"
    }
  },
  "cells": [
    {
      "cell_type": "markdown",
      "source": [
        "# **Problem Statement - 1**\n",
        "**Largest Pair Sum**\n",
        "\n",
        "Find the largest pair sum in an array of distinct integers.\n",
        "\n",
        "[Problem Link](https://www.geeksforgeeks.org/problems/pair-sum--120604/1)"
      ],
      "metadata": {
        "id": "Wdgjz09S9tGU"
      }
    },
    {
      "cell_type": "markdown",
      "source": [
        "### **Approach  ( Time Complexity O(n) and Space Complexity O(n) )**\n",
        "\n",
        "**Initialize Two Variables:**\n",
        "\n",
        "*    large: This variable stores the largest element found so far.\n",
        "*    second_large: This variable stores the second-largest element found so far.\n",
        "\n",
        "**Set Initial Values:**\n",
        "\n",
        "*    Initialize large as the maximum of the first two elements (arr[0] and arr[1]).\n",
        "*    Initialize second_large as the minimum of the first two elements (arr[0] and arr[1]).\n",
        "\n",
        "**Iterate Over the Rest of the Array:**\n",
        "\n",
        "*    **For each element arr[i] starting from index 2**:\n",
        "      *  If arr[i] is greater than large, update second_large to be large, and large to be arr[i].\n",
        "      *  If arr[i] is greater than second_large but less than large, update second_large to arr[i].\n",
        "\n",
        "**Return the Sum:**\n",
        "\n",
        "*    Return the sum of large and second_large after iterating through the array."
      ],
      "metadata": {
        "id": "L8Zpbqsnf2eJ"
      }
    },
    {
      "cell_type": "code",
      "source": [
        "from typing import List\n",
        "\n",
        "\n",
        "class Solution:\n",
        "    def pairsum(self, arr : List[int]) -> int:\n",
        "        # code here\n",
        "        large = max(arr[0],arr[1])\n",
        "        second_large = min(arr[0],arr[1])\n",
        "\n",
        "        for i in range(2,len(arr)):\n",
        "\n",
        "            if arr[i] > large:\n",
        "                second_large = large\n",
        "                large = arr[i]\n",
        "\n",
        "            elif arr[i] > second_large:\n",
        "                second_large = arr[i]\n",
        "\n",
        "        return large + second_large"
      ],
      "metadata": {
        "id": "4XNAM-o_xLN1"
      },
      "execution_count": null,
      "outputs": []
    },
    {
      "cell_type": "code",
      "source": [],
      "metadata": {
        "id": "cRdBMYKEolGa"
      },
      "execution_count": null,
      "outputs": []
    },
    {
      "cell_type": "markdown",
      "source": [
        "# **Problem Statement - 2**\n",
        "\n",
        "**Two Sum - Pair with Given Sum**\n",
        "\n",
        "Given an array arr of positive integers and another number target. Determine whether two elements exist in arr whose sum is exactly target or not. Return a boolean value true if two elements exist in arr else return false.\n",
        "\n",
        "\n",
        "[Problem Link](https://www.geeksforgeeks.org/problems/subsets-1613027340/1)"
      ],
      "metadata": {
        "id": "P7qh7DHV8xVd"
      }
    },
    {
      "cell_type": "markdown",
      "source": [
        "### **Approach  ( Time Complexity O(n)) and Space Complexity O(n) )**\n",
        "\n",
        "**Initialize an Empty Dictionary (d):**\n",
        "\n",
        "*    We use a dictionary to store the elements of the array as we iterate over them. This allows us to check if the complement (the number we need to form the target) exists in constant time.\n",
        "\n",
        "**Iterate Over the Array:**\n",
        "\n",
        "*    For each element i in arr:\n",
        "     *   Check the Complement: If target - i (the complement) exists in the dictionary d, it means we have already seen a number that can be added to i to get the target, so we return True.\n",
        "     *   Add to Dictionary: If the complement is not found, add the current element i to the dictionary to be checked for future elements.\n",
        "\n",
        "**Return False:**\n",
        "\n",
        "*    If the loop completes and no pair is found that sums to target, return False."
      ],
      "metadata": {
        "id": "2mK8oT6weIJh"
      }
    },
    {
      "cell_type": "code",
      "source": [
        "#User function Template for python3\n",
        "class Solution:\n",
        "\tdef twoSum(self,arr, target):\n",
        "\t\t# code here\n",
        "\t\td = {}\n",
        "\n",
        "\t\tfor i in arr:\n",
        "\t\t    if i < target:\n",
        "\t\t        if target - i in d:\n",
        "\t\t            return True\n",
        "\t\t        d[i]=None\n",
        "\n",
        "\t\treturn False"
      ],
      "metadata": {
        "id": "xOsfZ1MSieuR"
      },
      "execution_count": null,
      "outputs": []
    },
    {
      "cell_type": "markdown",
      "source": [
        "# **Thank You..**"
      ],
      "metadata": {
        "id": "Vnswq_x2gudi"
      }
    }
  ]
}