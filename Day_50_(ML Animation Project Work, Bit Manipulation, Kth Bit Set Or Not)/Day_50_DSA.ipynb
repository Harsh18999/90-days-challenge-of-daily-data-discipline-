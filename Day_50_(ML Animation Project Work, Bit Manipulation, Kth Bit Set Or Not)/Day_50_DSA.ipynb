{
  "nbformat": 4,
  "nbformat_minor": 0,
  "metadata": {
    "colab": {
      "provenance": [],
      "authorship_tag": "ABX9TyMNRp5v6/JUnsNtD1RpINSp"
    },
    "kernelspec": {
      "name": "python3",
      "display_name": "Python 3"
    },
    "language_info": {
      "name": "python"
    }
  },
  "cells": [
    {
      "cell_type": "markdown",
      "source": [
        "# **Problem Statement - 1**\n",
        "**Bit Manipulation**\n",
        "\n",
        "Given a 32 bit unsigned integer num and an integer i. Perform following operations on the number -\n",
        "\n",
        "1. Get ith bit\n",
        "\n",
        "2. Set ith bit\n",
        "\n",
        "3. Clear ith bit\n",
        "\n",
        "\n",
        "[Problem Link](https://www.geeksforgeeks.org/problems/bit-manipulation-1666686020/1?utm_source=youtube&utm_medium=collab_striver_ytdescription&utm_campaign=bit-manipulation)"
      ],
      "metadata": {
        "id": "Wdgjz09S9tGU"
      }
    },
    {
      "cell_type": "markdown",
      "source": [
        "### **Approach  ( Time Complexity O(1) and Space Complexity O(1) )**\n",
        "\n",
        "**Get the i-th bit:**\n",
        "\n",
        " * To get the i-th bit, we need to right-shift the number num by i-1 positions and perform a bitwise AND with 1.\n",
        " * This will give us the value of the bit at the i-th position.\n",
        "Set the i-th bit:\n",
        "\n",
        " * To set the i-th bit, we need to create a mask by shifting 1 to the left by i-1 positions. Then, we perform a bitwise OR between num and the mask. This sets the bit at the i-th position to 1.\n",
        "\n",
        "**Clear the i-th bit:**\n",
        "\n",
        " * To clear the i-th bit, we need to create a mask by shifting 1 to the left by i-1 positions, and then invert the mask using the bitwise NOT operator (~). After that, we perform a bitwise AND between num and the inverted mask. This clears the bit at the i-th position (sets it to 0)."
      ],
      "metadata": {
        "id": "L8Zpbqsnf2eJ"
      }
    },
    {
      "cell_type": "code",
      "source": [
        "#User function Template for python3\n",
        "\n",
        "class Solution:\n",
        "    def bitManipulation(self, num, i):\n",
        "        # Code here\n",
        "        ith_bit = (num >> i-1) & 1\n",
        "        set_bit = (num | (1 << i-1))\n",
        "        clear_bit = (num & ~(1<<i-1))\n",
        "\n",
        "        print(ith_bit, end = ' ')\n",
        "        print(set_bit, end = ' ')\n",
        "        print(clear_bit)\n",
        ""
      ],
      "metadata": {
        "id": "4XNAM-o_xLN1"
      },
      "execution_count": 1,
      "outputs": []
    },
    {
      "cell_type": "markdown",
      "source": [
        "# **Problem Statement - 2**\n",
        "\n",
        "**K-th Bit is Set or Not**\n",
        "\n",
        "Given a number n and a bit number k, check if the kth index bit of n is set or not. A bit is called set if it is 1. The position of set bit '1' should be indexed starting with 0 from the LSB side in the binary representation of the number.\n",
        "\n",
        "**Note:** Index is starting from 0. You just need to return true or false, driver code will take care of printing \"Yes\" and \"No\".\n",
        "\n",
        "\n",
        "[Problem Link](https://www.geeksforgeeks.org/problems/check-whether-k-th-bit-is-set-or-not-1587115620/1)"
      ],
      "metadata": {
        "id": "P7qh7DHV8xVd"
      }
    },
    {
      "cell_type": "markdown",
      "source": [
        "### **Approach  ( Time Complexity O(1) and Space Complexity O(1) )**\n",
        "\n",
        "**Right-shift Operation:**\n",
        "\n",
        " * To check the k-th bit, we can right-shift the number n by k positions. This operation brings the k-th bit to the least significant position (i.e., the rightmost bit).\n",
        "\n",
        "**Bitwise AND:**\n",
        "\n",
        " * After right-shifting, we perform a bitwise AND with 1. This isolates the least significant bit, which will either be 1 (if the original k-th bit was set) or 0 (if the original k-th bit was not set).\n",
        "\n",
        "**Return the result:**\n",
        "\n",
        " * If the result of the AND operation is 1, the k-th bit was set. Otherwise, it was not set.\n"
      ],
      "metadata": {
        "id": "2mK8oT6weIJh"
      }
    },
    {
      "cell_type": "code",
      "source": [
        "#User function Template for python3\n",
        "\n",
        "\n",
        "class Solution:\n",
        "\n",
        "    #Function to check if Kth bit is set or not.\n",
        "    def checkKthBit(self, n,k):\n",
        "        #Your code here\n",
        "        _set = (n >> k) & 1\n",
        "        return _set == 1"
      ],
      "metadata": {
        "id": "xOsfZ1MSieuR"
      },
      "execution_count": null,
      "outputs": []
    },
    {
      "cell_type": "markdown",
      "source": [
        "# **Thank You..**"
      ],
      "metadata": {
        "id": "Vnswq_x2gudi"
      }
    }
  ]
}