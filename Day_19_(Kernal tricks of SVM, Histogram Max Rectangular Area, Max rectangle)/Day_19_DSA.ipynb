{
  "nbformat": 4,
  "nbformat_minor": 0,
  "metadata": {
    "colab": {
      "provenance": [],
      "authorship_tag": "ABX9TyO/FTB3AMA9xxmg6NqrAEZN"
    },
    "kernelspec": {
      "name": "python3",
      "display_name": "Python 3"
    },
    "language_info": {
      "name": "python"
    }
  },
  "cells": [
    {
      "cell_type": "markdown",
      "source": [
        "# **Problem Statement - 1**\n",
        "**Histogram Max Rectangular Area**\n",
        "\n",
        "Find the largest rectangular area possible in a given histogram where the largest rectangle can be made of a number of contiguous bars. For simplicity, assume that all bars have the same width and the width is 1 unit, the height of each bar will be given by the array hist.\n",
        "\n",
        "[Problem Link](https://www.geeksforgeeks.org/problems/maximum-rectangular-area-in-a-histogram-1587115620/1)"
      ],
      "metadata": {
        "id": "Wdgjz09S9tGU"
      }
    },
    {
      "cell_type": "markdown",
      "source": [
        "### **Approach  ( Time Complexity O(n) and Space Complexity O(n) )**\n",
        "\n",
        "**NGEs (Next Greater Elements):** This function finds the nearest smaller element to the right for each element in the histogram, storing the indices where such elements exist. If no such element is found, it defaults to the last index (n-1).\n",
        "\n",
        "**PGEs (Previous Greater Elements):** This function finds the nearest smaller element to the left for each element, storing the indices similarly. If no such element is found, it defaults to 0.\n",
        "\n",
        "**getMaxArea:** The core function for calculating the maximum rectangular area. For each bar in the histogram, it computes the total width (left + right + 1) by using the indices from PGEs and NGEs. The area for each bar is calculated by multiplying the bar height by this total width, and the maximum area found is returned."
      ],
      "metadata": {
        "id": "L8Zpbqsnf2eJ"
      }
    },
    {
      "cell_type": "code",
      "source": [
        "class Solution:\n",
        "\n",
        "    def NGEs(self,arr):\n",
        "        n = len(arr)\n",
        "        stack = [ ]\n",
        "        res = [-1]*n\n",
        "\n",
        "        for i in reversed(range(n)):\n",
        "            while stack and arr[stack[-1]] >= arr[i]:\n",
        "                stack.pop()\n",
        "\n",
        "            res[i] = n-1 if not stack else stack[-1]-1\n",
        "            stack.append(i)\n",
        "\n",
        "        return res\n",
        "\n",
        "    def PGEs(self,arr):\n",
        "        n = len(arr)\n",
        "        stack = [ ]\n",
        "        res = [-1]*n\n",
        "\n",
        "        for i in range(n):\n",
        "            while stack and arr[stack[-1]] >= arr[i]:\n",
        "                stack.pop()\n",
        "\n",
        "            res[i] = 0 if not stack else stack[-1]+1\n",
        "            stack.append(i)\n",
        "\n",
        "        return res\n",
        "\n",
        "    def getMaxArea(self,hist):\n",
        "        #code here\n",
        "        n = len(hist)\n",
        "        nge = self.NGEs(hist)\n",
        "        pge = self.PGEs(hist)\n",
        "        mxaria = 0\n",
        "\n",
        "        for i in range(n):\n",
        "            left = i - pge[i]\n",
        "            right = nge[i] - i\n",
        "            total = left + right + 1\n",
        "\n",
        "            mxaria = max(hist[i]*total,mxaria)\n",
        "\n",
        "        return mxaria"
      ],
      "metadata": {
        "id": "21IJefxed_zF"
      },
      "execution_count": null,
      "outputs": []
    },
    {
      "cell_type": "markdown",
      "source": [
        "# **Problem Statement - 2**\n",
        "\n",
        "**Max rectangle**\n",
        "\n",
        "Given a binary matrix M of size n X m. Find the maximum area of a rectangle formed only of 1s in the given matrix.\n",
        "\n",
        "[Problem Link](https://www.geeksforgeeks.org/problems/max-rectangle/1)"
      ],
      "metadata": {
        "id": "P7qh7DHV8xVd"
      }
    },
    {
      "cell_type": "markdown",
      "source": [
        "### **Approach  ( Time Complexity O(n) and Space Complexity O(n) )**\n",
        "\n",
        "**NGEs (Next Greater Elements):** This function finds the nearest smaller element's index to the right for each element in the histogram.\n",
        "\n",
        "**PGEs (Previous Greater Elements):** This function finds the nearest smaller element's index to the left for each element in the histogram.\n",
        "\n",
        "**getMaxArea:** This function calculates the maximum rectangular area in a histogram using the NGE and PGE results. It computes the total width of the rectangle for each bar and finds the largest possible area.\n",
        "\n",
        "**maxArea:** This function applies the histogram area calculation to each row of the binary matrix. It builds a histogram row by row, updating it for consecutive ones, and calls getMaxArea to find the largest area."
      ],
      "metadata": {
        "id": "2mK8oT6weIJh"
      }
    },
    {
      "cell_type": "code",
      "execution_count": null,
      "metadata": {
        "id": "nmQi3RKtcxZ8"
      },
      "outputs": [],
      "source": [
        "class Solution:\n",
        "    def NGEs(self,arr):\n",
        "        n = len(arr)\n",
        "        stack = [ ]\n",
        "        res = [-1]*n\n",
        "\n",
        "        for i in reversed(range(n)):\n",
        "            while stack and arr[stack[-1]] >= arr[i]:\n",
        "                stack.pop()\n",
        "\n",
        "            res[i] = n-1 if not stack else stack[-1]-1\n",
        "            stack.append(i)\n",
        "\n",
        "        return res\n",
        "\n",
        "    def PGEs(self,arr):\n",
        "        n = len(arr)\n",
        "        stack = [ ]\n",
        "        res = [-1]*n\n",
        "\n",
        "        for i in range(n):\n",
        "            while stack and arr[stack[-1]] >= arr[i]:\n",
        "                stack.pop()\n",
        "\n",
        "            res[i] = 0 if not stack else stack[-1]+1\n",
        "            stack.append(i)\n",
        "\n",
        "        return res\n",
        "    def getMaxArea(self,hist):\n",
        "        #code here\n",
        "        n = len(hist)\n",
        "        nge = self.NGEs(hist)\n",
        "        pge = self.PGEs(hist)\n",
        "        mxaria = 0\n",
        "\n",
        "        for i in range(n):\n",
        "            left = i - pge[i]\n",
        "            right = nge[i] - i\n",
        "            total = left + right + 1\n",
        "\n",
        "            mxaria = max(hist[i]*total,mxaria)\n",
        "\n",
        "        return mxaria\n",
        "\n",
        "    def maxArea(self,M, n, m):\n",
        "        # code here\n",
        "        res = [0]*m\n",
        "        mxarea = 0\n",
        "        for i in range(n):\n",
        "            res = [ res[j]+M[i][j] if M[i][j] == 1 else 0 for j in range(m) ]\n",
        "            area = self.getMaxArea(res)\n",
        "            mxarea = max(mxarea,area)\n",
        "        return mxarea"
      ]
    },
    {
      "cell_type": "markdown",
      "source": [
        "# **Thank You..**"
      ],
      "metadata": {
        "id": "Vnswq_x2gudi"
      }
    }
  ]
}