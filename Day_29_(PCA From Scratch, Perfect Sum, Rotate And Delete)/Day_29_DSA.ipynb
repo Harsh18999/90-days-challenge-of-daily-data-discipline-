{
  "nbformat": 4,
  "nbformat_minor": 0,
  "metadata": {
    "colab": {
      "provenance": [],
      "authorship_tag": "ABX9TyOZ4vjPUZ/+0D/C+6/3FKtI"
    },
    "kernelspec": {
      "name": "python3",
      "display_name": "Python 3"
    },
    "language_info": {
      "name": "python"
    }
  },
  "cells": [
    {
      "cell_type": "markdown",
      "source": [
        "# **Problem Statement - 1**\n",
        "**Perfect Sum Problem**\n",
        "\n",
        "Given an array arr of size n of non-negative integers and an integer sum, the task is to count all subsets of the given array with a sum equal to a given sum.\n",
        "\n",
        "[Problem Link](https://www.geeksforgeeks.org/problems/perfect-sum-problem5633/1?utm_source=youtube&utm_medium=collab_striver_ytdescription&utm_campaign=perfect-sum-problem)"
      ],
      "metadata": {
        "id": "Wdgjz09S9tGU"
      }
    },
    {
      "cell_type": "markdown",
      "source": [
        "### **Approach  ( Time Complexity O(n) and Space Complexity O(k) )**\n",
        "\n",
        "**ecursive Function:**\n",
        "\n",
        "*    The solve function takes the current element index i, the remaining target sum, and the number of elements n.\n",
        "*    The base case checks if we have processed all elements (i >= n). If the remaining sum is 0, return 1 (indicating a valid subset), otherwise return 0.\n",
        "\n",
        "**Memoization:**\n",
        "\n",
        "*    To avoid recalculating subproblems, we store intermediate results in the dp table. If dp[i][sum] != -1, it returns the precomputed result.\n",
        "\n",
        "**Subproblem Construction:**\n",
        "\n",
        "*    For each element, we have two choices:\n",
        "    *    Include the current element (a): If the current element is less than or equal to the remaining sum, recursively calculate the number of ways by reducing the sum.\n",
        "     *   Exclude the current element (b): Recursively calculate the number of ways by skipping the current element.\n",
        "*    The final result for each i and sum is the sum of the above two possibilities.\n",
        "\n",
        "**Final Return:**\n",
        "\n",
        "*    The solve function is called initially with i = 0 and sum = target, and the result is returned as the final answer."
      ],
      "metadata": {
        "id": "L8Zpbqsnf2eJ"
      }
    },
    {
      "cell_type": "code",
      "source": [
        "class Solution:\n",
        "    def perfectSum(self, arr, n, sum):\n",
        "        dp = [[-1] * (sum + 1) for _ in range(n + 1)]\n",
        "        mod = int(1e9+7)\n",
        "\n",
        "        def solve(arr,i,n,sum):\n",
        "            if i>=n:\n",
        "                return sum==0\n",
        "\n",
        "            if dp[i][sum]!=-1:\n",
        "                return dp[i][sum]\n",
        "\n",
        "            a=0\n",
        "\n",
        "            if sum-arr[i]>=0:\n",
        "                a = solve(arr,i+1,n,sum-arr[i])%mod\n",
        "\n",
        "            b = solve(arr,i+1,n,sum)%mod\n",
        "            dp[i][sum]=(a+b)%mod\n",
        "\n",
        "            return dp[i][sum]\n",
        "\n",
        "        return solve(arr,0,n,sum)"
      ],
      "metadata": {
        "id": "4XNAM-o_xLN1"
      },
      "execution_count": null,
      "outputs": []
    },
    {
      "cell_type": "code",
      "source": [
        "#User function Template for python3\n",
        "class Solution:\n",
        "    def perfectSum(self, arr, n, sum):\n",
        "        # code here\n",
        "        self.arr = arr\n",
        "        self.c = 0\n",
        "        self.sum = sum\n",
        "        self._perfectSum(0,0)\n",
        "        return self.c\n",
        "\n",
        "    def _perfectSum(self,sum,pos):\n",
        "        if pos == len(self.arr):\n",
        "            return\n",
        "\n",
        "        if sum < self.sum:\n",
        "           self._perfectSum(sum,pos+1)\n",
        "           sum = sum+self.arr[pos]\n",
        "           if sum == self.sum : self.c+=1\n",
        "           self._perfectSum(sum,pos+1)\n",
        "\n",
        "        elif sum == self.sum:\n",
        "           if sum + arr[pos] == sum :\n",
        "               self.c+=1\n",
        "               self._perfectSum(sum,pos+1)\n",
        "           self._perfectSum(sum,pos+1)\n",
        "\n",
        "        else:\n",
        "           return\n"
      ],
      "metadata": {
        "id": "gcsm4KUnxTbE"
      },
      "execution_count": null,
      "outputs": []
    },
    {
      "cell_type": "markdown",
      "source": [
        "# **Problem Statement - 2**\n",
        "\n",
        "**Rotate and delete**\n",
        "\n",
        "Given an array arr integers. Assume sz to be the initial size of the array. Do the following operations exactly sz/2 times. In every kth (1<= k <= sz/2) operation:\n",
        "\n",
        "*    Right-rotate the array clockwise by 1.\n",
        "*    Delete the (n– k + 1)th element from begin.\n",
        "\n",
        "Now, Return the first element of the array.\n",
        "\n",
        "\n",
        "\n",
        "[Problem Link](https://www.geeksforgeeks.org/problems/rotate-and-delete-1587115621/1)"
      ],
      "metadata": {
        "id": "P7qh7DHV8xVd"
      }
    },
    {
      "cell_type": "markdown",
      "source": [
        "### **Approach  ( Time Complexity O(n^2)) and Space Complexity O(1) )**\n",
        "\n",
        "**Initial Setup:**\n",
        "\n",
        "*    Start with an array arr of length n.\n",
        "*    Initialize k = -1 to keep track of the deletion index.\n",
        "\n",
        "**While Loop:** Continue the loop until there is only one element left in the array (len(arr) > 1).\n",
        "\n",
        "**Rotation:** Use arr.pop() to remove the last element and arr.insert(0, ...) to insert it at the start, simulating a rotation of the array.\n",
        "\n",
        "**Deletion:** After each rotation, delete an element from the array based on the value of k. If k (in its absolute form) is larger than the length of the array, delete the first element (arr.pop(0)). Otherwise, delete the element at index k and then decrement k to progressively move backward through the list for future deletions.\n",
        "\n",
        "**Return:** Once the loop finishes, return the single remaining element in the array.\n",
        "\n"
      ],
      "metadata": {
        "id": "2mK8oT6weIJh"
      }
    },
    {
      "cell_type": "code",
      "source": [
        "\n",
        "# from typing import List\n",
        "\n",
        "class Solution:\n",
        "    def rotateDelete(self,  arr):\n",
        "        # code here\n",
        "        n = len(arr)\n",
        "        k = -1\n",
        "        while len(arr) > 1:\n",
        "            arr.insert(0,arr.pop())\n",
        "            if abs(k) > len(arr):\n",
        "                arr.pop(0)\n",
        "            else:\n",
        "                arr.pop(k)\n",
        "            k-=1\n",
        "        return arr[0]"
      ],
      "metadata": {
        "id": "d5ZfbfHod_qH"
      },
      "execution_count": null,
      "outputs": []
    },
    {
      "cell_type": "markdown",
      "source": [
        "# **Thank You..**"
      ],
      "metadata": {
        "id": "Vnswq_x2gudi"
      }
    }
  ]
}
