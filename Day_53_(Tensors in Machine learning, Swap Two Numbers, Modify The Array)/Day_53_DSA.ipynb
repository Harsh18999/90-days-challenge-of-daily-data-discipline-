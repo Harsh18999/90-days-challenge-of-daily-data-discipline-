{
  "nbformat": 4,
  "nbformat_minor": 0,
  "metadata": {
    "colab": {
      "provenance": [],
      "authorship_tag": "ABX9TyPwWNOevkFsmv40lBoqeERt"
    },
    "kernelspec": {
      "name": "python3",
      "display_name": "Python 3"
    },
    "language_info": {
      "name": "python"
    }
  },
  "cells": [
    {
      "cell_type": "markdown",
      "source": [
        "# **Problem Statement - 1**\n",
        "**Swap two numbers**\n",
        "\n",
        "Swap given two numbers and print them. (Try to do it without a temporary variable.) and return it.\n",
        "\n",
        "\n",
        "[Problem Link](https://www.geeksforgeeks.org/problems/swap-two-numbers3844/1)"
      ],
      "metadata": {
        "id": "Wdgjz09S9tGU"
      }
    },
    {
      "cell_type": "markdown",
      "source": [
        "### **Approach  ( Time Complexity O(1) and Space Complexity O(1) )**\n",
        "\n",
        "**XOR Operation:**\n",
        "\n",
        " * The core idea is to use the XOR operation (^) to swap the values.\n",
        "XOR has the property: a ^ b ^ b = a\n",
        "\n",
        "**Swapping Steps:**\n",
        "\n",
        " * **Step 1:** a = a ^ b: This calculates a XOR b and stores the result in a.\n",
        " * **Step 2:** b = a ^ b: This calculates (a XOR b) XOR b, which is equivalent to a. So, b now holds the original value of a.\n",
        " * **Step 3:** a = a ^ b: This calculates (a XOR b) XOR a, which is equivalent to b. So, a now holds the original value of b."
      ],
      "metadata": {
        "id": "L8Zpbqsnf2eJ"
      }
    },
    {
      "cell_type": "code",
      "source": [
        "class Solution:\n",
        "    def get(self, a, b):\n",
        "        #code here\n",
        "        a = a^b\n",
        "        b = a^b\n",
        "        a = a^b\n",
        "\n",
        "        return a,b"
      ],
      "metadata": {
        "id": "4XNAM-o_xLN1"
      },
      "execution_count": null,
      "outputs": []
    },
    {
      "cell_type": "markdown",
      "source": [
        "# **Problem Statement - 2**\n",
        "\n",
        "**Modify the Array**\n",
        "\n",
        "Given an array arr. Return the modified array in such a way that if the current and next numbers are valid numbers and are equal then double the current number value and replace the next number with 0. After the modification, rearrange the array such that all 0's are shifted to the end.\n",
        "\n",
        "\n",
        "[Problem Link](https://www.geeksforgeeks.org/problems/ease-the-array0633/1)"
      ],
      "metadata": {
        "id": "leeybt4yeAsj"
      }
    },
    {
      "cell_type": "markdown",
      "source": [
        "### **Approach  ( Time Complexity O(n) and Space Complexity O(n) )**\n",
        "\n",
        "**Iterate and Modify:**\n",
        "\n",
        " * The code iterates through the array, comparing adjacent elements.\n",
        " * If two consecutive elements are equal and non-zero, the first element is doubled, and the second is set to 0.\n",
        "\n",
        "**Rearrange:**\n",
        "\n",
        " * A new list ans is created to store the non-zero elements.\n",
        " * The non-zero elements are filtered and added to ans.\n",
        " * The remaining positions in ans are filled with 0s to maintain the original array length.\n"
      ],
      "metadata": {
        "id": "2mK8oT6weIJh"
      }
    },
    {
      "cell_type": "code",
      "source": [
        "class Solution:\n",
        "\n",
        "     def modifyAndRearrangeArr (self, arr) :\n",
        "        #Complete the function\n",
        "        n=len(arr)\n",
        "\n",
        "        for i in range(n-1):\n",
        "            if arr[i]!=0 and arr[i]==arr[i+1]:\n",
        "                arr[i]=2*arr[i]\n",
        "                arr[i+1]=0\n",
        "\n",
        "        ans=[num for num in arr if num!= 0]\n",
        "        s=len(ans)\n",
        "\n",
        "        for i in range(s,n):\n",
        "            ans.append(0)\n",
        "        return ans\n"
      ],
      "metadata": {
        "id": "4WHFf2mWeEKz"
      },
      "execution_count": null,
      "outputs": []
    },
    {
      "cell_type": "markdown",
      "source": [
        "# **Thank You..**"
      ],
      "metadata": {
        "id": "Vnswq_x2gudi"
      }
    }
  ]
}