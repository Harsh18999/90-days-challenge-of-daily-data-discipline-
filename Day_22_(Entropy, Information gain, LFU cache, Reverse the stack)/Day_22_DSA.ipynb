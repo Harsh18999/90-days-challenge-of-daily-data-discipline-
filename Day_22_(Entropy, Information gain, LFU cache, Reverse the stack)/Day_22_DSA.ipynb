{
  "nbformat": 4,
  "nbformat_minor": 0,
  "metadata": {
    "colab": {
      "provenance": [],
      "authorship_tag": "ABX9TyMdBNah7Ue43RngQN471HLw"
    },
    "kernelspec": {
      "name": "python3",
      "display_name": "Python 3"
    },
    "language_info": {
      "name": "python"
    }
  },
  "cells": [
    {
      "cell_type": "markdown",
      "source": [
        "# **Problem Statement - 1**\n",
        "**LFU cache**\n",
        "\n",
        "Design and implement a data structure for a Least Frequently Used (LFU) cache.\n",
        "\n",
        "Implement the given LFUCache Class with the following description.\n",
        "\n",
        "**LFUCache(int capacity):** This Initializes the object with the capacity of the data structure.\n",
        "\n",
        "**int get(int key):** Returns the value of the given key if it exists or else returns -1.\n",
        "\n",
        "[Problem Link](https://www.geeksforgeeks.org/problems/lfu-cache-1665050355/1)"
      ],
      "metadata": {
        "id": "Wdgjz09S9tGU"
      }
    },
    {
      "cell_type": "markdown",
      "source": [
        "### **Approach  ( Time Complexity O(n) and Space Complexity O(1) )**\n",
        "\n",
        "**LFUCache Class:**\n",
        "\n",
        "*  **self.cap:** Capacity of the cache.\n",
        "*  **self.keys:** Dictionary for quick access to cache items based on their keys.\n",
        "*  **self.head & self.tail:** Sentinel nodes representing the head and tail of the doubly linked list. These simplify boundary conditions when inserting or removing nodes.\n",
        "\n",
        "**get(key) Method:**\n",
        "\n",
        "*  If the key exists, increase the frequency of the node, adjust its position based on frequency, and return the value.\n",
        "*  If the key does not exist, return -1.\n",
        "\n",
        "**put(key, value) Method:**\n",
        "\n",
        "*  If the key already exists, update its value and increment its frequency.\n",
        "*  **If the key doesn't exist:**\n",
        "    *  If the cache is full, evict the least frequently used key (node at the tail).\n",
        "    *  Insert the new key, value pair, then adjust its position based on frequency.\n",
        "    \n",
        "**check(node) Method:**\n",
        "\n",
        "*  Reorders the node within the doubly linked list based on its frequency.\n",
        "*  It ensures that nodes are sorted by frequency: the least frequently used items are placed at the tail, and more frequently used items are placed closer to the head."
      ],
      "metadata": {
        "id": "L8Zpbqsnf2eJ"
      }
    },
    {
      "cell_type": "code",
      "source": [
        "class Node:\n",
        "    def __init__(self,key,val):\n",
        "        self.key = key\n",
        "        self.val = val\n",
        "        self.freq = 1\n",
        "        self.next = None\n",
        "        self.prev = None\n",
        "\n",
        "class LFUCache:\n",
        "\n",
        "    def __init__(self, capacity: int):\n",
        "        self.cap = capacity\n",
        "        self.keys = {}\n",
        "        self.head = Node(-1,-1)\n",
        "        self.tail = Node(-1,-1)\n",
        "        self.head.next = self.tail\n",
        "        self.tail.prev = self.head\n",
        "\n",
        "    def get(self, key: int) -> int:\n",
        "        if key in self.keys:\n",
        "            node = self.keys[key]\n",
        "            node.freq += 1\n",
        "            self.check(node)\n",
        "            return node.val\n",
        "        return -1\n",
        "\n",
        "\n",
        "    def put(self, key: int, value: int) -> None:\n",
        "        if key not in self.keys:\n",
        "\n",
        "            if self.cap == 0 : return\n",
        "\n",
        "            if self.cap == len(self.keys):\n",
        "                del self.keys[self.tail.prev.key]\n",
        "                self.tail.prev.key = key\n",
        "                self.tail.prev.val = value\n",
        "                self.tail.prev.freq = 1\n",
        "                self.keys[key] = self.tail.prev\n",
        "                self.check(self.tail.prev)\n",
        "                return\n",
        "\n",
        "            n = Node(key,value)\n",
        "            n.next = self.head.next\n",
        "            n.prev = self.head\n",
        "            self.head.next.prev = n\n",
        "            self.head.next = n\n",
        "            self.keys[key] = n\n",
        "            self.check(n)\n",
        "\n",
        "        else:\n",
        "            self.keys[key].val = value\n",
        "            self.keys[key].freq += 1\n",
        "            self.check(self.keys[key])\n",
        "\n",
        "    def check(self,node):\n",
        "\n",
        "        while node.next != self.tail and node.freq < node.next.freq:\n",
        "            next_node = node.next\n",
        "            node.next = next_node.next\n",
        "            next_node.next.prev = node\n",
        "            next_node.next = node\n",
        "            next_node.prev = node.prev\n",
        "            node.prev.next = next_node\n",
        "            node.prev = next_node\n",
        "\n",
        "\n",
        "        while node.prev != self.head and node.freq >= node.prev.freq:\n",
        "            prev_node = node.prev\n",
        "            node.prev = prev_node.prev\n",
        "            prev_node.prev.next = node\n",
        "            prev_node.prev = node\n",
        "            prev_node.next = node.next\n",
        "            node.next.prev = prev_node\n",
        "            node.next = prev_node\n"
      ],
      "metadata": {
        "id": "21IJefxed_zF"
      },
      "execution_count": null,
      "outputs": []
    },
    {
      "cell_type": "markdown",
      "source": [
        "# **Problem Statement - 2**\n",
        "\n",
        "**Reverse a Stack**\n",
        "\n",
        "You are given a stack St. You have to reverse the stack using recursion.\n",
        "\n",
        "\n",
        "\n",
        "[Problem Link](https://www.geeksforgeeks.org/problems/reverse-a-stack/1?utm_source=youtube&utm_medium=collab_striver_ytdescription&utm_campaign=reverse-a-stack)"
      ],
      "metadata": {
        "id": "P7qh7DHV8xVd"
      }
    },
    {
      "cell_type": "markdown",
      "source": [
        "### **Approach  ( Time Complexity O(n^2) and Space Complexity O(1) )**\n",
        "\n",
        "\n",
        "**Function Overview:**\n",
        "*  The reverse function recursively pops elements from the stack and uses a helper function rev to reinsert them, achieving a reversed order.\n",
        "\n",
        "**Recursive Approach:**\n",
        "*  **reverse:** Pops elements one by one and makes recursive calls.\n",
        "*  **rev:** Places the popped element at the bottom of the stack."
      ],
      "metadata": {
        "id": "2mK8oT6weIJh"
      }
    },
    {
      "cell_type": "code",
      "execution_count": null,
      "metadata": {
        "id": "nmQi3RKtcxZ8"
      },
      "outputs": [],
      "source": [
        "\n",
        "class Solution:\n",
        "    def reverse(self,St):\n",
        "        if St:\n",
        "            num = St.pop()\n",
        "            self.reverse(St)\n",
        "            self.rev(St,num)\n",
        "        return St\n",
        "\n",
        "    def rev(self,st,num):\n",
        "        #code here\n",
        "        if not st:\n",
        "            st.append(num)\n",
        "            return\n",
        "\n",
        "        nm = st.pop()\n",
        "        self.rev(st,num)\n",
        "        st.append(nm)"
      ]
    },
    {
      "cell_type": "markdown",
      "source": [
        "# **Thank You..**"
      ],
      "metadata": {
        "id": "Vnswq_x2gudi"
      }
    }
  ]
}