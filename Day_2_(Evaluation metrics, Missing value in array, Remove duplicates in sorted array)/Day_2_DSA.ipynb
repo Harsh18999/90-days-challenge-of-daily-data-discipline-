{
  "nbformat": 4,
  "nbformat_minor": 0,
  "metadata": {
    "colab": {
      "provenance": [],
      "authorship_tag": "ABX9TyMMShcFD9d5KAuwdIa4q+dX",
      "include_colab_link": true
    },
    "kernelspec": {
      "name": "python3",
      "display_name": "Python 3"
    },
    "language_info": {
      "name": "python"
    }
  },
  "cells": [
    {
      "cell_type": "markdown",
      "metadata": {
        "id": "view-in-github",
        "colab_type": "text"
      },
      "source": [
        "<a href=\"https://colab.research.google.com/github/Harsh18999/90-days-challenge-of-daily-data-discipline-/blob/main/Day_2/Day_2_DSA.ipynb\" target=\"_parent\"><img src=\"https://colab.research.google.com/assets/colab-badge.svg\" alt=\"Open In Colab\"/></a>"
      ]
    },
    {
      "cell_type": "markdown",
      "source": [
        "# **Problem Statement - 1**\n",
        "\n",
        "--> Given an array arr of size n−1 that contains distinct integers in the range of 1 to n (inclusive), find the missing element. The array is a permutation of size n with one element missing. Return the missing element.\n",
        "\n",
        "[Problem link](https://www.geeksforgeeks.org/problems/missing-number-in-array1416/1)\n",
        "\n"
      ],
      "metadata": {
        "id": "cWatT3uKTQXP"
      }
    },
    {
      "cell_type": "markdown",
      "source": [
        "#### **Approach - 1 ( Time complexity - O(n) and Space Complexity O(1) )**\n",
        "\n",
        "**Calculate Total Sum:** Define a variable and caluculate total sum form 1 to n with n(n+1)/2.\n",
        "\n",
        "**Calculate array sum:** Define a another variable and calculate sum of of array elements.\n",
        "\n",
        "**Return:** Return Total sum - Calculated sum"
      ],
      "metadata": {
        "id": "UAZTVE_w3_mz"
      }
    },
    {
      "cell_type": "code",
      "execution_count": 5,
      "metadata": {
        "id": "FRa6LhND3cCW"
      },
      "outputs": [],
      "source": [
        "def MissingValue(arr,n):\n",
        "  total_sum = (n*(n+1))/2\n",
        "  sum = 0\n",
        "\n",
        "  for i in arr:\n",
        "    sum+=i\n",
        "\n",
        "  return int(total_sum - sum)\n"
      ]
    },
    {
      "cell_type": "code",
      "source": [
        "arr = [1,2,4,9,3,6,7,8]\n",
        "MissingValue(arr,9)"
      ],
      "metadata": {
        "colab": {
          "base_uri": "https://localhost:8080/"
        },
        "id": "FEmB97eu6WH5",
        "outputId": "7409d809-448a-4f63-991e-2c29f96238a2"
      },
      "execution_count": 6,
      "outputs": [
        {
          "output_type": "execute_result",
          "data": {
            "text/plain": [
              "5"
            ]
          },
          "metadata": {},
          "execution_count": 6
        }
      ]
    },
    {
      "cell_type": "markdown",
      "source": [
        "# **Problem Statement - 2**\n",
        "\n",
        "--> Given a doubly linked list of n nodes sorted by values, the task is to remove duplicate nodes present in the linked list.\n",
        "\n",
        "[Problem Link](https://bit.ly/3FtJUtZ)"
      ],
      "metadata": {
        "id": "6Mj5iyqY6tHi"
      }
    },
    {
      "cell_type": "markdown",
      "source": [
        "**Initialize Temporary Pointer:** Start with a temporary pointer temp set to the head of the list.\n",
        "\n",
        "**Traverse the List:** Use a while loop to traverse the list until the second last node.\n",
        "\n",
        "**Check for Duplicates:** For each node, check if the current node's data is the same as the next node's data.\n",
        "\n",
        "**Remove Duplicate Node:**\n",
        "\n",
        "*  If the current and next node data are the same, adjust pointers to remove the duplicate node:\n",
        "*  If the next node has a subsequent node, update its prev pointer to link back to the current node .\n",
        "*  Update temp.next to the next of the next node.\n",
        "\n",
        "**Continue Traversal:** If no duplicate is found, move the temp pointer to the next node."
      ],
      "metadata": {
        "id": "QuHBOrtg9s0E"
      }
    },
    {
      "cell_type": "code",
      "source": [
        "def Remove_duplicates(head):\n",
        "  temp = head  # create temprary variable\n",
        "\n",
        "  while temp.next:   # traverse second last node\n",
        "\n",
        "    if temp.data == temp.next.data:  # check if node value is same as next node value\n",
        "\n",
        "      if temp.next.next: temp.next.next.prev = temp  # if next node have also a next node then that node prev contain temp\n",
        "      temp.next = temp.next.next\n",
        "      continue\n",
        "\n",
        "    temp = temp.next\n",
        "\n",
        "  return head"
      ],
      "metadata": {
        "id": "eIjZ5lzu6je3"
      },
      "execution_count": null,
      "outputs": []
    }
  ]
}
