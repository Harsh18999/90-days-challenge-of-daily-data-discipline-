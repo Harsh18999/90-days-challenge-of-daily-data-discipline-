{
  "nbformat": 4,
  "nbformat_minor": 0,
  "metadata": {
    "colab": {
      "provenance": [],
      "authorship_tag": "ABX9TyMGJKK9iyWwQhNs1cnVjDNU"
    },
    "kernelspec": {
      "name": "python3",
      "display_name": "Python 3"
    },
    "language_info": {
      "name": "python"
    }
  },
  "cells": [
    {
      "cell_type": "markdown",
      "source": [
        "# **Problem Statement - 1**\n",
        "\n",
        "Design a stack that supports push, pop, top, and retrieving the minimum element in constant time.\n",
        "\n",
        "Implement the MinStack class:\n",
        "\n",
        "*  MinStack() initializes the stack object.\n",
        "*  void push(int val) pushes the element val onto the stack.\n",
        "*  void pop() removes the element on the top of the stack.\n",
        "*  int top() gets the top element of the stack.\n",
        "*  int getMin() retrieves the minimum element in the stack.\n",
        "\n",
        "You must implement a solution with O(1) time complexity for each function.\n",
        "\n",
        "[Problem Link](https://leetcode.com/problems/min-stack/)"
      ],
      "metadata": {
        "id": "P7qh7DHV8xVd"
      }
    },
    {
      "cell_type": "markdown",
      "source": [
        "### **Approach**\n",
        "\n",
        "**Initialization:** Create a class MinStack with a constructor that initializes an empty stack and a variable min to track the minimum element.\n",
        "\n",
        "**Push Operation**:\n",
        "\n",
        "*  When pushing a value, if the stack is empty, push the value and set it as the minimum.\n",
        "*  If the stack is not empty and the new value is less than the current minimum, push a modified value (2 * val - min) to keep track of the minimum indirectly, and update min to the new value.\n",
        "\n",
        "**Pop Operation:**\n",
        "\n",
        "*  When popping, if the top value is less than the current minimum, update the minimum using the formula 2 * min - top.\n",
        "*  Remove the top element from the stack.\n",
        "\n",
        "**Top Operation:**\n",
        "\n",
        "*  Return the top value; if it's less than the current minimum, return the current minimum instead.\n",
        "\n",
        "**Get Minimum:**\n",
        "\n",
        "*  Simply return the current min value, which is always updated correctly during push and pop operations."
      ],
      "metadata": {
        "id": "yEgmGmTL8zrM"
      }
    },
    {
      "cell_type": "code",
      "execution_count": null,
      "metadata": {
        "id": "t2wWl5pf0sfX"
      },
      "outputs": [],
      "source": [
        "class MinStack(object):\n",
        "\n",
        "    def __init__(self):\n",
        "        self.min = None\n",
        "        self.stack = [ ]\n",
        "\n",
        "    def push(self, val):\n",
        "        \"\"\"\n",
        "        :type val: int\n",
        "        :rtype: None\n",
        "        \"\"\"\n",
        "        if len(self.stack) == 0:\n",
        "            self.stack.append(val)\n",
        "            self.min = val\n",
        "        else:\n",
        "            if val < self.min:\n",
        "                self.stack.append(2*val - self.min)\n",
        "                self.min = val\n",
        "\n",
        "            else:\n",
        "                self.stack.append(val)\n",
        "\n",
        "    def pop(self):\n",
        "        \"\"\"\n",
        "        :rtype: None\n",
        "        \"\"\"\n",
        "        n = self.stack[-1]\n",
        "        if n < self.min:\n",
        "            self.min =2*self.min - n\n",
        "        self.stack.pop()\n",
        "        return n\n",
        "\n",
        "    def top(self):\n",
        "        \"\"\"\n",
        "        :rtype: int\n",
        "        \"\"\"\n",
        "        n = self.stack[-1]\n",
        "        if self.min > n:\n",
        "            return self.min\n",
        "        else:\n",
        "            return n\n",
        "\n",
        "    def getMin(self):\n",
        "        \"\"\"\n",
        "        :rtype: int\n",
        "        \"\"\"\n",
        "        return self.min"
      ]
    },
    {
      "cell_type": "markdown",
      "source": [
        "# **Problem Statement - 2**\n",
        "\n",
        "Given an infix expression in the form of string str. Convert this infix expression to postfix expression.\n",
        "\n",
        "**Infix expression:** The expression of the form a op b. When an operator is in-between every pair of operands.\n",
        "\n",
        "**Postfix expression:** The expression of the form a b op. When an operator is followed for every pair of operands.\n",
        "\n",
        "[Problem Link](https://bit.ly/3JWYj1P)"
      ],
      "metadata": {
        "id": "Wdgjz09S9tGU"
      }
    },
    {
      "cell_type": "markdown",
      "source": [
        "### **Approach**\n",
        "\n",
        "**Initialize Structures:**\n",
        "\n",
        "*  Use a stack to hold operators and parentheses.\n",
        "*  Use a dictionary dic to define operator precedence levels.\n",
        "*  Initialize an empty string ans to build the postfix expression.\n",
        "\n",
        "**Iterate Through the Expression:**\n",
        "\n",
        "*  For each character in the input expression:\n",
        "*  If it's an operand (alphanumeric), add it directly to ans.\n",
        "*  If it's an opening parenthesis (, push it onto the stack.\n",
        "*  If it's an operator (+, -, *, /, ^), pop operators from the stack to ans\n",
        "while the top of the stack has higher or equal precedence, then push the current operator.\n",
        "*  If it's a closing parenthesis ), pop operators from the stack to ans until an opening parenthesis ( is encountered, then discard the (.\n",
        "\n",
        "**Pop Remaining Operators:**\n",
        "\n",
        "*  After processing all characters, pop any remaining operators from the stack and append them to ans.\n",
        "\n",
        "**Return the Result:**\n",
        "\n",
        "The string ans now contains the postfix expression of the input infix expression."
      ],
      "metadata": {
        "id": "uC-mSdmv_AHR"
      }
    },
    {
      "cell_type": "code",
      "source": [
        "def InfixtoPostfix(self,exp):\n",
        "    stack = [ ]\n",
        "    dic = {'+': 1, '-': 1, '*': 2, '/': 2, '^': 3}\n",
        "    ans = ''\n",
        "    for i in exp:\n",
        "        if i.isalnum():\n",
        "            ans+=i\n",
        "\n",
        "        elif i == '(':\n",
        "            stack.append(i)\n",
        "\n",
        "        elif i in dic:\n",
        "            while stack and stack[-1] != '(' and  dic.get(stack[-1], 0) >= dic[i]:\n",
        "                ans += stack.pop()\n",
        "            stack.append(i)\n",
        "\n",
        "        else:\n",
        "            while stack and stack[-1] != '(' :\n",
        "                ans += stack.pop()\n",
        "            stack.pop()\n",
        "    while stack:\n",
        "        ans+=stack.pop()\n",
        "\n",
        "    return ans"
      ],
      "metadata": {
        "id": "c_uAjE9BAiFI"
      },
      "execution_count": 1,
      "outputs": []
    }
  ]
}