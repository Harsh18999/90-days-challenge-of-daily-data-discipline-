{
  "nbformat": 4,
  "nbformat_minor": 0,
  "metadata": {
    "colab": {
      "provenance": [],
      "authorship_tag": "ABX9TyPB1J++8AcK9E3CiDeCH0y0"
    },
    "kernelspec": {
      "name": "python3",
      "display_name": "Python 3"
    },
    "language_info": {
      "name": "python"
    }
  },
  "cells": [
    {
      "cell_type": "markdown",
      "source": [
        "# **Problem Statement - 1**\n",
        "**M-Coloring Problem**\n",
        "\n",
        "You are given an undirected graph consisting of v vertices and a list of edges, along with an integer m. Your task is to determine whether it is possible to color the graph using at most m different colors such that no two adjacent vertices share the same color. Return true if the graph can be colored with at most m colors, otherwise return false.\n",
        "\n",
        "**Note:** The graph is indexed with 0-based indexing.\n",
        "\n",
        "[Problem Link](https://www.geeksforgeeks.org/problems/m-coloring-problem-1587115620/1)"
      ],
      "metadata": {
        "id": "Wdgjz09S9tGU"
      }
    },
    {
      "cell_type": "markdown",
      "source": [
        "### **Approach  ( Time Complexity O(m^v) and Space Complexity O(v) )**\n",
        "\n",
        "**Graph Representation:**\n",
        "\n",
        "*  We are given v vertices and a list of edges. Each edge represents a connection between two vertices.\n",
        "*  We need to assign a color (from 0 to m-1) to each vertex such that no adjacent vertices (connected by an edge) have the same color.\n",
        "\n",
        "**Backtracking Approach:**\n",
        "\n",
        "*  The idea is to recursively try to assign a color to each vertex.\n",
        "For each vertex, try all colors (from 0 to m-1).\n",
        "*  After assigning a color to the current vertex, check if it violates any coloring conditions with its adjacent vertices.\n",
        "*  If assigning a color leads to a solution, we proceed with the next vertex.\n",
        "*  If no valid color can be assigned to a vertex, we backtrack and try another color for the previous vertex.\n",
        "\n",
        "**Color Validation:**\n",
        "\n",
        "*  For each vertex, we need to check if any of its adjacent vertices (i.e., the vertices connected by edges) already have the same color.\n",
        "*  If any adjacent vertex has the same color, the current color assignment is invalid.\n",
        "\n",
        "**Base Case:**\n",
        "\n",
        "*  If we successfully color all the vertices, return True.\n",
        "*  If we fail to color a vertex (i.e., no valid color can be assigned), return False."
      ],
      "metadata": {
        "id": "L8Zpbqsnf2eJ"
      }
    },
    {
      "cell_type": "code",
      "source": [
        "class Solution:\n",
        "    def graphColoring(self, v, edges, m):\n",
        "        # Initialize an array to keep track of colors assigned to vertices\n",
        "        cols = [-1] * v\n",
        "\n",
        "        # Start the coloring process from the first vertex\n",
        "        if self._coloring(0, edges, cols, m, v):\n",
        "            return True\n",
        "        else:\n",
        "            return False\n",
        "\n",
        "    def _coloring(self, node, edges, cols, m, v):\n",
        "        # Base case: If all vertices are colored, return True\n",
        "        if node == v:\n",
        "            return True\n",
        "\n",
        "        # Try all colors for the current vertex\n",
        "        for i in range(m):\n",
        "            # Check if this color can be assigned to the current node\n",
        "            if self._check_coloring(i, node, edges, cols):\n",
        "                cols[node] = i  # Assign the color\n",
        "\n",
        "                # Recursively try to color the rest of the graph\n",
        "                if self._coloring(node + 1, edges, cols, m, v):\n",
        "                    return True\n",
        "\n",
        "                # If coloring fails, backtrack\n",
        "                cols[node] = -1\n",
        "\n",
        "        return False\n",
        "\n",
        "    def _check_coloring(self, col, node, edges, cols):\n",
        "        # Check if any adjacent vertices have the same color\n",
        "        for i in edges:\n",
        "            if i[0] == node and cols[i[1]] == col:\n",
        "                return False\n",
        "            if i[1] == node and cols[i[0]] == col:\n",
        "                return False\n",
        "\n",
        "        return True\n"
      ],
      "metadata": {
        "id": "4XNAM-o_xLN1"
      },
      "execution_count": null,
      "outputs": []
    },
    {
      "cell_type": "markdown",
      "source": [
        "# **Problem Statement - 2**\n",
        "\n",
        "**Sudoku Solver**\n",
        "\n",
        "Write a program to solve a Sudoku puzzle by filling the empty cells.\n",
        "\n",
        "**A sudoku solution must satisfy all of the following rules:**\n",
        "\n",
        "* Each of the digits 1-9 must occur exactly once in each row.\n",
        "* Each of the digits 1-9 must occur exactly once in each column.\n",
        "* Each of the digits 1-9 must occur exactly once in each of the 9 3x3 sub-boxes of the grid.\n",
        "* The '.' character indicates empty cells.\n",
        "\n",
        "[Problem Link](https://leetcode.com/problems/sudoku-solver/description/)"
      ],
      "metadata": {
        "id": "P7qh7DHV8xVd"
      }
    },
    {
      "cell_type": "markdown",
      "source": [
        "### **Approach  ( Time Complexity O(9^n*n)) and Space Complexity O(n^2) )**\n",
        "\n",
        "**Recursive Backtracking:**\n",
        "\n",
        "*  Start from the first empty cell and try to fill it with digits from 1 to 9.\n",
        "For each digit, check if placing it in the current cell is safe (i.e., it doesn't violate the Sudoku rules for rows, columns, and 3x3 subgrids).\n",
        "*  If it is safe, place the digit and proceed to the next cell.\n",
        "*  If no digit can be placed, backtrack by removing the digit from the current cell and trying the next possible digit.\n",
        "\n",
        "**Safety Check:**\n",
        "\n",
        "*  For a number to be safely placed in a cell, it must not already appear:\n",
        "   1. In the same row.\n",
        "   2. In the same column.\n",
        "   3. In the 3x3 subgrid that the cell belongs to.\n",
        "\n",
        "**Base Case:**\n",
        "\n",
        "*  The recursion ends when all cells are filled (i.e., when i == 9, which means we have moved beyond the last row)."
      ],
      "metadata": {
        "id": "2mK8oT6weIJh"
      }
    },
    {
      "cell_type": "code",
      "source": [
        "class Solution(object):\n",
        "    def solveSudoku(self, board):\n",
        "        \"\"\"\n",
        "        :type board: List[List[str]]\n",
        "        :rtype: None Do not return anything, modify board in-place instead.\n",
        "        \"\"\"\n",
        "        self._solve(0,0,board)\n",
        "        return board\n",
        "\n",
        "    def _solve(self,i,j,board):\n",
        "\n",
        "        if i == 9 : self.res = board ; return True\n",
        "\n",
        "        next_i = i+1 if j == 8 else i\n",
        "        next_j = j+1 if j != 8 else 0\n",
        "\n",
        "        if board[i][j] != '.':\n",
        "            return self._solve(next_i,next_j,board)\n",
        "\n",
        "        for num in range(1,10):\n",
        "            num = str(num)\n",
        "            if self._safenum(num,i,j,board):\n",
        "                board[i][j] = num\n",
        "                if self._solve(next_i,next_j,board):\n",
        "                    return True\n",
        "                board[i][j] = '.'\n",
        "\n",
        "        return False\n",
        "\n",
        "    def _safenum(self,num,i,j,board):\n",
        "\n",
        "        for k in range(9):\n",
        "            if board[i][k] == num: return False\n",
        "            if board[k][j] == num: return False\n",
        "\n",
        "        if i in range(0,3): i = 0\n",
        "        elif i in range(3,6): i = 3\n",
        "        else: i = 6\n",
        "\n",
        "        if j in range(0,3): j = 0\n",
        "        elif j in range(3,6): j = 3\n",
        "        else: j = 6\n",
        "\n",
        "        for m in range(i,i+3):\n",
        "            for n in range(j,j+3):\n",
        "                if board[m][n] == num:\n",
        "                    return False\n",
        "        return True\n"
      ],
      "metadata": {
        "id": "xOsfZ1MSieuR"
      },
      "execution_count": null,
      "outputs": []
    },
    {
      "cell_type": "markdown",
      "source": [
        "# **Thank You..**"
      ],
      "metadata": {
        "id": "Vnswq_x2gudi"
      }
    }
  ]
}