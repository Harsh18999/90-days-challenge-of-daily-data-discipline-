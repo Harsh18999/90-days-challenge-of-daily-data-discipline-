{
  "nbformat": 4,
  "nbformat_minor": 0,
  "metadata": {
    "colab": {
      "provenance": [],
      "authorship_tag": "ABX9TyPAshMbIlaOeckHFE5flKkJ"
    },
    "kernelspec": {
      "name": "python3",
      "display_name": "Python 3"
    },
    "language_info": {
      "name": "python"
    }
  },
  "cells": [
    {
      "cell_type": "markdown",
      "source": [
        "# **Problem Statement - 1**\n",
        "\n",
        "**Sum of subarray minimum**\n",
        "\n",
        "Given an array of integers arr, find the sum of min(b), where b ranges over every (contiguous) subarray of arr. Since the answer may be large, return the answer modulo 109 + 7.\n",
        "\n",
        "[Problem Link](https://www.geeksforgeeks.org/problems/sum-of-subarray-minimum/1)"
      ],
      "metadata": {
        "id": "P7qh7DHV8xVd"
      }
    },
    {
      "cell_type": "markdown",
      "source": [
        "### **Approach  ( Time Complexity O(n) and Space Complexity O(n) )**\n",
        "\n",
        "#### **1. PSEE (Previous Smaller Element's Index) Function:**\n",
        "*  **Initialize Stack and Answer List:** Start with an empty stack and an answer list ans filled with -1 of length n.\n",
        "*  **Traverse the Array from Left to Right:** For each element, use a while loop to pop indices from the stack if the current element is smaller than the element at the top index of the stack.\n",
        "*  **Update Answer List:** If the stack is not empty after popping, set ans[i] to the top index of the stack, which is the index of the previous smaller element.\n",
        "*  **Push Current Index:** Push the current index onto the stack.\n",
        "\n",
        "#### **2. NSE (Next Smaller Element's Index) Function:**\n",
        "*  **Initialize Stack and Answer List:** Start with an empty stack and an answer list ans filled with n of length n.\n",
        "*  **Traverse the Array from Right to Left:** For each element, use a while loop to pop indices from the stack if the current element is less than or equal to the element at the top index of the stack.\n",
        "*  **Update Answer List:** If the stack is not empty after popping, set ans[i] to the top index of the stack, which is the index of the next smaller element.\n",
        "*  **Push Current Index:** Push the current index onto the stack.\n",
        "\n",
        "#### **3. SumSubarrayMins Function:**\n",
        "*  **Initialize Variables:** Set up the array length n, the modulus mod as\n",
        "(10**9)+7, and get the arrays psee and nse from the helper functions PSEE and NSE.\n",
        "\n",
        "*  **Calculate the Contribution of Each Element:**\n",
        "For each element in the array, calculate its contribution to the sum of subarray minimums\n",
        "\n",
        "   *   left_subarray_len is the distance to the previous smaller element.\n",
        "   *   right_subarray_len is the distance to the next smaller element.\n",
        "   *   The total subarray length that includes the element as the minimum is the product of left_subarray_len and right_subarray_len.\n",
        "   *   The individual contribution of the element is its value multiplied by the total subarray length.\n",
        "   \n",
        "**Update the Total Sum:** Add the individual contribution to the total sum, applying the modulus to prevent overflow.\n",
        "\n",
        "**Return the Final Sum:** Return the computed sum of subarray minimums."
      ],
      "metadata": {
        "id": "2mK8oT6weIJh"
      }
    },
    {
      "cell_type": "code",
      "execution_count": null,
      "metadata": {
        "id": "nmQi3RKtcxZ8"
      },
      "outputs": [],
      "source": [
        "class Solution:\n",
        "\n",
        "    def PSEE(self,arr):\n",
        "        n = len(arr)\n",
        "        stack = [ ]\n",
        "        ans = [-1]*n\n",
        "\n",
        "        for i in range(n):\n",
        "            while stack and arr[i]<arr[stack[-1]]:\n",
        "                stack.pop()\n",
        "            if not stack:\n",
        "                pass\n",
        "            else:\n",
        "                ans[i]=stack[-1]\n",
        "            stack.append(i)\n",
        "\n",
        "        return ans\n",
        "\n",
        "    def NSE(self,arr):\n",
        "        n = len(arr)\n",
        "        stack = [ ]\n",
        "        ans = [n]*n\n",
        "\n",
        "        for i in reversed(range(n)):\n",
        "            while stack and arr[stack[-1]]>=arr[i]:\n",
        "                stack.pop()\n",
        "            if not stack:\n",
        "                pass\n",
        "            else:\n",
        "                ans[i]=stack[-1]\n",
        "            stack.append(i)\n",
        "\n",
        "        return ans\n",
        "\n",
        "    def sumSubarrayMins(self, arr):\n",
        "        # Code here\n",
        "        n = len(arr)\n",
        "        mod = (10**9)+7\n",
        "\n",
        "        psee = self.PSEE(arr)\n",
        "        nse = self.NSE(arr)\n",
        "\n",
        "        sum = 0\n",
        "\n",
        "        for i in range(n):\n",
        "            idx_psee = psee[i]\n",
        "            idx_nse = nse[i]\n",
        "\n",
        "            left_subarray_len = i - idx_psee\n",
        "            right_subarray_len = idx_nse - i\n",
        "            subarray_len = left_subarray_len * right_subarray_len\n",
        "\n",
        "            indivisual_contri = (arr[i]*subarray_len)\n",
        "\n",
        "            sum = (sum+indivisual_contri) % mod\n",
        "\n",
        "        return sum"
      ]
    },
    {
      "cell_type": "markdown",
      "source": [
        "# **Problem Statement - 2**\n",
        "**At Least K Occurrences**\n",
        "\n",
        "Given an array of n integers. Return the element that occurs at least k number of times.\n",
        "\n",
        "[Problem Link](https://www.geeksforgeeks.org/problems/first-element-to-occur-k-times5150/1)"
      ],
      "metadata": {
        "id": "Wdgjz09S9tGU"
      }
    },
    {
      "cell_type": "markdown",
      "source": [
        "### **Approach  ( Time Complexity O(n) and Space Complexity O(n) )**\n",
        "\n",
        "**Initialize a Dictionary (Map):** Create an empty dictionary map to keep track of the frequency of each element in the array arr.\n",
        "\n",
        "**Traverse the Array:** Use a for loop to iterate through each element in the array.\n",
        "\n",
        "**Update Frequency Count:**\n",
        "\n",
        "*  If the element is already in the dictionary, increment its count by 1.\n",
        "*  If the element is not in the dictionary, add it with a count of 1.\n",
        "\n",
        "**Check for Element Reaching Frequency k:**\n",
        "After updating the frequency count of an element, check if it reaches k.\n",
        "If it does, return this element immediately as it is the first element to reach the frequency k.\n",
        "\n",
        "**Return -1 if No Element Reaches k:** If the loop completes without finding an element that appears k times, return -1."
      ],
      "metadata": {
        "id": "L8Zpbqsnf2eJ"
      }
    },
    {
      "cell_type": "code",
      "source": [
        "class Solution:\n",
        "    def firstElementKTime(self, n, k, arr):\n",
        "        # code here\n",
        "        map = {}\n",
        "        for i in arr:\n",
        "            if i in map:\n",
        "                map[i]+=1\n",
        "                if map[i]==k: return i\n",
        "            else:\n",
        "                map[i]=1\n",
        "        return -1\n"
      ],
      "metadata": {
        "id": "21IJefxed_zF"
      },
      "execution_count": null,
      "outputs": []
    },
    {
      "cell_type": "markdown",
      "source": [
        "# **Thank You..**"
      ],
      "metadata": {
        "id": "Vnswq_x2gudi"
      }
    }
  ]
}