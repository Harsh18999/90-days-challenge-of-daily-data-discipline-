{
  "nbformat": 4,
  "nbformat_minor": 0,
  "metadata": {
    "colab": {
      "provenance": [],
      "authorship_tag": "ABX9TyNq/93ceLXakESnuqxTD2Pm"
    },
    "kernelspec": {
      "name": "python3",
      "display_name": "Python 3"
    },
    "language_info": {
      "name": "python"
    }
  },
  "cells": [
    {
      "cell_type": "markdown",
      "source": [
        "# **Problem Statement - 1**\n",
        "**Roof Top**\n",
        "\n",
        "You are given the heights of consecutive buildings. You can move from the roof of a building to the roof of the next adjacent building. You need to find the maximum number of consecutive steps you can put forward such that you gain an increase in altitude with each step.\n",
        "\n",
        "[Problem Link](https://www.geeksforgeeks.org/problems/roof-top-1587115621/1)"
      ],
      "metadata": {
        "id": "Wdgjz09S9tGU"
      }
    },
    {
      "cell_type": "markdown",
      "source": [
        "### **Approach  ( Time Complexity O(n) and Space Complexity O(1) )**\n",
        "\n",
        "**Initialization:** Start with two variables: con to track the count of consecutive increasing steps and mx to store the maximum number of consecutive steps found so far.\n",
        "\n",
        "**Iterate through the Array:** Loop through the array starting from the second element (index 1) to check if the current element is greater than the previous one.\n",
        "\n",
        "**Update Counters:**\n",
        "\n",
        "*  If the current element is greater than the previous one, increment con (count of consecutive steps) and update mx with the maximum value between mx and con.\n",
        "*  If the current element is not greater, reset con to 0 since the sequence is broken.\n",
        "\n",
        "**Return the Result:** After completing the loop, return the value of mx, which holds the maximum number of consecutive increasing steps in the array.\n",
        "\n",
        "\n",
        "\n",
        "\n"
      ],
      "metadata": {
        "id": "L8Zpbqsnf2eJ"
      }
    },
    {
      "cell_type": "code",
      "source": [
        "class Solution:\n",
        "\n",
        "    #Function to find maximum number of consecutive steps\n",
        "    def maxStep(self, arr):\n",
        "        #Your code here\n",
        "        con = 0\n",
        "        mx = 0\n",
        "        for i in range(1,len(arr)):\n",
        "            if arr[i] > arr[i-1] :\n",
        "                con+=1\n",
        "                mx = max(mx,con)\n",
        "            else:\n",
        "                con=0\n",
        "\n",
        "        return mx"
      ],
      "metadata": {
        "id": "21IJefxed_zF"
      },
      "execution_count": null,
      "outputs": []
    },
    {
      "cell_type": "markdown",
      "source": [
        "# **Problem Statement - 2**\n",
        "\n",
        "**First Repeating Element**\n",
        "\n",
        "Given an array arr[], find the first repeating element. The element should occur more than once and the index of its first occurrence should be the smallest.\n",
        "\n",
        "\n",
        "\n",
        "[Problem Link](https://www.geeksforgeeks.org/problems/first-repeating-element4018/1?page=1&category=Arrays&status=unsolved&sortBy=submissions)"
      ],
      "metadata": {
        "id": "P7qh7DHV8xVd"
      }
    },
    {
      "cell_type": "markdown",
      "source": [
        "### **Approach  ( Time Complexity O(n) and Space Complexity O(n) )**\n",
        "\n",
        "\n",
        "**Initialize a hash table:** Create an empty hash table to store elements and their corresponding indices.\n",
        "\n",
        "**Iterate through the array:** For each element in the array:\n",
        "*  If the element is not present in the hash table, add it as a key with its index as the value.\n",
        "\n",
        "*  If the element is already in the hash table, it means it's a repeating element. Append its index to a list of repeated element indices.\n",
        "\n",
        "**Find the minimum index:** Return the minimum index from the list of repeated element indices, indicating the position of the first repeating element. If the list is empty, it means there are no repetitions, and -1 is returned."
      ],
      "metadata": {
        "id": "2mK8oT6weIJh"
      }
    },
    {
      "cell_type": "code",
      "execution_count": null,
      "metadata": {
        "id": "nmQi3RKtcxZ8"
      },
      "outputs": [],
      "source": [
        "class Solution:\n",
        "    #Function to return the position of the first repeating element.\n",
        "    def firstRepeated(self,arr):\n",
        "\n",
        "        #arr : given array\n",
        "        #n : size of the array\n",
        "        hash = {}\n",
        "        out = []\n",
        "\n",
        "        for i in range(len(arr)):\n",
        "\n",
        "            if arr[i] not in hash:\n",
        "                hash[arr[i]]=i+1\n",
        "            else:\n",
        "                out.append(hash[arr[i]])\n",
        "\n",
        "        return min(out) if out else -1"
      ]
    },
    {
      "cell_type": "markdown",
      "source": [
        "# **Thank You..**"
      ],
      "metadata": {
        "id": "Vnswq_x2gudi"
      }
    }
  ]
}