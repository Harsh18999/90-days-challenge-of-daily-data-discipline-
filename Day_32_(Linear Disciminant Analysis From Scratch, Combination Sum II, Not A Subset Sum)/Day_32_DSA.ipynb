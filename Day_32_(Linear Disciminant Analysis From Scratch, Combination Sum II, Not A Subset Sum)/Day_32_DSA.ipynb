{
  "nbformat": 4,
  "nbformat_minor": 0,
  "metadata": {
    "colab": {
      "provenance": [],
      "authorship_tag": "ABX9TyOJsenZhsKSXwX6XsdOp7mZ"
    },
    "kernelspec": {
      "name": "python3",
      "display_name": "Python 3"
    },
    "language_info": {
      "name": "python"
    }
  },
  "cells": [
    {
      "cell_type": "markdown",
      "source": [
        "# **Problem Statement - 1**\n",
        "**Combination Sum II**\n",
        "\n",
        "Given an array of integers arr, the length of the array n, and an integer k, find all the unique combinations in arr where the sum of the combination is equal to k. Each number can only be used once in a combination.\n",
        "\n",
        "Return the combinations in the lexicographically sorted order, where each combination is in non-decreasing order.\n",
        "\n",
        "[Problem Link](https://www.geeksforgeeks.org/problems/combination-sum-ii-1664263832/1)"
      ],
      "metadata": {
        "id": "Wdgjz09S9tGU"
      }
    },
    {
      "cell_type": "markdown",
      "source": [
        "### **Approach  ( Time Complexity O(2^n) and Space Complexity O(n) )**\n",
        "\n",
        "**Sorting and Removing Duplicates:**\n",
        "\n",
        "*    First, the input array arr is sorted to make it easier to skip duplicates during the search. Sorting ensures that any duplicates are adjacent, allowing us to handle them efficiently.\n",
        "\n",
        "**Depth-First Search (DFS) with Backtracking:**\n",
        "\n",
        "*    A recursive DFS function is used to explore all possible combinations of the elements in the array.\n",
        "*    Starting at index ind, the function checks each element to see if it can be included in the current combination (curr), and subtracts its value from the target sum k.\n",
        "*    If the target sum k becomes zero, the current combination is a valid solution, and it's added to the result (ans).\n",
        "*    If k becomes negative or all elements are exhausted, the recursion stops.\n",
        "\n",
        "**Avoiding Duplicates:**\n",
        "\n",
        "*    To avoid generating duplicate combinations, the function skips over elements that are the same as the previous one (arr[i] == arr[i - 1]) unless it's the first occurrence of that element in the current recursive call. This ensures that combinations with repeated elements aren't considered multiple times.\n",
        "\n",
        "**Backtracking:**\n",
        "\n",
        "*   After adding an element to the current combination (curr), the function recursively explores further by reducing k and increasing the index.\n",
        "*    After returning from recursion, the last element is removed (backtracking), allowing the function to explore other possible combinations.\n",
        "\n",
        "**Base Cases:**\n",
        "\n",
        "*   If the sum k reaches zero, the current combination is valid and is added to the result.\n",
        "*    If the index exceeds the array length or the sum becomes negative, the recursion terminates."
      ],
      "metadata": {
        "id": "L8Zpbqsnf2eJ"
      }
    },
    {
      "cell_type": "code",
      "source": [
        "class Solution:\n",
        "    def dfs(self, arr, ind, k, ans, curr):\n",
        "\n",
        "        if k == 0:\n",
        "            ans.append(curr[:])\n",
        "            return\n",
        "        if ind == len(arr) or k < 0:\n",
        "            return\n",
        "\n",
        "        for i in range(ind, len(arr)):\n",
        "            if i != ind and arr[i] == arr[i - 1]:\n",
        "                continue\n",
        "\n",
        "            curr.append(arr[i])\n",
        "            self.dfs(arr, i + 1, k - arr[i], ans, curr)\n",
        "            curr.pop()\n",
        "\n",
        "    def CombinationSum2(self, arr, n, k):\n",
        "\n",
        "        ans = []\n",
        "        curr = []\n",
        "        arr.sort()\n",
        "        self.dfs(arr, 0, k, ans, curr)\n",
        "        return ans"
      ],
      "metadata": {
        "id": "4XNAM-o_xLN1"
      },
      "execution_count": null,
      "outputs": []
    },
    {
      "cell_type": "markdown",
      "source": [
        "# **Problem Statement - 2**\n",
        "\n",
        "**Not a subset sum**\n",
        "\n",
        "Given a sorted array arr[] of positive integers, find the smallest positive integer such that it cannot be represented as the sum of elements of any subset of the given array set.\n",
        "\n",
        "\n",
        "[Problem Link](https://www.geeksforgeeks.org/problems/smallest-number-subset1220/1)"
      ],
      "metadata": {
        "id": "P7qh7DHV8xVd"
      }
    },
    {
      "cell_type": "markdown",
      "source": [
        "### **Approach  ( Time Complexity O(n)) and Space Complexity O(1) )**\n",
        "\n",
        "**Initialize min_pos to 1:**\n",
        "\n",
        "*    min_pos represents the smallest integer that cannot be represented as a sum of any subset of the elements processed so far. Initially, it is set to 1, since we start by assuming that the smallest number we are trying to represent is 1.\n",
        "\n",
        "**Iterate through the Array:**\n",
        "\n",
        "*    The array is iterated in increasing order. For each element i in the array:\n",
        "      *  If i is greater than min_pos, it means that no subset of the current elements can form the number min_pos. Hence, min_pos is returned as the answer.\n",
        "      *  If i is less than or equal to min_pos, it means that with the help of i, we can form all sums from 1 to min_pos + i - 1. Therefore, we add i to min_pos to extend the range of representable sums.\n",
        "\n",
        "**Return min_pos:**\n",
        "\n",
        "*    Once the loop completes, if all elements have been processed and no early return has been triggered, the final value of min_pos will be the smallest number that cannot be formed as a sum of any subset of the array.\n",
        "\n"
      ],
      "metadata": {
        "id": "2mK8oT6weIJh"
      }
    },
    {
      "cell_type": "code",
      "source": [
        "class Solution:\n",
        "    def findSmallest(self, arr):\n",
        "        # code here\n",
        "        min_pos = 1\n",
        "        for i in arr:\n",
        "\n",
        "            if i > min_pos:\n",
        "                return min_pos\n",
        "\n",
        "            else : min_pos += i\n",
        "\n",
        "        return min_pos"
      ],
      "metadata": {
        "id": "xOsfZ1MSieuR"
      },
      "execution_count": null,
      "outputs": []
    },
    {
      "cell_type": "code",
      "source": [],
      "metadata": {
        "id": "Du1YjFcTltQe"
      },
      "execution_count": null,
      "outputs": []
    },
    {
      "cell_type": "markdown",
      "source": [
        "# **Thank You..**"
      ],
      "metadata": {
        "id": "Vnswq_x2gudi"
      }
    }
  ]
}