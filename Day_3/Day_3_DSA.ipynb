{
  "nbformat": 4,
  "nbformat_minor": 0,
  "metadata": {
    "colab": {
      "provenance": [],
      "authorship_tag": "ABX9TyPEcnkT9KLvxpIbP3AprBIb",
      "include_colab_link": true
    },
    "kernelspec": {
      "name": "python3",
      "display_name": "Python 3"
    },
    "language_info": {
      "name": "python"
    }
  },
  "cells": [
    {
      "cell_type": "markdown",
      "metadata": {
        "id": "view-in-github",
        "colab_type": "text"
      },
      "source": [
        "<a href=\"https://colab.research.google.com/github/Harsh18999/90-days-challenge-of-daily-data-discipline-/blob/main/Day_3/Day_3_DSA.ipynb\" target=\"_parent\"><img src=\"https://colab.research.google.com/assets/colab-badge.svg\" alt=\"Open In Colab\"/></a>"
      ]
    },
    {
      "cell_type": "markdown",
      "source": [
        "# **Problem Statement - 1**\n",
        "\n",
        "--> Implement a stack using queue\n"
      ],
      "metadata": {
        "id": "P7qh7DHV8xVd"
      }
    },
    {
      "cell_type": "markdown",
      "source": [
        "### **Approach:   Time Complexity for push O(n) and pop O(1)**\n",
        "\n",
        "\n",
        "*  Take a single queue\n",
        "*  **Push:** push element in the queue and take a loop form 1 to size of queue, pop element from queue and again push in queue, hence rear element will become front element.\n",
        "*  **pop:** pop from the queue\n",
        "*  **Top:** Return top element of queue\n",
        "*  **Size:** Return size of queue\n",
        "\n",
        "\n",
        "\n"
      ],
      "metadata": {
        "id": "KdTAscCr9LSD"
      }
    },
    {
      "cell_type": "code",
      "execution_count": 6,
      "metadata": {
        "colab": {
          "base_uri": "https://localhost:8080/"
        },
        "id": "TCZyLHC_8sDQ",
        "outputId": "82d692ae-fdf3-4404-9266-697b593f432b"
      },
      "outputs": [
        {
          "output_type": "stream",
          "name": "stdout",
          "text": [
            "15\n",
            "10\n",
            "1\n"
          ]
        }
      ],
      "source": [
        "from queue import Queue\n",
        "\n",
        "class Stack:\n",
        "\n",
        "  def __init__(self):\n",
        "    self.queue = Queue()\n",
        "\n",
        "  def push(self,data):\n",
        "    self.queue.put(data)\n",
        "    for i in range(1,self.queue.qsize()):\n",
        "      self.queue.put(self.queue.get())\n",
        "\n",
        "    return\n",
        "\n",
        "  def pop(self):\n",
        "    return self.queue.get()\n",
        "\n",
        "  def top(self):\n",
        "    return self.queue.queue[0]\n",
        "\n",
        "  def size(self):\n",
        "    return self.queue.qsize()\n",
        "\n",
        "mystack = Stack()\n",
        "mystack.push(10)\n",
        "mystack.push(15)\n",
        "print(mystack.pop())\n",
        "print(mystack.top())\n",
        "print(mystack.size())"
      ]
    },
    {
      "cell_type": "markdown",
      "source": [
        "# **Problem Statement - 2**\n",
        "\n",
        "--> Implement a Queue using 2 Stacks"
      ],
      "metadata": {
        "id": "Nlt5GxW-BrOr"
      }
    },
    {
      "cell_type": "markdown",
      "source": [
        "### **Approach:  Time Complexity for inqueue O(n) and dequeue O(1)**\n",
        "\n",
        "*  Take two stacks, one input stack and another output stack\n",
        "*  **Push:** if input stack is not empty then put all elements of input stack in output after that push again all elements form output stack into input stack\n",
        "*  **Pop:** pop item from input stack\n"
      ],
      "metadata": {
        "id": "D_HgF57VB7pn"
      }
    },
    {
      "cell_type": "code",
      "source": [
        "\n",
        "class Queue:\n",
        "    def __init__(self):\n",
        "        self.s1=[]\n",
        "        self.s2=[]\n",
        "\n",
        "    def enqueue(self,X):\n",
        "        while self.s1:\n",
        "            self.s2.append(self.s1.pop())\n",
        "        self.s1.append(X)\n",
        "        while self.s2:\n",
        "            self.s1.append(self.s2.pop())\n",
        "\n",
        "    def dequeue(self):\n",
        "        return self.s1.pop()"
      ],
      "metadata": {
        "id": "FzD63kSQCtIJ"
      },
      "execution_count": 9,
      "outputs": []
    }
  ]
}