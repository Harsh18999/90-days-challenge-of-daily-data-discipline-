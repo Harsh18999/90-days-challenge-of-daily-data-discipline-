{
  "nbformat": 4,
  "nbformat_minor": 0,
  "metadata": {
    "colab": {
      "provenance": [],
      "authorship_tag": "ABX9TyPNcS4ISPn2M95c6DOZ9kVv"
    },
    "kernelspec": {
      "name": "python3",
      "display_name": "Python 3"
    },
    "language_info": {
      "name": "python"
    }
  },
  "cells": [
    {
      "cell_type": "markdown",
      "source": [
        "# **Problem Statement - 1**\n",
        "**Reverse a string using Stack**\n",
        "\n",
        "You are given a string S, the task is to reverse the string using stack.\n",
        "\n",
        "[Problem Link](https://www.geeksforgeeks.org/problems/reverse-a-string-using-stack/1?page=1&category=Stack,Queue&status=unsolved&sortBy=submissions)"
      ],
      "metadata": {
        "id": "Wdgjz09S9tGU"
      }
    },
    {
      "cell_type": "markdown",
      "source": [
        "### **Approach  ( Time Complexity O(n) and Space Complexity O(n) )**\n",
        "\n",
        "**Create a stack:** An empty list stack is initialized to store characters from the input string.\n",
        "\n",
        "**Push characters onto the stack:** Each character i in the input string S is appended to the stack. This effectively pushes the characters onto the stack in reverse order.\n",
        "\n",
        "**Pop characters and build the reversed string:** An empty string S is created to store the reversed result. While the stack is not empty, the top element is popped and appended to the end of the S string, building the reversed version.\n",
        "\n",
        "**Return the reversed string:** The final value of the S string, which now contains the reversed version of the input, is returned.\n",
        "\n",
        "\n",
        "\n",
        "\n"
      ],
      "metadata": {
        "id": "L8Zpbqsnf2eJ"
      }
    },
    {
      "cell_type": "code",
      "source": [
        "def reverse(S):\n",
        "\n",
        "    #Add code here\n",
        "    stack = [ ]\n",
        "    for i in S:\n",
        "        stack.append(i)\n",
        "    S = ''\n",
        "    while stack:\n",
        "        S = S + stack.pop()\n",
        "    return S"
      ],
      "metadata": {
        "id": "21IJefxed_zF"
      },
      "execution_count": null,
      "outputs": []
    },
    {
      "cell_type": "markdown",
      "source": [
        "# **Problem Statement - 2**\n",
        "\n",
        "**Generate Parentheses**\n",
        "\n",
        "Given an integer N representing the number of pairs of parentheses, the task is to generate all combinations of well-formed(balanced) parentheses.\n",
        "\n",
        "\n",
        "\n",
        "[Problem Link](https://colab.research.google.com/drive/1hkixntK0oj26AUDTrYUkUlhPV4FMjOSZ#scrollTo=P7qh7DHV8xVd)"
      ],
      "metadata": {
        "id": "P7qh7DHV8xVd"
      }
    },
    {
      "cell_type": "markdown",
      "source": [
        "### **Approach  ( Time Complexity O(n) and Space Complexity O(n) )**\n",
        "\n",
        "\n",
        "**Initialization:**\n",
        "* **res:** An empty list to store the generated valid parentheses combinations.\n",
        "*    **str:** A list of length 2n initialized with empty strings to represent the parentheses combination.\n",
        "\n",
        "**Recursive function Paranthesis:**\n",
        "    \n",
        "*  **Base case:** If close == n, all n pairs of parentheses have been added, and the current combination is added to the res list.\n",
        "* **Recursive cases:**\n",
        "    * If close < open, a closing parenthesis ) can be added to the current position pos. Recursively call Paranthesis with pos+1, n, open, and close+1.\n",
        "    * If open < n, an opening parenthesis ( can be added to the current position pos. Recursively call Paranthesis with pos+1, n, open+1, and close.\n",
        "\n",
        "**Return result:** The AllParenthesis method returns the res list, which contains all valid parentheses combinations for the given n."
      ],
      "metadata": {
        "id": "2mK8oT6weIJh"
      }
    },
    {
      "cell_type": "code",
      "source": [
        "class Solution:\n",
        "\n",
        "    def AllParenthesis(self,n):\n",
        "        #code here\n",
        "        self.res = [ ]\n",
        "        str = ['']*n*2\n",
        "        self.Paranthesis(str,0,n,0,0)\n",
        "        return self.res\n",
        "\n",
        "    def Paranthesis(self,str,pos,n,open,close):\n",
        "        if close == n:\n",
        "            self.res.append(''.join(str))\n",
        "        else:\n",
        "            if close < open:\n",
        "                str[pos] = ')'\n",
        "                self.Paranthesis(str,pos+1,n,open,close+1)\n",
        "            if open < n:\n",
        "                str[pos] = '('\n",
        "                self.Paranthesis(str,pos+1,n,open+1,close)"
      ],
      "metadata": {
        "id": "d5ZfbfHod_qH"
      },
      "execution_count": null,
      "outputs": []
    },
    {
      "cell_type": "markdown",
      "source": [
        "# **Thank You..**"
      ],
      "metadata": {
        "id": "Vnswq_x2gudi"
      }
    }
  ]
}