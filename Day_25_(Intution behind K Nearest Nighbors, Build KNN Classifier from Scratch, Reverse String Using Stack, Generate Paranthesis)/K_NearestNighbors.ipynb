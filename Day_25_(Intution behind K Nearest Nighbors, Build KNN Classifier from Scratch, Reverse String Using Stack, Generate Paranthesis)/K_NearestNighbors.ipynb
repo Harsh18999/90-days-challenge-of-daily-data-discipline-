{
  "nbformat": 4,
  "nbformat_minor": 0,
  "metadata": {
    "colab": {
      "provenance": [],
      "authorship_tag": "ABX9TyNe1+b7lWAgxvAENVl2ibWo"
    },
    "kernelspec": {
      "name": "python3",
      "display_name": "Python 3"
    },
    "language_info": {
      "name": "python"
    }
  },
  "cells": [
    {
      "cell_type": "markdown",
      "source": [
        "**K-Nearest Nighbors Classifier**"
      ],
      "metadata": {
        "id": "NVUvWcPtJC4V"
      }
    },
    {
      "cell_type": "code",
      "source": [
        "\n",
        "class KNearestNighbors:\n",
        "\n",
        "  def __init__(self,distance_matrix):\n",
        "    self.distance_matrix = distance_matrix\n",
        "\n",
        "  def get_distance_matrix(self,x_train,test_point):\n",
        "    dis = 0\n",
        "    if self.distance_matrix == 'euclidian':\n",
        "      for i in range(len(x_train)-1):\n",
        "        dis += (x_train[i] - test_point[i])**2\n",
        "      euclidian_distance = np.sqrt(dis)\n",
        "      return euclidian_distance\n",
        "    else:\n",
        "      for i in range(len(x_train)-1):\n",
        "        dis += abs(x_train[i]-test_point[i])\n",
        "      return dis\n",
        "\n",
        "  def Predict(self,x_train,test_point,k):\n",
        "\n",
        "    distance_list = []\n",
        "\n",
        "    for training_data in x_train:\n",
        "      distance = self.get_distance_matrix(training_data,test_point)\n",
        "      distance_list.append([training_data[-1],distance])\n",
        "\n",
        "    distance_list.sort(key=lambda x:x[1])\n",
        "    nearest_nighbors = [distance_list[x][0] for x in range(k)]\n",
        "    return max(set(nearest_nighbors),key=nearest_nighbors.count)\n",
        "\n"
      ],
      "metadata": {
        "id": "-UEfeGtvDcBy"
      },
      "execution_count": null,
      "outputs": []
    }
  ]
}