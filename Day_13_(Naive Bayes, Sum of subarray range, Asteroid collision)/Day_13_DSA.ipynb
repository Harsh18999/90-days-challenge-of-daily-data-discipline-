{
  "nbformat": 4,
  "nbformat_minor": 0,
  "metadata": {
    "colab": {
      "provenance": [],
      "authorship_tag": "ABX9TyPwB5gI1l6Pfu4cMBV6Zwtn"
    },
    "kernelspec": {
      "name": "python3",
      "display_name": "Python 3"
    },
    "language_info": {
      "name": "python"
    }
  },
  "cells": [
    {
      "cell_type": "markdown",
      "source": [
        "# **Problem Statement - 1**\n",
        "\n",
        "**Sum of subarray ranges**\n",
        "\n",
        "Given an integer array arr[], the range of a subarray is defined as the difference between the largest and smallest elements within that subarray. Your task is to return the sum of the ranges of all possible subarrays in the array.\n",
        "\n",
        "[Problem Link](https://www.geeksforgeeks.org/problems/sum-of-subarray-ranges/1)"
      ],
      "metadata": {
        "id": "P7qh7DHV8xVd"
      }
    },
    {
      "cell_type": "markdown",
      "source": [
        "### **Approach  ( Time Complexity O(n) and Space Complexity O(k) )**\n",
        "\n",
        "**Helper Functions (PSEE, NSE, NGE, PGEE):**\n",
        "\n",
        "*   **PSEE (Previous Smaller Element's Index) and NSE (Next Smaller Element's Index):**\n",
        "\n",
        "     These calculate the closest smaller element's index before and after each element.\n",
        "\n",
        "*   **PGEE (Previous Greater Element's Index) and NGE (Next Greater Element's Index):**\n",
        "\n",
        "     These calculate the closest greater element's index before and after each element.\n",
        "\n",
        "**Calculate Subarray Contributions:**\n",
        "\n",
        "For each element, compute how many subarrays have it as the maximum using PGEE and NGE and how many have it as the minimum using PSEE and NSE.\n",
        "\n",
        "**Compute Contribution to Sum:**\n",
        "\n",
        "Calculate the contribution of each element when it's the maximum and subtract its contribution when it's the minimum for all subarrays that include it.\n",
        "\n",
        "**Return the Final Sum:**\n",
        "\n",
        "The difference between the maximum and minimum contributions gives the range sum for all subarrays."
      ],
      "metadata": {
        "id": "2mK8oT6weIJh"
      }
    },
    {
      "cell_type": "code",
      "execution_count": null,
      "metadata": {
        "id": "nmQi3RKtcxZ8"
      },
      "outputs": [],
      "source": [
        "class Solution:\n",
        "    def PSEE(self,arr):\n",
        "        stack = [ ]\n",
        "        n = len(arr)\n",
        "        res = [-1]*n\n",
        "\n",
        "        for i in range(n):\n",
        "            while stack and arr[stack[-1]] > arr[i]:\n",
        "                stack.pop()\n",
        "            if not stack:\n",
        "                pass\n",
        "            else:\n",
        "                res[i] = stack[-1]\n",
        "            stack.append(i)\n",
        "        return res\n",
        "\n",
        "    def NSE(self,arr):\n",
        "        stack = [ ]\n",
        "        n = len(arr)\n",
        "        res = [n]*n\n",
        "\n",
        "        for i in reversed(range(n)):\n",
        "            while stack and arr[stack[-1]] >= arr[i]:\n",
        "                stack.pop()\n",
        "            if not stack:\n",
        "                pass\n",
        "            else:\n",
        "                res[i] = stack[-1]\n",
        "            stack.append(i)\n",
        "        return res\n",
        "\n",
        "    def NGE(self,arr):\n",
        "        stack = [ ]\n",
        "        n = len(arr)\n",
        "        res = [n]*n\n",
        "\n",
        "        for i in reversed(range(n)):\n",
        "            while stack and arr[stack[-1]] <= arr[i]:\n",
        "                stack.pop()\n",
        "            if not stack:\n",
        "                pass\n",
        "            else:\n",
        "                res[i] = stack[-1]\n",
        "            stack.append(i)\n",
        "        return res\n",
        "\n",
        "    def PGEE(self,arr):\n",
        "        stack = [ ]\n",
        "        n = len(arr)\n",
        "        res = [-1]*n\n",
        "\n",
        "        for i in range(n):\n",
        "            while stack and arr[stack[-1]] < arr[i]:\n",
        "                stack.pop()\n",
        "            if not stack:\n",
        "                pass\n",
        "            else:\n",
        "                res[i] = stack[-1]\n",
        "            stack.append(i)\n",
        "        return res\n",
        "\n",
        "    def sum_of_subarray_range(self,arr):\n",
        "        n = len(arr)\n",
        "        sum = 0\n",
        "\n",
        "        psee = self.PSEE(arr)\n",
        "        nse = self.NSE(arr)\n",
        "\n",
        "        pgee = self.PGEE(arr)\n",
        "        nge = self.NGE(arr)\n",
        "\n",
        "        for i in range(n):\n",
        "            idx_pgee = pgee[i]\n",
        "            idx_nge = nge[i]\n",
        "\n",
        "            idx_psee = psee[i]\n",
        "            idx_nse = nse[i]\n",
        "\n",
        "            max_left_subarray = i - idx_pgee\n",
        "            max_right_subarray = idx_nge - i\n",
        "\n",
        "            min_left_subarray = i - idx_psee\n",
        "            min_right_subarray = idx_nse - i\n",
        "\n",
        "            max_subarray_len = max_left_subarray*max_right_subarray\n",
        "            max_indivisual_contri = arr[i]*max_subarray_len\n",
        "\n",
        "            min_subarray_len = min_left_subarray * min_right_subarray\n",
        "            min_indivisual_contri = arr[i]*min_subarray_len\n",
        "\n",
        "            sum += (max_indivisual_contri - min_indivisual_contri)\n",
        "\n",
        "        return sum\n",
        "\n",
        "\n",
        "    def subarrayRanges(self, arr):\n",
        "        # Code here\n",
        "        return self.sum_of_subarray_range(arr)"
      ]
    },
    {
      "cell_type": "markdown",
      "source": [
        "# **Problem Statement - 2**\n",
        "**Asteroid Collision**\n",
        "\n",
        "Given an unsorted array arr containing both positive and negative numbers. Your task is to create an array of alternate positive and negative numbers without changing the relative order of positive and negative numbers.\n",
        "\n",
        "[Problem Link](https://www.geeksforgeeks.org/problems/asteroid-collision/1)"
      ],
      "metadata": {
        "id": "Wdgjz09S9tGU"
      }
    },
    {
      "cell_type": "markdown",
      "source": [
        "### **Approach  ( Time Complexity O(n) and Space Complexity O(n) )**\n",
        "\n",
        "**Initialize a Stack:** Use a stack to simulate the collision process of asteroids.\n",
        "\n",
        "**Iterate Through Asteroids:** Loop through the asteroids list and process each asteroid.\n",
        "\n",
        "**Check for Potential Collision:**\n",
        "\n",
        "*  If the current asteroid is negative (moving left) and the top of the stack is positive (moving right), a collision may occur.\n",
        "*  If the top asteroid in the stack is smaller than the absolute value of the current asteroid, pop it from the stack (the larger asteroid survives). Continue checking for more collisions.\n",
        "*  If both asteroids have the same size, pop the top asteroid from the stack (both are destroyed), and stop further processing.\n",
        "*  If the top asteroid is larger, stop the collision process (the larger one survives).\n",
        "\n",
        "**No Collision:** If no collision occurs, add the asteroid to the stack.\n",
        "\n",
        "**Return the Stack:** After all collisions are processed, return the stack, which represents the remaining asteroids after all collisions."
      ],
      "metadata": {
        "id": "L8Zpbqsnf2eJ"
      }
    },
    {
      "cell_type": "code",
      "source": [
        "class Solution:\n",
        "    def asteroidCollision(self, N, asteroids):\n",
        "        stack = []\n",
        "\n",
        "        for asteroid in asteroids:\n",
        "            while stack and asteroid < 0 < stack[-1]:\n",
        "                if stack[-1] < -asteroid:\n",
        "                    stack.pop()\n",
        "                    continue\n",
        "                elif stack[-1] == -asteroid:\n",
        "                    stack.pop()\n",
        "                break\n",
        "\n",
        "            else:\n",
        "                stack.append(asteroid)\n",
        "\n",
        "        return stack"
      ],
      "metadata": {
        "id": "21IJefxed_zF"
      },
      "execution_count": null,
      "outputs": []
    },
    {
      "cell_type": "markdown",
      "source": [
        "# **Thank You..**"
      ],
      "metadata": {
        "id": "Vnswq_x2gudi"
      }
    }
  ]
}