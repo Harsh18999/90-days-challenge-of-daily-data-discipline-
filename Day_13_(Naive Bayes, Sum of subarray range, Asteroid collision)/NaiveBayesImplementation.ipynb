{
  "nbformat": 4,
  "nbformat_minor": 0,
  "metadata": {
    "colab": {
      "provenance": [],
      "authorship_tag": "ABX9TyO2rrVD9DXMSDeZ3/cwdbQb"
    },
    "kernelspec": {
      "name": "python3",
      "display_name": "Python 3"
    },
    "language_info": {
      "name": "python"
    }
  },
  "cells": [
    {
      "cell_type": "code",
      "execution_count": 1,
      "metadata": {
        "id": "FolsT_UbSx41"
      },
      "outputs": [],
      "source": [
        "import numpy as np\n",
        "import pandas as pd\n",
        "import matplotlib.pyplot as plt\n",
        "import seaborn as sns"
      ]
    },
    {
      "cell_type": "code",
      "source": [
        "data = pd.read_csv('/content/play_tennis.csv')"
      ],
      "metadata": {
        "id": "iigw9y5aUuTA"
      },
      "execution_count": 59,
      "outputs": []
    },
    {
      "cell_type": "code",
      "source": [
        "data.head()"
      ],
      "metadata": {
        "colab": {
          "base_uri": "https://localhost:8080/",
          "height": 206
        },
        "id": "ejYa4MPYVBj6",
        "outputId": "e3acef0b-1898-4c5b-a489-c288bffbfa7e"
      },
      "execution_count": 60,
      "outputs": [
        {
          "output_type": "execute_result",
          "data": {
            "text/plain": [
              "  day   outlook  temp humidity    wind play\n",
              "0  D1     Sunny   Hot     High    Weak   No\n",
              "1  D2     Sunny   Hot     High  Strong   No\n",
              "2  D3  Overcast   Hot     High    Weak  Yes\n",
              "3  D4      Rain  Mild     High    Weak  Yes\n",
              "4  D5      Rain  Cool   Normal    Weak  Yes"
            ],
            "text/html": [
              "\n",
              "  <div id=\"df-bd66fbcd-1d34-4d18-895d-f74010dfd96d\" class=\"colab-df-container\">\n",
              "    <div>\n",
              "<style scoped>\n",
              "    .dataframe tbody tr th:only-of-type {\n",
              "        vertical-align: middle;\n",
              "    }\n",
              "\n",
              "    .dataframe tbody tr th {\n",
              "        vertical-align: top;\n",
              "    }\n",
              "\n",
              "    .dataframe thead th {\n",
              "        text-align: right;\n",
              "    }\n",
              "</style>\n",
              "<table border=\"1\" class=\"dataframe\">\n",
              "  <thead>\n",
              "    <tr style=\"text-align: right;\">\n",
              "      <th></th>\n",
              "      <th>day</th>\n",
              "      <th>outlook</th>\n",
              "      <th>temp</th>\n",
              "      <th>humidity</th>\n",
              "      <th>wind</th>\n",
              "      <th>play</th>\n",
              "    </tr>\n",
              "  </thead>\n",
              "  <tbody>\n",
              "    <tr>\n",
              "      <th>0</th>\n",
              "      <td>D1</td>\n",
              "      <td>Sunny</td>\n",
              "      <td>Hot</td>\n",
              "      <td>High</td>\n",
              "      <td>Weak</td>\n",
              "      <td>No</td>\n",
              "    </tr>\n",
              "    <tr>\n",
              "      <th>1</th>\n",
              "      <td>D2</td>\n",
              "      <td>Sunny</td>\n",
              "      <td>Hot</td>\n",
              "      <td>High</td>\n",
              "      <td>Strong</td>\n",
              "      <td>No</td>\n",
              "    </tr>\n",
              "    <tr>\n",
              "      <th>2</th>\n",
              "      <td>D3</td>\n",
              "      <td>Overcast</td>\n",
              "      <td>Hot</td>\n",
              "      <td>High</td>\n",
              "      <td>Weak</td>\n",
              "      <td>Yes</td>\n",
              "    </tr>\n",
              "    <tr>\n",
              "      <th>3</th>\n",
              "      <td>D4</td>\n",
              "      <td>Rain</td>\n",
              "      <td>Mild</td>\n",
              "      <td>High</td>\n",
              "      <td>Weak</td>\n",
              "      <td>Yes</td>\n",
              "    </tr>\n",
              "    <tr>\n",
              "      <th>4</th>\n",
              "      <td>D5</td>\n",
              "      <td>Rain</td>\n",
              "      <td>Cool</td>\n",
              "      <td>Normal</td>\n",
              "      <td>Weak</td>\n",
              "      <td>Yes</td>\n",
              "    </tr>\n",
              "  </tbody>\n",
              "</table>\n",
              "</div>\n",
              "    <div class=\"colab-df-buttons\">\n",
              "\n",
              "  <div class=\"colab-df-container\">\n",
              "    <button class=\"colab-df-convert\" onclick=\"convertToInteractive('df-bd66fbcd-1d34-4d18-895d-f74010dfd96d')\"\n",
              "            title=\"Convert this dataframe to an interactive table.\"\n",
              "            style=\"display:none;\">\n",
              "\n",
              "  <svg xmlns=\"http://www.w3.org/2000/svg\" height=\"24px\" viewBox=\"0 -960 960 960\">\n",
              "    <path d=\"M120-120v-720h720v720H120Zm60-500h600v-160H180v160Zm220 220h160v-160H400v160Zm0 220h160v-160H400v160ZM180-400h160v-160H180v160Zm440 0h160v-160H620v160ZM180-180h160v-160H180v160Zm440 0h160v-160H620v160Z\"/>\n",
              "  </svg>\n",
              "    </button>\n",
              "\n",
              "  <style>\n",
              "    .colab-df-container {\n",
              "      display:flex;\n",
              "      gap: 12px;\n",
              "    }\n",
              "\n",
              "    .colab-df-convert {\n",
              "      background-color: #E8F0FE;\n",
              "      border: none;\n",
              "      border-radius: 50%;\n",
              "      cursor: pointer;\n",
              "      display: none;\n",
              "      fill: #1967D2;\n",
              "      height: 32px;\n",
              "      padding: 0 0 0 0;\n",
              "      width: 32px;\n",
              "    }\n",
              "\n",
              "    .colab-df-convert:hover {\n",
              "      background-color: #E2EBFA;\n",
              "      box-shadow: 0px 1px 2px rgba(60, 64, 67, 0.3), 0px 1px 3px 1px rgba(60, 64, 67, 0.15);\n",
              "      fill: #174EA6;\n",
              "    }\n",
              "\n",
              "    .colab-df-buttons div {\n",
              "      margin-bottom: 4px;\n",
              "    }\n",
              "\n",
              "    [theme=dark] .colab-df-convert {\n",
              "      background-color: #3B4455;\n",
              "      fill: #D2E3FC;\n",
              "    }\n",
              "\n",
              "    [theme=dark] .colab-df-convert:hover {\n",
              "      background-color: #434B5C;\n",
              "      box-shadow: 0px 1px 3px 1px rgba(0, 0, 0, 0.15);\n",
              "      filter: drop-shadow(0px 1px 2px rgba(0, 0, 0, 0.3));\n",
              "      fill: #FFFFFF;\n",
              "    }\n",
              "  </style>\n",
              "\n",
              "    <script>\n",
              "      const buttonEl =\n",
              "        document.querySelector('#df-bd66fbcd-1d34-4d18-895d-f74010dfd96d button.colab-df-convert');\n",
              "      buttonEl.style.display =\n",
              "        google.colab.kernel.accessAllowed ? 'block' : 'none';\n",
              "\n",
              "      async function convertToInteractive(key) {\n",
              "        const element = document.querySelector('#df-bd66fbcd-1d34-4d18-895d-f74010dfd96d');\n",
              "        const dataTable =\n",
              "          await google.colab.kernel.invokeFunction('convertToInteractive',\n",
              "                                                    [key], {});\n",
              "        if (!dataTable) return;\n",
              "\n",
              "        const docLinkHtml = 'Like what you see? Visit the ' +\n",
              "          '<a target=\"_blank\" href=https://colab.research.google.com/notebooks/data_table.ipynb>data table notebook</a>'\n",
              "          + ' to learn more about interactive tables.';\n",
              "        element.innerHTML = '';\n",
              "        dataTable['output_type'] = 'display_data';\n",
              "        await google.colab.output.renderOutput(dataTable, element);\n",
              "        const docLink = document.createElement('div');\n",
              "        docLink.innerHTML = docLinkHtml;\n",
              "        element.appendChild(docLink);\n",
              "      }\n",
              "    </script>\n",
              "  </div>\n",
              "\n",
              "\n",
              "<div id=\"df-57e27fc9-9547-443b-9988-061b8acc3d6b\">\n",
              "  <button class=\"colab-df-quickchart\" onclick=\"quickchart('df-57e27fc9-9547-443b-9988-061b8acc3d6b')\"\n",
              "            title=\"Suggest charts\"\n",
              "            style=\"display:none;\">\n",
              "\n",
              "<svg xmlns=\"http://www.w3.org/2000/svg\" height=\"24px\"viewBox=\"0 0 24 24\"\n",
              "     width=\"24px\">\n",
              "    <g>\n",
              "        <path d=\"M19 3H5c-1.1 0-2 .9-2 2v14c0 1.1.9 2 2 2h14c1.1 0 2-.9 2-2V5c0-1.1-.9-2-2-2zM9 17H7v-7h2v7zm4 0h-2V7h2v10zm4 0h-2v-4h2v4z\"/>\n",
              "    </g>\n",
              "</svg>\n",
              "  </button>\n",
              "\n",
              "<style>\n",
              "  .colab-df-quickchart {\n",
              "      --bg-color: #E8F0FE;\n",
              "      --fill-color: #1967D2;\n",
              "      --hover-bg-color: #E2EBFA;\n",
              "      --hover-fill-color: #174EA6;\n",
              "      --disabled-fill-color: #AAA;\n",
              "      --disabled-bg-color: #DDD;\n",
              "  }\n",
              "\n",
              "  [theme=dark] .colab-df-quickchart {\n",
              "      --bg-color: #3B4455;\n",
              "      --fill-color: #D2E3FC;\n",
              "      --hover-bg-color: #434B5C;\n",
              "      --hover-fill-color: #FFFFFF;\n",
              "      --disabled-bg-color: #3B4455;\n",
              "      --disabled-fill-color: #666;\n",
              "  }\n",
              "\n",
              "  .colab-df-quickchart {\n",
              "    background-color: var(--bg-color);\n",
              "    border: none;\n",
              "    border-radius: 50%;\n",
              "    cursor: pointer;\n",
              "    display: none;\n",
              "    fill: var(--fill-color);\n",
              "    height: 32px;\n",
              "    padding: 0;\n",
              "    width: 32px;\n",
              "  }\n",
              "\n",
              "  .colab-df-quickchart:hover {\n",
              "    background-color: var(--hover-bg-color);\n",
              "    box-shadow: 0 1px 2px rgba(60, 64, 67, 0.3), 0 1px 3px 1px rgba(60, 64, 67, 0.15);\n",
              "    fill: var(--button-hover-fill-color);\n",
              "  }\n",
              "\n",
              "  .colab-df-quickchart-complete:disabled,\n",
              "  .colab-df-quickchart-complete:disabled:hover {\n",
              "    background-color: var(--disabled-bg-color);\n",
              "    fill: var(--disabled-fill-color);\n",
              "    box-shadow: none;\n",
              "  }\n",
              "\n",
              "  .colab-df-spinner {\n",
              "    border: 2px solid var(--fill-color);\n",
              "    border-color: transparent;\n",
              "    border-bottom-color: var(--fill-color);\n",
              "    animation:\n",
              "      spin 1s steps(1) infinite;\n",
              "  }\n",
              "\n",
              "  @keyframes spin {\n",
              "    0% {\n",
              "      border-color: transparent;\n",
              "      border-bottom-color: var(--fill-color);\n",
              "      border-left-color: var(--fill-color);\n",
              "    }\n",
              "    20% {\n",
              "      border-color: transparent;\n",
              "      border-left-color: var(--fill-color);\n",
              "      border-top-color: var(--fill-color);\n",
              "    }\n",
              "    30% {\n",
              "      border-color: transparent;\n",
              "      border-left-color: var(--fill-color);\n",
              "      border-top-color: var(--fill-color);\n",
              "      border-right-color: var(--fill-color);\n",
              "    }\n",
              "    40% {\n",
              "      border-color: transparent;\n",
              "      border-right-color: var(--fill-color);\n",
              "      border-top-color: var(--fill-color);\n",
              "    }\n",
              "    60% {\n",
              "      border-color: transparent;\n",
              "      border-right-color: var(--fill-color);\n",
              "    }\n",
              "    80% {\n",
              "      border-color: transparent;\n",
              "      border-right-color: var(--fill-color);\n",
              "      border-bottom-color: var(--fill-color);\n",
              "    }\n",
              "    90% {\n",
              "      border-color: transparent;\n",
              "      border-bottom-color: var(--fill-color);\n",
              "    }\n",
              "  }\n",
              "</style>\n",
              "\n",
              "  <script>\n",
              "    async function quickchart(key) {\n",
              "      const quickchartButtonEl =\n",
              "        document.querySelector('#' + key + ' button');\n",
              "      quickchartButtonEl.disabled = true;  // To prevent multiple clicks.\n",
              "      quickchartButtonEl.classList.add('colab-df-spinner');\n",
              "      try {\n",
              "        const charts = await google.colab.kernel.invokeFunction(\n",
              "            'suggestCharts', [key], {});\n",
              "      } catch (error) {\n",
              "        console.error('Error during call to suggestCharts:', error);\n",
              "      }\n",
              "      quickchartButtonEl.classList.remove('colab-df-spinner');\n",
              "      quickchartButtonEl.classList.add('colab-df-quickchart-complete');\n",
              "    }\n",
              "    (() => {\n",
              "      let quickchartButtonEl =\n",
              "        document.querySelector('#df-57e27fc9-9547-443b-9988-061b8acc3d6b button');\n",
              "      quickchartButtonEl.style.display =\n",
              "        google.colab.kernel.accessAllowed ? 'block' : 'none';\n",
              "    })();\n",
              "  </script>\n",
              "</div>\n",
              "\n",
              "    </div>\n",
              "  </div>\n"
            ],
            "application/vnd.google.colaboratory.intrinsic+json": {
              "type": "dataframe",
              "variable_name": "data",
              "summary": "{\n  \"name\": \"data\",\n  \"rows\": 14,\n  \"fields\": [\n    {\n      \"column\": \"day\",\n      \"properties\": {\n        \"dtype\": \"string\",\n        \"num_unique_values\": 14,\n        \"samples\": [\n          \"D10\",\n          \"D12\",\n          \"D1\"\n        ],\n        \"semantic_type\": \"\",\n        \"description\": \"\"\n      }\n    },\n    {\n      \"column\": \"outlook\",\n      \"properties\": {\n        \"dtype\": \"category\",\n        \"num_unique_values\": 3,\n        \"samples\": [\n          \"Sunny\",\n          \"Overcast\",\n          \"Rain\"\n        ],\n        \"semantic_type\": \"\",\n        \"description\": \"\"\n      }\n    },\n    {\n      \"column\": \"temp\",\n      \"properties\": {\n        \"dtype\": \"category\",\n        \"num_unique_values\": 3,\n        \"samples\": [\n          \"Hot\",\n          \"Mild\",\n          \"Cool\"\n        ],\n        \"semantic_type\": \"\",\n        \"description\": \"\"\n      }\n    },\n    {\n      \"column\": \"humidity\",\n      \"properties\": {\n        \"dtype\": \"category\",\n        \"num_unique_values\": 2,\n        \"samples\": [\n          \"Normal\",\n          \"High\"\n        ],\n        \"semantic_type\": \"\",\n        \"description\": \"\"\n      }\n    },\n    {\n      \"column\": \"wind\",\n      \"properties\": {\n        \"dtype\": \"category\",\n        \"num_unique_values\": 2,\n        \"samples\": [\n          \"Strong\",\n          \"Weak\"\n        ],\n        \"semantic_type\": \"\",\n        \"description\": \"\"\n      }\n    },\n    {\n      \"column\": \"play\",\n      \"properties\": {\n        \"dtype\": \"category\",\n        \"num_unique_values\": 2,\n        \"samples\": [\n          \"Yes\",\n          \"No\"\n        ],\n        \"semantic_type\": \"\",\n        \"description\": \"\"\n      }\n    }\n  ]\n}"
            }
          },
          "metadata": {},
          "execution_count": 60
        }
      ]
    },
    {
      "cell_type": "code",
      "source": [
        "res = { }\n",
        "for col in data.drop(columns=['day','play']).columns:\n",
        "   d = {}\n",
        "   for i in data.play.unique():\n",
        "       tab = dict(data[data.play == i][col].value_counts())\n",
        "       n = sum(tab.values())\n",
        "       for j in data[col].unique():\n",
        "           if j in tab:\n",
        "              tab[j]/=n\n",
        "           else:\n",
        "              tab[j]=0\n",
        "       d[i] = tab\n",
        "   res[col]=d\n",
        "print(res)"
      ],
      "metadata": {
        "colab": {
          "base_uri": "https://localhost:8080/"
        },
        "id": "KUt1MUeDVC-R",
        "outputId": "f1d640a2-6888-474e-b92d-44c23d2509bb"
      },
      "execution_count": 33,
      "outputs": [
        {
          "output_type": "stream",
          "name": "stdout",
          "text": [
            "{'outlook': {'No': {'Sunny': 0.6, 'Rain': 0.4, 'Overcast': 0}, 'Yes': {'Overcast': 0.4444444444444444, 'Rain': 0.3333333333333333, 'Sunny': 0.2222222222222222}}, 'temp': {'No': {'Hot': 0.4, 'Mild': 0.4, 'Cool': 0.2}, 'Yes': {'Mild': 0.4444444444444444, 'Cool': 0.3333333333333333, 'Hot': 0.2222222222222222}}, 'humidity': {'No': {'High': 0.8, 'Normal': 0.2}, 'Yes': {'Normal': 0.6666666666666666, 'High': 0.3333333333333333}}, 'wind': {'No': {'Strong': 0.6, 'Weak': 0.4}, 'Yes': {'Weak': 0.6666666666666666, 'Strong': 0.3333333333333333}}}\n"
          ]
        }
      ]
    },
    {
      "cell_type": "code",
      "source": [
        "def outlook(i):\n",
        "  if i == 'Sunny':\n",
        "    return 0\n",
        "  elif i == 'Overcast':\n",
        "    return 1\n",
        "  elif i == 'Rain' :\n",
        "    return 2\n",
        "  elif i == 'Hot':\n",
        "    return 0\n",
        "  elif i == 'Mild':\n",
        "    return 1\n",
        "  elif i == 'Cool':\n",
        "    return 2\n",
        "  elif i == 'High':\n",
        "    return 0\n",
        "  elif i == 'Normal':\n",
        "    return 1\n",
        "  elif i == 'Strong':\n",
        "    return 0\n",
        "  elif i == 'Weak':\n",
        "    return 1\n",
        "  elif i == 'No':\n",
        "    return 0\n",
        "  elif i == 'Yes':\n",
        "    return 1\n",
        "  else:\n",
        "    return i\n",
        "for i in data.columns:\n",
        "    data[i]=data[i].apply(outlook)"
      ],
      "metadata": {
        "id": "7oiSEmdwkMyU"
      },
      "execution_count": 51,
      "outputs": []
    },
    {
      "cell_type": "code",
      "source": [
        "data.drop(columns=['day'],inplace=True)"
      ],
      "metadata": {
        "id": "PuQ6VPJ-lCtk"
      },
      "execution_count": 61,
      "outputs": []
    },
    {
      "cell_type": "code",
      "source": [
        "X = data.drop(columns=[\"play\"]).values\n",
        "y = data.play.values"
      ],
      "metadata": {
        "id": "Q6C7IYFYn1uw"
      },
      "execution_count": 57,
      "outputs": []
    },
    {
      "cell_type": "code",
      "source": [
        "res = { }\n",
        "target = 'play'\n",
        "for col in data.drop(columns=[target]).columns:\n",
        "   d = {}\n",
        "   for i in data[target].unique():\n",
        "       tab = dict(data[data[target] == i][col].value_counts())\n",
        "       n = sum(tab.values())\n",
        "       for j in data[col].unique():\n",
        "           if j in tab:\n",
        "              tab[j]/=n\n",
        "           else:\n",
        "              tab[j]=0\n",
        "       d[i] = tab\n",
        "   res[col]=d\n",
        "print(res)"
      ],
      "metadata": {
        "colab": {
          "base_uri": "https://localhost:8080/"
        },
        "id": "TLxc-WjznQ37",
        "outputId": "c4548404-b3b0-4b1e-c9cb-1e078d923ea1"
      },
      "execution_count": 62,
      "outputs": [
        {
          "output_type": "stream",
          "name": "stdout",
          "text": [
            "{'outlook': {'No': {'Sunny': 0.6, 'Rain': 0.4, 'Overcast': 0}, 'Yes': {'Overcast': 0.4444444444444444, 'Rain': 0.3333333333333333, 'Sunny': 0.2222222222222222}}, 'temp': {'No': {'Hot': 0.4, 'Mild': 0.4, 'Cool': 0.2}, 'Yes': {'Mild': 0.4444444444444444, 'Cool': 0.3333333333333333, 'Hot': 0.2222222222222222}}, 'humidity': {'No': {'High': 0.8, 'Normal': 0.2}, 'Yes': {'Normal': 0.6666666666666666, 'High': 0.3333333333333333}}, 'wind': {'No': {'Strong': 0.6, 'Weak': 0.4}, 'Yes': {'Weak': 0.6666666666666666, 'Strong': 0.3333333333333333}}}\n"
          ]
        }
      ]
    },
    {
      "cell_type": "code",
      "source": [
        "def pridict(inp):\n",
        "  col = data.drop(columns=[target]).columns\n",
        "  r = { }\n",
        "  for i in np.unique(data[target]):\n",
        "    prob = 1\n",
        "    for j in range(len(inp)):\n",
        "      prob*=res[col[j]][i][inp[j]]\n",
        "    r[i]=prob\n",
        "  return max(r,key=r.get)\n",
        "pridict(['Sunny','Hot','High','Weak'])"
      ],
      "metadata": {
        "colab": {
          "base_uri": "https://localhost:8080/",
          "height": 35
        },
        "id": "N9Tm1E7lpwPx",
        "outputId": "eae7d237-efcb-4cd1-a4bb-e34c8408fed6"
      },
      "execution_count": 64,
      "outputs": [
        {
          "output_type": "execute_result",
          "data": {
            "text/plain": [
              "'No'"
            ],
            "application/vnd.google.colaboratory.intrinsic+json": {
              "type": "string"
            }
          },
          "metadata": {},
          "execution_count": 64
        }
      ]
    },
    {
      "cell_type": "code",
      "source": [
        "class NaiveBayes:\n",
        "\n",
        "  def __init__(self):\n",
        "    self.dic = { }\n",
        "    self.target = None\n",
        "\n",
        "  def fit (self,X,target):\n",
        "    self.target = target\n",
        "    for col in data.drop(columns=[self.target]).columns:\n",
        "       d = {}\n",
        "       for i in data[self.target].unique():\n",
        "           tab = dict(data[data[self.target] == i][col].value_counts())\n",
        "           n = sum(tab.values())\n",
        "           for j in data[col].unique():\n",
        "               if j in tab:\n",
        "                   tab[j]/=n\n",
        "               else:\n",
        "                   tab[j]=0\n",
        "           d[i] = tab\n",
        "       self.dic[col]=d\n",
        "    for i in np.unique(data[self.target]):\n",
        "      self.dic[i] = data[data[self.target]==i][target].count()/data[self.target].count()\n",
        "    return self.dic\n",
        "\n",
        "  def pridict(self,inp):\n",
        "    col = data.drop(columns=[target]).columns\n",
        "    r = { }\n",
        "    for i in np.unique(data[target]):\n",
        "        prob = self.dic[i]\n",
        "        for j in range(len(inp)):\n",
        "            prob*=res[col[j]][i][inp[j]]\n",
        "        r[i]=prob\n",
        "    return max(r,key=r.get)"
      ],
      "metadata": {
        "id": "9-k-aYHor_T8"
      },
      "execution_count": 74,
      "outputs": []
    },
    {
      "cell_type": "code",
      "source": [
        "Model = NaiveBayes()\n",
        "Model.fit(data,'play')"
      ],
      "metadata": {
        "colab": {
          "base_uri": "https://localhost:8080/"
        },
        "id": "EskE0KsNwhEB",
        "outputId": "772adcb3-7524-4a92-a9d5-9a1605e0639c"
      },
      "execution_count": 75,
      "outputs": [
        {
          "output_type": "execute_result",
          "data": {
            "text/plain": [
              "{'outlook': {'No': {'Sunny': 0.6, 'Rain': 0.4, 'Overcast': 0},\n",
              "  'Yes': {'Overcast': 0.4444444444444444,\n",
              "   'Rain': 0.3333333333333333,\n",
              "   'Sunny': 0.2222222222222222}},\n",
              " 'temp': {'No': {'Hot': 0.4, 'Mild': 0.4, 'Cool': 0.2},\n",
              "  'Yes': {'Mild': 0.4444444444444444,\n",
              "   'Cool': 0.3333333333333333,\n",
              "   'Hot': 0.2222222222222222}},\n",
              " 'humidity': {'No': {'High': 0.8, 'Normal': 0.2},\n",
              "  'Yes': {'Normal': 0.6666666666666666, 'High': 0.3333333333333333}},\n",
              " 'wind': {'No': {'Strong': 0.6, 'Weak': 0.4},\n",
              "  'Yes': {'Weak': 0.6666666666666666, 'Strong': 0.3333333333333333}},\n",
              " 'No': 0.35714285714285715,\n",
              " 'Yes': 0.6428571428571429}"
            ]
          },
          "metadata": {},
          "execution_count": 75
        }
      ]
    },
    {
      "cell_type": "code",
      "source": [
        "Model.pridict(list(data.iloc[5,:-1]))"
      ],
      "metadata": {
        "colab": {
          "base_uri": "https://localhost:8080/",
          "height": 35
        },
        "id": "8cA2Wi0mxZcP",
        "outputId": "fc7cbff8-0aed-41be-bfcf-9e0c9ec570de"
      },
      "execution_count": 83,
      "outputs": [
        {
          "output_type": "execute_result",
          "data": {
            "text/plain": [
              "'Yes'"
            ],
            "application/vnd.google.colaboratory.intrinsic+json": {
              "type": "string"
            }
          },
          "metadata": {},
          "execution_count": 83
        }
      ]
    },
    {
      "cell_type": "code",
      "source": [
        "c = 0\n",
        "inc = 0\n",
        "for i in range(len(data)):\n",
        "  if Model.pridict(list(data.iloc[i,:-1])) == data.iloc[i,-1]:\n",
        "    c+=1\n",
        "  else:\n",
        "    inc+=1\n",
        "print(c/(c+inc))"
      ],
      "metadata": {
        "colab": {
          "base_uri": "https://localhost:8080/"
        },
        "id": "fAXe7DBpyQs8",
        "outputId": "6ba25d10-0ec1-4e64-de6c-fea8a53e09d2"
      },
      "execution_count": 84,
      "outputs": [
        {
          "output_type": "stream",
          "name": "stdout",
          "text": [
            "0.9285714285714286\n"
          ]
        }
      ]
    }
  ]
}