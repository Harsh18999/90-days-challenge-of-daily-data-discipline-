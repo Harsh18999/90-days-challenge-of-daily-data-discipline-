{
  "nbformat": 4,
  "nbformat_minor": 0,
  "metadata": {
    "colab": {
      "provenance": [],
      "authorship_tag": "ABX9TyPsdWBz2TFb2K7RfLf5NmRg"
    },
    "kernelspec": {
      "name": "python3",
      "display_name": "Python 3"
    },
    "language_info": {
      "name": "python"
    }
  },
  "cells": [
    {
      "cell_type": "markdown",
      "source": [
        "# **Problem Statement - 1**\n",
        "\n",
        "**Sort a stack**\n",
        "\n",
        "Given a stack, the task is to sort it such that the top of the stack has the greatest element.\n",
        "\n",
        "\n",
        "\n",
        "[Problem Link](https://www.geeksforgeeks.org/problems/sort-a-stack/1?page=1&category=Stack,Queue&status=unsolved&sortBy=submissions)"
      ],
      "metadata": {
        "id": "P7qh7DHV8xVd"
      }
    },
    {
      "cell_type": "markdown",
      "source": [
        "### **Approach  ( Time Complexity O(n^2) and Space Complexity O(n) )**\n",
        "\n",
        "**Base Case:**\n",
        "\n",
        "*  If the stack s is empty, return immediately as there's nothing to sort.\n",
        "\n",
        "**Recursive Sorting:**\n",
        "\n",
        "*  Pop the top element of the stack and recursively call the Sorted function to sort the remaining elements of the stack.\n",
        "Insert the Popped Element Correctly:\n",
        "\n",
        "* Once the remaining stack is sorted, use the helper function SortInsert to insert the popped element (temp) in the correct position such that the stack remains sorted.\n",
        "\n",
        "**Helper Function SortInsert:**\n",
        "\n",
        "*  This function recursively inserts an element (temp) into the sorted stack:\n",
        "If the stack is empty or the top element is smaller than or equal to temp, push temp onto the stack.\n",
        "*  Otherwise, pop the top element, recursively call SortInsert to insert temp, and then push the popped element back.\n",
        "\n",
        "**Final Stack:**\n",
        "\n",
        "*  After all recursive calls, the stack will be sorted such that the largest element is on top."
      ],
      "metadata": {
        "id": "2mK8oT6weIJh"
      }
    },
    {
      "cell_type": "code",
      "execution_count": null,
      "metadata": {
        "id": "nmQi3RKtcxZ8"
      },
      "outputs": [],
      "source": [
        "class Solution:\n",
        "\n",
        "    def Sorted(self, s):\n",
        "        # Code here\n",
        "        if not s:\n",
        "            return\n",
        "        temp = s.pop()\n",
        "        self.Sorted(s)\n",
        "        self.SortInsert(s,temp)\n",
        "        return s\n",
        "\n",
        "    def SortInsert(self,s,temp):\n",
        "        if not s or s[-1] <= temp:\n",
        "            s.append(temp)\n",
        "        else:\n",
        "            elm = s.pop()\n",
        "            self.SortInsert(s,temp)\n",
        "            s.append(elm)"
      ]
    },
    {
      "cell_type": "markdown",
      "source": [
        "# **Problem Statement - 2**\n",
        "**Reverse Words**\n",
        "\n",
        "Given a String str, reverse the string without reversing its individual words. Words are separated by dots.\n",
        "\n",
        "[Problem Link](https://www.geeksforgeeks.org/problems/reverse-words-in-a-given-string5459/1)"
      ],
      "metadata": {
        "id": "Wdgjz09S9tGU"
      }
    },
    {
      "cell_type": "markdown",
      "source": [
        "### **Approach  ( Time Complexity O(n) and Space Complexity O(n) )**\n",
        "\n",
        "**Initialize Variables:**\n",
        "\n",
        "*  Start by storing the length of the input string str in a variable n and initialize an empty string res to store the result.\n",
        "\n",
        "**Iterate in Reverse:**\n",
        "\n",
        "*  Loop through the string in reverse order, checking each character. If a . is encountered, this indicates the end of a word.\n",
        "\n",
        "**Extract and Append Word:**\n",
        "\n",
        "*  Upon finding a '.' in the string, append the word (from the current position to the end of the string) followed by a . to res. Then, slice the string up to the current . to prepare for extracting the next word.\n",
        "\n",
        "**Handle Last Word:**\n",
        "\n",
        "*  After the loop, check if there’s any remaining portion of the string and append it to res.\n",
        "\n",
        "**Return Result:**\n",
        "\n",
        "  * Finally, return the reversed string stored in res."
      ],
      "metadata": {
        "id": "L8Zpbqsnf2eJ"
      }
    },
    {
      "cell_type": "code",
      "source": [
        "class Solution:\n",
        "\n",
        "    #Function to reverse words in a given string.\n",
        "    def reverseWords(self,str):\n",
        "        # code here\n",
        "        n = len(str)\n",
        "        res = ''\n",
        "        for i in reversed(range(n)):\n",
        "            if str[i]=='.':\n",
        "                res+=str[i+1:]+'.'\n",
        "                str = str[:i]\n",
        "        if str: res += str\n",
        "        return res"
      ],
      "metadata": {
        "id": "21IJefxed_zF"
      },
      "execution_count": null,
      "outputs": []
    },
    {
      "cell_type": "markdown",
      "source": [
        "# **Thank You..**"
      ],
      "metadata": {
        "id": "Vnswq_x2gudi"
      }
    }
  ]
}