{
  "nbformat": 4,
  "nbformat_minor": 0,
  "metadata": {
    "colab": {
      "provenance": [],
      "authorship_tag": "ABX9TyNfyWZ21kZN134GY0B69lFC"
    },
    "kernelspec": {
      "name": "python3",
      "display_name": "Python 3"
    },
    "language_info": {
      "name": "python"
    }
  },
  "cells": [
    {
      "cell_type": "markdown",
      "source": [
        "# **Problem Statement - 1**\n",
        "**Isomorphic Strings**\n",
        "\n",
        "Given a list arr of n integers, return sums of all subsets in it. Output sums can be printed in any order.\n",
        "\n",
        "[Problem Link](https://www.geeksforgeeks.org/problems/isomorphic-strings-1587115620/1?page=2&category=Arrays,Strings,Linked%20List,Stack,Queue&status=unsolved&sortBy=submissions)"
      ],
      "metadata": {
        "id": "Wdgjz09S9tGU"
      }
    },
    {
      "cell_type": "markdown",
      "source": [
        "### **Approach  ( Time Complexity O(n) and Space Complexity O(n) )**\n",
        "\n",
        "**Length Check:**\n",
        "\n",
        "*    First, we check if the lengths of the two strings (str1 and str2) are different. If they are, the strings cannot be isomorphic, and we return False immediately.\n",
        "\n",
        "**Two Dictionaries for Mapping:**\n",
        "\n",
        "*   We use two dictionaries (d1 and d2) to track the mappings:\n",
        "      *  d1 will map characters from str1 to str2.\n",
        "      *  d2 will map characters from str2 to str1.\n",
        "*    This ensures that the mapping is consistent in both directions.\n",
        "\n",
        "**Character by Character Comparison:**\n",
        "\n",
        "*    We iterate over both strings simultaneously and:\n",
        "      *  For each character in str1, check if it already has a mapping in d1. If it does, ensure it matches the corresponding character in str2. If not, add the mapping.\n",
        "      *  Similarly, for each character in str2, check if it has a mapping in d2. If it does, ensure it matches the corresponding character in str1. If not, add the mapping.\n",
        "*    If any inconsistency is found during this process, return False.\n",
        "\n",
        "**Return True:**\n",
        "\n",
        "*    If no inconsistencies are found, the two strings are isomorphic, so we return True.\n"
      ],
      "metadata": {
        "id": "L8Zpbqsnf2eJ"
      }
    },
    {
      "cell_type": "code",
      "source": [
        "class Solution:\n",
        "\n",
        "    #Function to check if two strings are isomorphic.\n",
        "    def areIsomorphic(self,str1,str2):\n",
        "\n",
        "            if len(str1)!=len(str2):\n",
        "                return False\n",
        "\n",
        "            d1={}\n",
        "            d2={}\n",
        "\n",
        "            for i in range(len(str1)):\n",
        "                c1,c2=str1[i],str2[i]\n",
        "                if c1 in d1:\n",
        "                    if d1[c1]!=c2:\n",
        "                        return False\n",
        "                else:\n",
        "                    d1[c1]=c2\n",
        "\n",
        "                if c2 in d2:\n",
        "                    if d2[c2]!=c1:\n",
        "                        return False\n",
        "                else:\n",
        "                    d2[c2]=c1\n",
        "            return True"
      ],
      "metadata": {
        "id": "4XNAM-o_xLN1"
      },
      "execution_count": null,
      "outputs": []
    },
    {
      "cell_type": "markdown",
      "source": [
        "# **Problem Statement - 2**\n",
        "\n",
        "**Linked List Matrix**\n",
        "\n",
        "Given a Matrix mat of n*n size. Your task is constructing a 2D linked list representation of the given matrix.\n",
        "\n",
        "\n",
        "[Problem Link](https://www.geeksforgeeks.org/problems/linked-list-matrix/1)"
      ],
      "metadata": {
        "id": "P7qh7DHV8xVd"
      }
    },
    {
      "cell_type": "markdown",
      "source": [
        "### **Approach  ( Time Complexity O(n^2)) and Space Complexity O(n^2) )**\n",
        "\n",
        "**Recursive Construction:**\n",
        "\n",
        "*    We need to recursively create the linked structure where each node points to its right neighbor and the node directly below it.\n",
        "*    The recursion stops when we reach the bounds of the matrix (i.e., when i or j exceeds the matrix dimensions).\n",
        "\n",
        "**Node Structure:**\n",
        "\n",
        "*    Each node in the linked matrix corresponds to a value in the original 2D matrix and has two pointers:\n",
        "      *  **right:** points to the node in the same row but the next column.\n",
        "      *  **down:** points to the node in the same column but the next row.\n",
        "\n",
        "**Recursive Base Condition:**\n",
        "\n",
        "*    If i (the current row index) or j (the current column index) exceeds the bounds of the matrix, return None. This means there's no further node to link in that direction.\n",
        "\n",
        "**Recursive Steps:**\n",
        "\n",
        "*    For each node at position (i, j), create a node with the value mat[i][j].\n",
        "*    Recursively set its right pointer by calling the same function for the next column (j+1).\n",
        "*    Recursively set its down pointer by calling the same function for the next row (i+1)."
      ],
      "metadata": {
        "id": "2mK8oT6weIJh"
      }
    },
    {
      "cell_type": "code",
      "source": [
        "class Solution:\n",
        "\n",
        "    def subsets(self, nums: List[int]) -> List[List[int]]:\n",
        "        res = [[]]\n",
        "        self._subset(0,nums,[],res)\n",
        "        return res\n",
        "\n",
        "    def _subset(self,pos,arr,sub,_subs):\n",
        "\n",
        "        if pos == len(arr): return\n",
        "\n",
        "        sub.append(arr[pos])\n",
        "        if sub not in _subs: _subs.append(sub[:])\n",
        "\n",
        "        self._subset(pos+1,arr,sub,_subs)\n",
        "        sub.pop()\n",
        "        self._subset(pos+1,arr,sub,_subs)"
      ],
      "metadata": {
        "id": "xOsfZ1MSieuR"
      },
      "execution_count": null,
      "outputs": []
    },
    {
      "cell_type": "markdown",
      "source": [
        "# **Thank You..**"
      ],
      "metadata": {
        "id": "Vnswq_x2gudi"
      }
    }
  ]
}