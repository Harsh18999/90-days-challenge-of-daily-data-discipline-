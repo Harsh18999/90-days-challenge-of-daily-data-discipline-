{
  "nbformat": 4,
  "nbformat_minor": 0,
  "metadata": {
    "colab": {
      "provenance": [],
      "authorship_tag": "ABX9TyMAc0TYI3J/ag3+tCaspq2O"
    },
    "kernelspec": {
      "name": "python3",
      "display_name": "Python 3"
    },
    "language_info": {
      "name": "python"
    }
  },
  "cells": [
    {
      "cell_type": "markdown",
      "source": [
        "# **Problem Statement - 1**\n",
        "**Count number of substrings**\n",
        "\n",
        "Given a string of lowercase alphabets, count all possible substrings (not necessarily distinct) that have exactly k distinct characters.\n",
        "\n",
        "[Problem Link](https://www.geeksforgeeks.org/problems/count-number-of-substrings4528/1?utm_source=youtube&utm_medium=collab_striver_ytdescription&utm_campaign=count-number-of-substrings)"
      ],
      "metadata": {
        "id": "Wdgjz09S9tGU"
      }
    },
    {
      "cell_type": "markdown",
      "source": [
        "### **Approach  ( Time Complexity O(n) and Space Complexity O(k) )**\n",
        "\n",
        "**Sliding Window Approach:**\n",
        "\n",
        "*    Use two pointers, i and j, to form a window that expands (j) or contracts (i) while keeping track of the distinct characters in the window using a dictionary (dct).\n",
        "*    For each character s[j], add it to the dictionary and increase its count.\n",
        "*    If the number of distinct characters in the window equals or exceeds k, then all substrings starting from i up to the end of the string will have at least k distinct characters. This is counted as l - j + 1 substrings.\n",
        "*    Move the left pointer i to explore other substrings and adjust the dictionary accordingly.\n",
        "\n",
        "**Calculating Exact k Distinct Characters:**\n",
        "\n",
        "*    To find substrings with exactly k distinct characters, the solution makes two calls:\n",
        "    *    substrk(s, l, k) - which finds substrings with at least k distinct characters.\n",
        "    *    substrk(s, l, k + 1) - which finds substrings with at least k+1 distinct characters.\n",
        "*    The difference between these two values gives the number of substrings with exactly k distinct characters.\n",
        "\n",
        "\n",
        "\n",
        "\n"
      ],
      "metadata": {
        "id": "L8Zpbqsnf2eJ"
      }
    },
    {
      "cell_type": "code",
      "source": [
        "class Solution:\n",
        "\n",
        "    def substrk(self,s,l,k):\n",
        "\n",
        "        f=0\n",
        "        dct={}\n",
        "        i,j=0,0\n",
        "        cnt=0\n",
        "        for i in range(0,l):\n",
        "            while j<l and len(dct)<k:\n",
        "                if s[j] not in dct:\n",
        "                    dct[s[j]]=1\n",
        "\n",
        "                else:\n",
        "                    dct[s[j]]+=1\n",
        "\n",
        "                j+=1\n",
        "            if len(dct)>=k:\n",
        "                cnt+=l-j+1\n",
        "\n",
        "            dct[s[i]]-=1\n",
        "            if dct[s[i]]==0:\n",
        "                del dct[s[i]]\n",
        "\n",
        "        return cnt\n",
        "\n",
        "\n",
        "\n",
        "\n",
        "    def substrCount (self,s, k):\n",
        "        l=len(s)\n",
        "        return self.substrk(s,l,k)-self.substrk(s,l,k+1)"
      ],
      "metadata": {
        "id": "21IJefxed_zF"
      },
      "execution_count": null,
      "outputs": []
    },
    {
      "cell_type": "markdown",
      "source": [
        "# **Problem Statement - 2**\n",
        "\n",
        "**Multiply two linked lists**\n",
        "\n",
        "Given elements as nodes of the two singly linked lists. The task is to multiply these two linked lists, say L1 and L2.\n",
        "\n",
        "\n",
        "\n",
        "[Problem Link](https://www.geeksforgeeks.org/problems/multiply-two-linked-lists/1)"
      ],
      "metadata": {
        "id": "P7qh7DHV8xVd"
      }
    },
    {
      "cell_type": "markdown",
      "source": [
        "### **Approach  ( Time Complexity O(n)) and Space Complexity O(1) )**\n",
        "\n",
        "**Extract the Numbers from the Linked Lists:**\n",
        "\n",
        "*    Traverse through both linked lists (first and second), constructing the numbers num1 and num2.\n",
        "*    For each node in the linked list, update the number by multiplying the current value by 10 and adding the node's data.\n",
        "*    Use modulo during this calculation to ensure that the intermediate values of num1 and num2 don't overflow.\n",
        "\n",
        "**Multiply the Numbers:**\n",
        "\n",
        " *   After constructing both numbers, multiply them together.\n",
        "\n",
        "**Modulo Operation:**\n",
        "\n",
        " *   Since the result could be large, take the modulo of the final result.\n",
        "\n"
      ],
      "metadata": {
        "id": "2mK8oT6weIJh"
      }
    },
    {
      "cell_type": "code",
      "source": [
        "class Solution:\n",
        "    def multiply_two_lists(self, first, second):\n",
        "        # Code here\n",
        "        num1, num2 = 0, 0\n",
        "        temp1, temp2 = first, second\n",
        "\n",
        "        while temp1 or temp2 :\n",
        "            if temp1 :\n",
        "                num1 = ((num1*10) + temp1.data)% (10**9 + 7)\n",
        "                temp1 = temp1.next\n",
        "\n",
        "            if temp2 :\n",
        "                num2 = ((num2*10) + temp2.data)% (10**9 + 7)\n",
        "                temp2 = temp2.next\n",
        "        mul = (num1*num2) % (10**9 + 7)\n",
        "        return mul"
      ],
      "metadata": {
        "id": "d5ZfbfHod_qH"
      },
      "execution_count": null,
      "outputs": []
    },
    {
      "cell_type": "markdown",
      "source": [
        "# **Thank You..**"
      ],
      "metadata": {
        "id": "Vnswq_x2gudi"
      }
    }
  ]
}