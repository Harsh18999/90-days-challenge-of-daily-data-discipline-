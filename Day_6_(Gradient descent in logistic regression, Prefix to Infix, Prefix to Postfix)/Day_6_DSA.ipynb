{
  "nbformat": 4,
  "nbformat_minor": 0,
  "metadata": {
    "colab": {
      "provenance": [],
      "authorship_tag": "ABX9TyN2p800sEwXAqAjAb+3BxDW"
    },
    "kernelspec": {
      "name": "python3",
      "display_name": "Python 3"
    },
    "language_info": {
      "name": "python"
    }
  },
  "cells": [
    {
      "cell_type": "markdown",
      "source": [
        "# **Problem Statement - 1**\n",
        "\n",
        "**Prefix to Infix expression**\n",
        "\n",
        "You are given a string S of size N that represents the prefix form of a valid mathematical expression. The string S contains only lowercase and uppercase alphabets as operands and the operators are +, -, *, /, %, and ^.Convert it to its infix form.\n",
        "\n",
        "[Problem Link](https://bit.ly/3FwxK3j)"
      ],
      "metadata": {
        "id": "P7qh7DHV8xVd"
      }
    },
    {
      "cell_type": "markdown",
      "source": [
        "### **Approach ( Time Complexity O(n) and Space Complexity O(n) )**\n",
        "\n",
        "**Initialize Stack and Index:** Start with an empty stack and set the index i to the last element of the prefix expression.\n",
        "\n",
        "**Traverse Prefix Expression in Reverse:**\n",
        "Use a while loop to iterate through the prefix expression from right to left (i.e., from the last character to the first).\n",
        "\n",
        "**Check if Character is Operand or Operator:**\n",
        "*   If the current character is an operand (alphanumeric), push it onto the stack.\n",
        "*  If the current character is an operator, pop the top two elements from the stack, create an infix expression by placing the operator between these two operands and enclosing them in parentheses, then push this new infix expression back onto the stack.\n",
        "\n",
        "**Move to the Next Character:** Decrement the index i to move to the next character in the prefix expression.\n",
        "\n",
        "**Return the Final Infix Expression:** Once all characters have been processed, the remaining element in the stack is the fully formed infix expression. Pop and return this element."
      ],
      "metadata": {
        "id": "yEgmGmTL8zrM"
      }
    },
    {
      "cell_type": "code",
      "execution_count": null,
      "metadata": {
        "id": "qcg60bAIVi2A"
      },
      "outputs": [],
      "source": [
        "def preToInfix(pre_exp):\n",
        "      i = len(pre_exp)-1\n",
        "      stack = [ ]\n",
        "\n",
        "      while i >= 0:\n",
        "          if pre_exp[i].isalnum():\n",
        "              stack.append(pre_exp[i])\n",
        "          else:\n",
        "              stack.append('('+ stack.pop() + pre_exp[i] + stack.pop() + ')')\n",
        "          i-=1\n",
        "\n",
        "      return stack.pop()"
      ]
    },
    {
      "cell_type": "markdown",
      "source": [
        "# **Problem Statement - 2**\n",
        "\n",
        "You are given a string that represents the prefix form of a valid mathematical expression. Convert it to its postfix form.\n",
        "\n",
        "[Problem Link](https://bit.ly/3DrwCLI)"
      ],
      "metadata": {
        "id": "Wdgjz09S9tGU"
      }
    },
    {
      "cell_type": "markdown",
      "source": [
        "### **Approach  ( Time Complexity O(n) and Space Complexity O(n) )**\n",
        "\n",
        "**Initialize Stack and Index:** Create an empty stack and set the index i to the last element of the prefix expression (pre_exp).\n",
        "\n",
        "**Traverse Prefix Expression in Reverse:** Use a while loop to iterate through the prefix expression from right to left, starting from the last character.\n",
        "\n",
        "**Check if Character is Operand or Operator:**\n",
        "\n",
        "*  If the current character is an operand (alphanumeric), push it onto the stack.\n",
        "*  If the current character is an operator, pop the top two elements from the stack, concatenate them in postfix order (operand1 + operand2 + operator), and push the result back onto the stack.\n",
        "\n",
        "**Move to the Next Character:** Decrement the index i to process the next character in the prefix expression.\n",
        "\n",
        "**Return the Final Postfix Expression:** After processing all characters, the stack will contain the fully formed postfix expression. Pop and return this element."
      ],
      "metadata": {
        "id": "uC-mSdmv_AHR"
      }
    },
    {
      "cell_type": "code",
      "source": [
        "def preToPost(pre_exp):\n",
        "    stack = [ ]\n",
        "    i = len(pre_exp)-1\n",
        "\n",
        "    while i>=0:\n",
        "        if pre_exp[i].isalnum():\n",
        "            stack.append(pre_exp[i])\n",
        "        else:\n",
        "            stack.append(stack.pop()+stack.pop()+pre_exp[i])\n",
        "        i-=1\n",
        "    return stack.pop()"
      ],
      "metadata": {
        "id": "nZMpSO5JZYq6"
      },
      "execution_count": 2,
      "outputs": []
    },
    {
      "cell_type": "code",
      "source": [],
      "metadata": {
        "id": "nyqW6i02Z78J"
      },
      "execution_count": null,
      "outputs": []
    }
  ]
}
