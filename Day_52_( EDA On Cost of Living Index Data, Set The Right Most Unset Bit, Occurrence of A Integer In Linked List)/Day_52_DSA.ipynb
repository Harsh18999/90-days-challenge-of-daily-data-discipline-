{
  "nbformat": 4,
  "nbformat_minor": 0,
  "metadata": {
    "colab": {
      "provenance": [],
      "authorship_tag": "ABX9TyOP+HJ2nmZMpmj6Aa5FUT5U"
    },
    "kernelspec": {
      "name": "python3",
      "display_name": "Python 3"
    },
    "language_info": {
      "name": "python"
    }
  },
  "cells": [
    {
      "cell_type": "markdown",
      "source": [
        "# **Problem Statement - 1**\n",
        "**Set the rightmost unset bit**\n",
        "\n",
        "Given a non-negative number n . The problem is to set the rightmost unset bit in the binary representation of n.\n",
        "\n",
        "\n",
        "[Problem Link](https://www.geeksforgeeks.org/problems/set-the-rightmost-unset-bit4436/1)"
      ],
      "metadata": {
        "id": "Wdgjz09S9tGU"
      }
    },
    {
      "cell_type": "markdown",
      "source": [
        "### **Approach  ( Time Complexity O(log n) and Space Complexity O(1) )**\n",
        "\n",
        "**Iterative Loop:**\n",
        "\n",
        " * The code iterates through the bits of n from right to left using a while loop.\n",
        " * In each iteration, it checks if the current bit is 0 using the bitwise AND operation (n & 1).\n",
        " * If the current bit is 0, it calculates the position of the bit (p) and sets it to 1 using the bitwise OR operation (num | (1 << p)).\n",
        " * The num variable stores the original value of n to avoid modifying it.\n",
        "\n",
        "**Handling the Case When All Bits Are 1:**\n",
        "\n",
        " * If the loop completes without finding a 0 bit, it means all bits in n are 1.\n",
        " * In this case, the function sets the next bit (one position to the left of the most significant bit) to 1 using num | (1 << p+1)."
      ],
      "metadata": {
        "id": "L8Zpbqsnf2eJ"
      }
    },
    {
      "cell_type": "code",
      "source": [
        "#User function Template for python3\n",
        "class Solution:\n",
        "\tdef setBit(self, n):\n",
        "\t\t# code here\n",
        "\t\tp = 0\n",
        "\t\tnum = n\n",
        "\n",
        "\t\twhile n > 1:\n",
        "\t\t    if n & 1 == 0:\n",
        "\t\t        return num | (1 << p)\n",
        "\t\t    n = n >> 1\n",
        "\t\t    p+=1\n",
        "\n",
        "\t\treturn num | (1 << p+1)\n"
      ],
      "metadata": {
        "id": "4XNAM-o_xLN1"
      },
      "execution_count": null,
      "outputs": []
    },
    {
      "cell_type": "markdown",
      "source": [
        "# **Problem Statement - 2**\n",
        "\n",
        "**Occurence of an integer in a Linked List**\n",
        "\n",
        "Given a singly linked list and a key, count the number of occurrences of the given key in the linked list.\n",
        "\n",
        "\n",
        "[Problem Link](https://www.geeksforgeeks.org/problems/occurence-of-an-integer-in-a-linked-list/1)"
      ],
      "metadata": {
        "id": "k_ucpDb6eOSs"
      }
    },
    {
      "cell_type": "markdown",
      "source": [
        "### **Approach  ( Time Complexity O(n) and Space Complexity O(1) )**\n",
        "\n",
        "\n",
        "**Method count:**\n",
        "\n",
        " * **This method takes in two parameters:** head (the head node of the linked list) and key (the value we want to count occurrences of).\n",
        "\n",
        " * We initialize a counter variable c to 0. This will keep track of the number of times key appears in the linked list.\n",
        "\n",
        " * We use a temporary pointer temp to traverse the linked list. Initially, temp is set to the head of the list.\n",
        "\n",
        "**Traversal and Counting:**\n",
        "\n",
        " * We use a while loop to iterate through the linked list. The loop continues as long as temp is not None.\n",
        "\n",
        " * Inside the loop, we check if the data of the current node (temp.data) is equal to key. If it is, we increment the counter c.\n",
        "\n",
        " * We then move to the next node by setting temp to temp.next.\n",
        "\n",
        "**Return the Count:**\n",
        "\n",
        " * After the loop completes, all nodes have been checked, and the total count of key in the linked list is stored in c.\n"
      ],
      "metadata": {
        "id": "2mK8oT6weIJh"
      }
    },
    {
      "cell_type": "code",
      "source": [
        "\"\"\"\n",
        "class Node:\n",
        "    def __init__(self, data):\n",
        "        self.data = data\n",
        "        self.next = None\n",
        "  This is method only submission.\n",
        "  You only need to complete the method.\n",
        "\"\"\"\n",
        "\n",
        "class Solution:\n",
        "    def count(self, head, key):\n",
        "        # Code here\n",
        "        c = 0\n",
        "        temp = head\n",
        "\n",
        "        while temp:\n",
        "            if temp.data == key : c+=1\n",
        "            temp = temp.next\n",
        "\n",
        "        return c"
      ],
      "metadata": {
        "id": "CTv8gTP5eRtx"
      },
      "execution_count": null,
      "outputs": []
    },
    {
      "cell_type": "markdown",
      "source": [
        "# **Thank You..**"
      ],
      "metadata": {
        "id": "Vnswq_x2gudi"
      }
    }
  ]
}