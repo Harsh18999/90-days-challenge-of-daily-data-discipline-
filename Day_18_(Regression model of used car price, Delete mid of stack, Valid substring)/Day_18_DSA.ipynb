{
  "nbformat": 4,
  "nbformat_minor": 0,
  "metadata": {
    "colab": {
      "provenance": [],
      "authorship_tag": "ABX9TyPRarioarUCtPnQzHzpeAx4"
    },
    "kernelspec": {
      "name": "python3",
      "display_name": "Python 3"
    },
    "language_info": {
      "name": "python"
    }
  },
  "cells": [
    {
      "cell_type": "markdown",
      "source": [
        "# **Problem Statement - 1**\n",
        "\n",
        "**Valid Substring**\n",
        "\n",
        "Given a string s consisting only of opening and closing parenthesis 'ie '('  and ')', find out the length of the longest valid(well-formed) parentheses substring.\n",
        "\n",
        "[Problem Link](https://www.geeksforgeeks.org/problems/valid-substring0624/1?page=1&category=Stack,Queue&status=unsolved&sortBy=submissions)"
      ],
      "metadata": {
        "id": "P7qh7DHV8xVd"
      }
    },
    {
      "cell_type": "markdown",
      "source": [
        "### **Approach  ( Time Complexity O(n) and Space Complexity O(1) )**\n",
        "\n",
        "**Two Traversals:**\n",
        "\n",
        "*  Traverse the string from left to right. Maintain counts of left (open parentheses) and right (closed parentheses).\n",
        "*  If the counts are equal, update the max_len to track the longest valid substring. If right exceeds left, reset the counts.\n",
        "\n",
        "**Reverse Traversal:**\n",
        "\n",
        "*  Traverse the string again, this time from right to left, using the same logic but counting left and right in reverse to account for unmatched opening parentheses.\n",
        "\n",
        "**Return Result:**\n",
        "\n",
        "*  The maximum valid substring length found in both passes is returned as max_len."
      ],
      "metadata": {
        "id": "2mK8oT6weIJh"
      }
    },
    {
      "cell_type": "code",
      "execution_count": null,
      "metadata": {
        "id": "nmQi3RKtcxZ8"
      },
      "outputs": [],
      "source": [
        "class Solution:\n",
        "    def findMaxLen(ob, S):\n",
        "        left = 0\n",
        "        right = 0\n",
        "        max_len = 0\n",
        "\n",
        "        for i in S:\n",
        "            if i == '(':\n",
        "                left += 1\n",
        "            else:\n",
        "                right += 1\n",
        "\n",
        "            if left == right:\n",
        "                max_len = max(max_len, 2 * right)\n",
        "            elif right > left:\n",
        "                left = right = 0\n",
        "\n",
        "        left = right = 0\n",
        "        for i in reversed(S):\n",
        "            if i == '(':\n",
        "               left += 1\n",
        "            else:\n",
        "               right += 1\n",
        "\n",
        "            if left == right:\n",
        "               max_len = max(max_len, 2 * left)\n",
        "            elif left > right:\n",
        "               left = right = 0\n",
        "\n",
        "        return max_len"
      ]
    },
    {
      "cell_type": "markdown",
      "source": [
        "# **Problem Statement - 2**\n",
        "**Delete mid of stack**\n",
        "\n",
        "Given a stack, delete the middle element of the stack.\n",
        "\n",
        "[Problem Link](https://www.geeksforgeeks.org/problems/delete-middle-element-of-a-stack/1?page=1&category=Stack,Queue&status=unsolved&sortBy=submissions)"
      ],
      "metadata": {
        "id": "Wdgjz09S9tGU"
      }
    },
    {
      "cell_type": "markdown",
      "source": [
        "### **Approach  ( Time Complexity O(n) and Space Complexity O(n) )**\n",
        "\n",
        "**Calculate Middle Index:** Calculate the middle index of the stack using size//2.\n",
        "\n",
        "**Pop Elements:** Use an auxiliary stack (st) to temporarily hold elements as we pop the original stack until the middle element is reached.\n",
        "\n",
        "**Remove Middle Element:** Pop the middle element from the original stack.\n",
        "\n",
        "**Restore Remaining Elements:** Push the stored elements back onto the original stack from the auxiliary stack (st).\n",
        "\n",
        "**Return the Modified Stack:** Return the modified stack without the middle element."
      ],
      "metadata": {
        "id": "L8Zpbqsnf2eJ"
      }
    },
    {
      "cell_type": "code",
      "source": [
        "class Solution:\n",
        "\n",
        "    def deleteMid(self, s, size):\n",
        "        # code here\n",
        "        if size <= 1:\n",
        "            s.pop()\n",
        "            return\n",
        "\n",
        "        mid = size//2\n",
        "\n",
        "        st = [ ]\n",
        "        while mid:\n",
        "            st.append(s.pop())\n",
        "            mid-=1\n",
        "        s.pop()\n",
        "        while st:\n",
        "            s.append(st.pop())\n",
        "\n",
        "        return s\n",
        ""
      ],
      "metadata": {
        "id": "21IJefxed_zF"
      },
      "execution_count": null,
      "outputs": []
    },
    {
      "cell_type": "markdown",
      "source": [
        "# **Thank You..**"
      ],
      "metadata": {
        "id": "Vnswq_x2gudi"
      }
    }
  ]
}