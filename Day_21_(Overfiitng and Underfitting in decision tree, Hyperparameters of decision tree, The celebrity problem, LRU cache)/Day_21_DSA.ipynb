{
  "nbformat": 4,
  "nbformat_minor": 0,
  "metadata": {
    "colab": {
      "provenance": [],
      "authorship_tag": "ABX9TyOUZapbyt3byLnCFFtk7Z5V"
    },
    "kernelspec": {
      "name": "python3",
      "display_name": "Python 3"
    },
    "language_info": {
      "name": "python"
    }
  },
  "cells": [
    {
      "cell_type": "markdown",
      "source": [
        "# **Problem Statement - 1**\n",
        "**The Celebrity Problem**\n",
        "\n",
        "A celebrity is a person who is known to all but does not know anyone at a party. A party is being organized by some people.  A square matrix mat is used to represent people at the party such that if an element of row i and column j is set to 1 it means ith person knows jth person. You need to return the index of the celebrity in the party, if the celebrity does not exist, return -1.\n",
        "\n",
        "[Problem Link](https://www.geeksforgeeks.org/problems/the-celebrity-problem/1)"
      ],
      "metadata": {
        "id": "Wdgjz09S9tGU"
      }
    },
    {
      "cell_type": "markdown",
      "source": [
        "### **Approach  ( Time Complexity O(n^2) and Space Complexity O(1) )**\n",
        "\n",
        "**Identify Potential Celebrities:**\n",
        "\n",
        "*  The first loop iterates through the matrix mat to find people who do not know anyone. This is done by checking if the row corresponding to that person is all zeros. If such a person is found, they are added to a list cel, which holds potential celebrities.\n",
        "\n",
        "**Check If the Candidate is a Celebrity:**\n",
        "\n",
        "*  For each potential celebrity in cel, the second loop checks if everyone else knows that person by iterating through the corresponding column. If everyone except themselves knows them, the person is considered a celebrity.\n",
        "\n",
        "**Edge Case:**\n",
        "\n",
        "*  If no person qualifies as a potential celebrity, the function returns -1."
      ],
      "metadata": {
        "id": "L8Zpbqsnf2eJ"
      }
    },
    {
      "cell_type": "code",
      "source": [
        "class Solution:\n",
        "\n",
        "    def calculateSpan(self,a,n):\n",
        "        #code here\n",
        "        stack = [ ]\n",
        "        res = [ ]\n",
        "\n",
        "        for i in range(n):\n",
        "            sp=1\n",
        "            while stack and stack[-1][0] <= a[i]:\n",
        "                sp+=stack.pop()[1]\n",
        "            stack.append([a[i],sp])\n",
        "            res.append(sp)\n",
        "\n",
        "        return res"
      ],
      "metadata": {
        "id": "21IJefxed_zF"
      },
      "execution_count": null,
      "outputs": []
    },
    {
      "cell_type": "markdown",
      "source": [
        "# **Problem Statement - 2**\n",
        "\n",
        "**LRU Cache**\n",
        "\n",
        "Design a data structure that works like a LRU Cache. Here cap denotes the capacity of the cache and Q denotes the number of queries. Query can be of two types:\n",
        "\n",
        "**SET x y:** sets the value of the key x with value y\n",
        "\n",
        "**GET x:** gets the key of x if present else returns -1.\n",
        "\n",
        "[Problem Link](https://www.geeksforgeeks.org/problems/maximum-of-all-subarrays-of-size-k3101/1)"
      ],
      "metadata": {
        "id": "P7qh7DHV8xVd"
      }
    },
    {
      "cell_type": "markdown",
      "source": [
        "### **Approach  ( Time Complexity O(n) and Space Complexity O(1) )**\n",
        "\n",
        "### **Key Components:**\n",
        "\n",
        "**Doubly Linked List (DLL):**\n",
        "\n",
        "* Each node in the doubly linked list stores a key, value, and pointers to the previous (prev) and next (next) nodes.\n",
        "*  The linked list is used to maintain the order of cache usage. The most recently used items are moved to the front (head), and the least recently used items are near the back (tail).\n",
        "\n",
        "**Hashmap (lr):**\n",
        "\n",
        "*  A dictionary stores key-to-node mappings. This allows quick access to the nodes in the linked list by key in O(1) time.\n",
        "\n",
        "**Two Sentinel Nodes (head and tail):**\n",
        "\n",
        "*  The head and tail are dummy nodes that mark the beginning and the end of the list. They simplify the insertion and deletion operations at both ends.\n",
        "\n",
        "### **Functions:**\n",
        "\n",
        "**change(self, node):**\n",
        "\n",
        "*  Moves a node to the front of the list (just after the head).\n",
        "This is called when a key is accessed or updated, indicating that the corresponding node is now the most recently used.\n",
        "\n",
        "**get(self, key):**\n",
        "\n",
        "* If the key exists in the cache, the corresponding node is moved to the front using the change() function, and its value is returned.\n",
        "If the key does not exist, it returns -1.\n",
        "\n",
        "**set(self, key, value):**\n",
        "\n",
        "*  **If the key is not in the cache:**\n",
        "     * If the cache is not full, a new node is created and added to the front.\n",
        "     *  If the cache is full, the least recently used node (just before tail) is removed, and the new node is added.\n",
        "*If the key already exists, its value is updated, and the node is moved to the front."
      ],
      "metadata": {
        "id": "2mK8oT6weIJh"
      }
    },
    {
      "cell_type": "code",
      "execution_count": null,
      "metadata": {
        "id": "nmQi3RKtcxZ8"
      },
      "outputs": [],
      "source": [
        "class Node:\n",
        "    def __init__(self,key,val):\n",
        "        self.key = key\n",
        "        self.val = val\n",
        "        self.next = None\n",
        "        self.prev = None\n",
        "\n",
        "class LRUCache:\n",
        "\n",
        "    #Constructor for initializing the cache capacity with the given value.\n",
        "    def __init__(self,cap):\n",
        "        #code here\n",
        "        self.cap = cap\n",
        "        self.lr = {}\n",
        "        self.head = Node(-1,-1)\n",
        "        self.tail = Node(-1,-1)\n",
        "        self.head.next = self.tail\n",
        "        self.tail.prev = self.head\n",
        "\n",
        "    def change(self,node):\n",
        "        node.prev.next = node.next\n",
        "        node.next.prev = node.prev\n",
        "\n",
        "        self.head.next.prev = node\n",
        "        node.next = self.head.next\n",
        "        node.prev  = self.head\n",
        "        self.head.next = node\n",
        "\n",
        "        return node.val\n",
        "\n",
        "    #Function to return value corresponding to the key.\n",
        "    def get(self, key):\n",
        "        #code here\n",
        "        if key in self.lr :\n",
        "            return self.change(self.lr[key])\n",
        "        return -1\n",
        "\n",
        "    #Function for storing key-value pair.\n",
        "    def set(self, key, value):\n",
        "        #code here\n",
        "        if key not in  self.lr :\n",
        "            if len(self.lr) < self.cap :\n",
        "                n = Node(key,value)\n",
        "                self.tail.prev.next = n\n",
        "                n.prev = self.tail.prev\n",
        "                n.next = self.tail\n",
        "                self.tail.prev = n\n",
        "                self.lr[key] = n\n",
        "                self.change(n)\n",
        "            else:\n",
        "                del self.lr[self.tail.prev.key]\n",
        "                self.tail.prev.key = key\n",
        "                self.tail.prev.val = value\n",
        "                self.lr[key] = self.tail.prev\n",
        "                self.change(self.tail.prev)\n",
        "        else:\n",
        "            self.lr[key].val = value\n",
        "            self.change(self.lr[key])"
      ]
    },
    {
      "cell_type": "markdown",
      "source": [
        "# **Thank You..**"
      ],
      "metadata": {
        "id": "Vnswq_x2gudi"
      }
    }
  ]
}
