{
  "nbformat": 4,
  "nbformat_minor": 0,
  "metadata": {
    "colab": {
      "provenance": [],
      "authorship_tag": "ABX9TyNmuLnHKz9X+UEdqP3j2oVT"
    },
    "kernelspec": {
      "name": "python3",
      "display_name": "Python 3"
    },
    "language_info": {
      "name": "python"
    }
  },
  "cells": [
    {
      "cell_type": "markdown",
      "source": [
        "# **Problem Statement - 1**\n",
        "**Count Good numbers**\n",
        "\n",
        "A digit string is good if the digits (0-indexed) at even indices are even and digits at odd indices are prime ( 2 , 3 , 5 or 7 ).\n",
        "\n",
        "[Problem Link](https://www.geeksforgeeks.org/problems/count-good-numbers/1)"
      ],
      "metadata": {
        "id": "Wdgjz09S9tGU"
      }
    },
    {
      "cell_type": "markdown",
      "source": [
        "### **Approach  ( Time Complexity O(log n) and Space Complexity O(1) )**\n",
        "\n",
        "**Calculate the number of even and odd positions:** Determine the number of even-indexed and odd-indexed positions in the n-digit number.\n",
        "\n",
        "**Calculate the total number of even and odd digits:** Use the modulo exponentiation formula (pow(base, exponent, modulus)) to calculate the total number of ways to fill even positions with even digits and odd positions with odd digits.\n",
        "\n",
        "**Multiply the totals:** Multiply the number of ways to fill even positions with the number of ways to fill odd positions.\n",
        "\n",
        "**Take the modulo:** Take the modulo of the product with 10^9 + 7 to prevent\n",
        "\n",
        "\n",
        "\n",
        "\n"
      ],
      "metadata": {
        "id": "L8Zpbqsnf2eJ"
      }
    },
    {
      "cell_type": "code",
      "source": [
        "class Solution:\n",
        "    def countGoodNumbers(self, n):\n",
        "        # Code here\n",
        "        m = (10**9 +7)\n",
        "        c = 1\n",
        "        even = (n//2)+1 if n%2 == 1 else n//2\n",
        "        odd = n - even\n",
        "        total_even = pow(5,even,m)\n",
        "        total_odd = pow(4,odd,m)\n",
        "\n",
        "        return (total_even*total_odd)%m"
      ],
      "metadata": {
        "id": "21IJefxed_zF"
      },
      "execution_count": null,
      "outputs": []
    },
    {
      "cell_type": "markdown",
      "source": [
        "# **Problem Statement - 2**\n",
        "\n",
        "**Implement Atoi**\n",
        "\n",
        "Given a string s, the objective is to convert it into integer format without utilizing any built-in functions. If the conversion is not feasible, the function should return -1.\n",
        "\n",
        "\n",
        "\n",
        "[Problem Link](https://www.geeksforgeeks.org/problems/implement-atoi/1)"
      ],
      "metadata": {
        "id": "P7qh7DHV8xVd"
      }
    },
    {
      "cell_type": "markdown",
      "source": [
        "### **Approach  ( Time Complexity O(n) and Space Complexity O(n) )**\n",
        "\n",
        "**Handles negative signs:** If the initial character is '-', the sign variable is set to -1, and the sign is removed from the string.\n",
        "\n",
        "**Recursively converts string to integer:**\n",
        "\n",
        "*    The convert function processes the string character by character.\n",
        "*    If a non-digit character is encountered, it returns -1 to indicate an invalid conversion.\n",
        "*    The current digit is added to the num variable. *   If the end of the string is reached, the final num value is returned.\n",
        "*  Otherwise, the convert function is called recursively with the updated num and position.\n",
        "\n",
        "**Returns result with sign:** The final num value is multiplied by the sign to account for negative numbers."
      ],
      "metadata": {
        "id": "2mK8oT6weIJh"
      }
    },
    {
      "cell_type": "code",
      "source": [
        "class Solution:\n",
        "    # your task is to complete this function\n",
        "    # function should return an integer\n",
        "    def atoi(self,s):\n",
        "        # Code here\n",
        "        sign = 1\n",
        "\n",
        "        if s[0] == '-':\n",
        "            sign*=-1\n",
        "            s = s[1:]\n",
        "\n",
        "        res = self.convert(s,0,0)\n",
        "        if res == -1 : return -1\n",
        "        return res*sign\n",
        "\n",
        "    def convert(self,str,num,pos):\n",
        "\n",
        "        if not str[pos].isdigit():\n",
        "            return -1\n",
        "\n",
        "        n = len(str)\n",
        "        if pos == n-1 :\n",
        "            num = num*10 + int(str[n-1])\n",
        "            return num\n",
        "\n",
        "        num = num*10 + int(str[pos])\n",
        "\n",
        "        return self.convert(str,num,pos+1)"
      ],
      "metadata": {
        "id": "d5ZfbfHod_qH"
      },
      "execution_count": null,
      "outputs": []
    },
    {
      "cell_type": "markdown",
      "source": [
        "# **Problem Statement - 3**\n",
        "\n",
        "**Total count**\n",
        "\n",
        "You are given an array arr[] of positive integers and a threshold value k. For each element in the array, divide it into the minimum number of small integers such that each divided integer is less than or equal to k. Compute the total number of these integer across all elements of the array.\n",
        "\n",
        "\n",
        "\n",
        "[Problem Link](https://www.geeksforgeeks.org/problems/total-count2415/1)"
      ],
      "metadata": {
        "id": "BvO7KnIgU2Br"
      }
    },
    {
      "cell_type": "markdown",
      "source": [
        "### **Approach  ( Time Complexity O(n) and Space Complexity O(1) )**\n",
        "\n",
        "\n",
        "**Initialize count:** The variable count is initialized to 0 to store the total count of integers.\n",
        "\n",
        "**Iterate through the array:** The code iterates through each element i in the array arr.\n",
        "\n",
        "**Check if greater than k:**\n",
        "\n",
        "*    **If i is greater than k:**\n",
        "       * The number of integers from k to i (inclusive) is calculated using integer division (i // k) and adding 1 if there's a remainder.\n",
        "       * The calculated count is added to the total count.\n",
        "*    **If i is less than or equal to k:**\n",
        "       * The count is simply incremented by 1, as i itself is greater than or equal to k.\n",
        "\n",
        "**Return total count:** After iterating through the entire array, the final value of count is returned, representing the total number of integers greater than or equal to k."
      ],
      "metadata": {
        "id": "hWDEgWb4Vli6"
      }
    },
    {
      "cell_type": "code",
      "source": [
        "class Solution:\n",
        "    def totalCount(self, k, arr):\n",
        "        # code here\n",
        "        count = 0\n",
        "\n",
        "        for i in arr:\n",
        "            if i > k:\n",
        "                count += (i//k)+1 if i%k != 0 else (i//k)\n",
        "            else:\n",
        "                count+=1\n",
        "        return count"
      ],
      "metadata": {
        "id": "k3XyJUJDVDjT"
      },
      "execution_count": null,
      "outputs": []
    },
    {
      "cell_type": "markdown",
      "source": [
        "# **Thank You..**"
      ],
      "metadata": {
        "id": "Vnswq_x2gudi"
      }
    }
  ]
}
