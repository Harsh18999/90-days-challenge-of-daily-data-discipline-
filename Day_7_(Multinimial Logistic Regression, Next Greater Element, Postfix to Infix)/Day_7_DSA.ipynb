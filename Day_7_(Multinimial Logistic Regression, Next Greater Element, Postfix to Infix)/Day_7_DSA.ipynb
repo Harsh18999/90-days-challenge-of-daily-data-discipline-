{
  "nbformat": 4,
  "nbformat_minor": 0,
  "metadata": {
    "colab": {
      "provenance": [],
      "authorship_tag": "ABX9TyMFOrZ/FamvBY9FZKFzSs2U"
    },
    "kernelspec": {
      "name": "python3",
      "display_name": "Python 3"
    },
    "language_info": {
      "name": "python"
    }
  },
  "cells": [
    {
      "cell_type": "markdown",
      "source": [
        "# **Problem Statement - 1**\n",
        "\n",
        "Given an array arr[ ] of n elements, the task is to find the next greater element for each element of the array in order of their appearance in the array. Next greater element of an element in the array is the nearest element on the right which is greater than the current element.\n",
        "If there does not exist next greater of current element, then next greater element for current element is -1. For example, next greater of the last element is always -1."
      ],
      "metadata": {
        "id": "NXsdKEGvkFIz"
      }
    },
    {
      "cell_type": "markdown",
      "source": [
        "### **Approach ( Time Complexity O(n) and Space Complexity O(n) )**\n",
        "\n",
        "\n",
        "**Initialize Stack and Answer List:** Create an empty stack to keep track of potential next larger elements and an empty list ans to store the results.\n",
        "\n",
        "**Traverse the Array from Right to Left:** Use a for loop to iterate through the array arr in reverse order (from the last element to the first).\n",
        "\n",
        "**Maintain Stack :**\n",
        "For each element, use a while loop to pop elements from the stack that are less than or equal to the current array element, as they cannot be the next larger element.\n",
        "\n",
        "**Determine the Next Larger Element:**\n",
        "\n",
        "*  If the stack becomes empty after popping, it means there is no larger element to the right, so append -1 to ans.\n",
        "*  If the stack is not empty, the top element of the stack is the next larger element, so append this value to ans.\n",
        "\n",
        "**Update Stack:** Push the current array element onto the stack as a potential next larger element for future elements.\n",
        "\n",
        "**Reverse the Answer List :** Since the array was traversed from right to left, reverse the ans list before returning it to get the results in the correct order."
      ],
      "metadata": {
        "id": "JAW3FPRNhhMW"
      }
    },
    {
      "cell_type": "code",
      "source": [
        "def nextLargerElement(arr,n):\n",
        "    stack = [ ]\n",
        "    ans = [ ]\n",
        "    for i in range(n-1,-1,-1):\n",
        "        while stack and arr[i]>=stack[-1]:\n",
        "            stack.pop()\n",
        "        if not stack:\n",
        "            ans.append(-1)\n",
        "        else:\n",
        "            ans.append(stack[-1])\n",
        "\n",
        "        stack.append(arr[i])\n",
        "\n",
        "    return ans[::-1]"
      ],
      "metadata": {
        "id": "bfM7uPWefsQA"
      },
      "execution_count": 3,
      "outputs": []
    },
    {
      "cell_type": "markdown",
      "source": [
        "# **Problem Statement - 2**\n",
        "\n",
        "**Postfix to Infix Conversion**\n",
        "\n",
        "You are given a string that represents the postfix form of a valid mathematical expression. Convert it to its infix form."
      ],
      "metadata": {
        "id": "Lv_CDwMFikjk"
      }
    },
    {
      "cell_type": "markdown",
      "source": [
        "### **Approach ( Time Complexity O(n) and Space Complexity O(n) )**\n",
        "\n",
        "**Initialize Stack:** Start with an empty stack to keep track of operands and intermediate infix expressions.\n",
        "\n",
        "**Traverse the Postfix Expression:** Use a for loop to iterate through each character in the postfix expression.\n",
        "\n",
        "**Check if Character is Operand or Operator:**\n",
        "\n",
        "*  If the current character is an operand (alphanumeric), push it onto the stack.\n",
        "*  If the current character is an operator, pop the top two elements from the stack, ans push (2nd + current char + 1st).\n",
        "\n",
        "**Continue Process:** Repeat the above steps for each character in the postfix expression.\n",
        "\n",
        "**Return the Final Infix Expression:** After processing all characters, the stack will contain the fully formed infix expression. Pop and return this element."
      ],
      "metadata": {
        "id": "Payv7gXZi2X5"
      }
    },
    {
      "cell_type": "code",
      "source": [
        "def postToInfix(postfix):\n",
        "      stack = [ ]\n",
        "      for i in postfix:\n",
        "          if i.isalnum():\n",
        "              stack.append(i)\n",
        "          else:\n",
        "              first,second = stack.pop(),stack.pop()\n",
        "              stack.append('('+second+i+first+')')\n",
        "      return stack.pop()"
      ],
      "metadata": {
        "id": "UZwu3Unbjzbx"
      },
      "execution_count": 4,
      "outputs": []
    }
  ]
}