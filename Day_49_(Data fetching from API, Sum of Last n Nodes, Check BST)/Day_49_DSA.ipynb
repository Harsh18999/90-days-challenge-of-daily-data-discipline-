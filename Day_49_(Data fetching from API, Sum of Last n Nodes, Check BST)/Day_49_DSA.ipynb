{
  "nbformat": 4,
  "nbformat_minor": 0,
  "metadata": {
    "colab": {
      "provenance": [],
      "authorship_tag": "ABX9TyPbJQHDt8WePCqP8dmnaoDK"
    },
    "kernelspec": {
      "name": "python3",
      "display_name": "Python 3"
    },
    "language_info": {
      "name": "python"
    }
  },
  "cells": [
    {
      "cell_type": "markdown",
      "source": [
        "# **Problem Statement - 1**\n",
        "**Check for BST**\n",
        "\n",
        "Given the root of a binary tree. Check whether it is a BST or not.\n",
        "Note: We are considering that BSTs can not contain duplicate Nodes.\n",
        "\n",
        "\n",
        "[Problem Link](https://www.geeksforgeeks.org/problems/check-for-bst/1?page=1&status=unsolved&sortBy=submissions)"
      ],
      "metadata": {
        "id": "Wdgjz09S9tGU"
      }
    },
    {
      "cell_type": "markdown",
      "source": [
        "### **Approach  ( Time Complexity O(n) and Space Complexity O(h) )**\n",
        "\n",
        "**In-Order Traversal:**\n",
        "\n",
        " * Perform an in-order traversal (left, root, right) of the binary tree.\n",
        " * During traversal, keep track of the previously visited node.\n",
        " * If at any point, the value of the current node is less than or equal to the previously visited node, the tree is not a BST.\n",
        "\n",
        "**Base Case:**\n",
        "\n",
        " * If the current node is None, return True (an empty subtree is a valid BST).\n",
        "\n",
        "**Check Left Subtree:**\n",
        "\n",
        "* Recursively check the left subtree.\n",
        "\n",
        "**Check Current Node:**\n",
        "\n",
        " * Compare the current node’s value with the previous node’s value.\n",
        " * If the current node’s value is less than or equal to the previous node’s value, return False.\n",
        "\n",
        "**Check Right Subtree:**\n",
        "\n",
        " * Recursively check the right subtree."
      ],
      "metadata": {
        "id": "L8Zpbqsnf2eJ"
      }
    },
    {
      "cell_type": "code",
      "source": [
        "class Solution:\n",
        "\n",
        "    #Function to check whether a Binary Tree is BST or not.\n",
        "    def isBST(self, root):\n",
        "        #code here\n",
        "        self.prev = float('-inf')\n",
        "        return self._check(root)\n",
        "\n",
        "    def _check(self,node):\n",
        "\n",
        "        if node == None:\n",
        "            return True\n",
        "\n",
        "        if not self._check(node.left):\n",
        "            return False\n",
        "\n",
        "        if node.data <= self.prev:\n",
        "            return False\n",
        "\n",
        "        self.prev = node.data\n",
        "        return self._check(node.right)"
      ],
      "metadata": {
        "id": "4XNAM-o_xLN1"
      },
      "execution_count": null,
      "outputs": []
    },
    {
      "cell_type": "markdown",
      "source": [
        "# **Problem Statement - 2**\n",
        "\n",
        "**Find the Sum of Last N nodes of the Linked List**\n",
        "\n",
        "Given a single linked list, calculate the sum of the last n nodes.\n",
        "\n",
        "Note: It is guaranteed that n <= number of nodes.\n",
        "\n",
        "\n",
        "[Problem Link](https://www.geeksforgeeks.org/problems/find-the-sum-of-last-n-nodes-of-the-linked-list/1)"
      ],
      "metadata": {
        "id": "P7qh7DHV8xVd"
      }
    },
    {
      "cell_type": "markdown",
      "source": [
        "### **Approach  ( Time Complexity O(n) and Space Complexity O(k) )**\n",
        "\n",
        "**Traversing the List:**\n",
        "\n",
        " * We need to traverse the entire list to gather the last n nodes.\n",
        "\n",
        " * As we traverse the list, we can maintain a fixed-size sliding window (queue or list) of the last n elements. Every time a new element is encountered, it's added to the list, and if the size exceeds n, we remove the oldest element from the list.\n",
        "\n",
        "**Sliding Window:**\n",
        "\n",
        " * We can store the values of the last n nodes in a list or queue. This allows us to keep only the last n elements while discarding the earlier ones.\n",
        "\n",
        " * Once the traversal of the linked list is complete, we simply return the sum of the elements in this list."
      ],
      "metadata": {
        "id": "2mK8oT6weIJh"
      }
    },
    {
      "cell_type": "code",
      "source": [
        "class Solution:\n",
        "    def sumOfLastN_Nodes(self, head, n):\n",
        "        #function should return sum of last n nodes\n",
        "        temp = head\n",
        "        _nds = [ ]\n",
        "\n",
        "        while temp:\n",
        "            _nds.append(temp.data)\n",
        "            if len(_nds) > n:\n",
        "                _nds.pop(0)\n",
        "            temp = temp.next\n",
        "\n",
        "        return sum(_nds)"
      ],
      "metadata": {
        "id": "xOsfZ1MSieuR"
      },
      "execution_count": null,
      "outputs": []
    },
    {
      "cell_type": "markdown",
      "source": [
        "# **Thank You..**"
      ],
      "metadata": {
        "id": "Vnswq_x2gudi"
      }
    }
  ]
}