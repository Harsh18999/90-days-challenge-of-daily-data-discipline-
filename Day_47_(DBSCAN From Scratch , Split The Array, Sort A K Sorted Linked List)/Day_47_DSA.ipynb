{
  "nbformat": 4,
  "nbformat_minor": 0,
  "metadata": {
    "colab": {
      "provenance": [],
      "authorship_tag": "ABX9TyOorS+/YizmldvH2KJHaOPw"
    },
    "kernelspec": {
      "name": "python3",
      "display_name": "Python 3"
    },
    "language_info": {
      "name": "python"
    }
  },
  "cells": [
    {
      "cell_type": "markdown",
      "source": [
        "# **Problem Statement - 1**\n",
        "**Split the Array**\n",
        "\n",
        "Given an array arr[] of integers, the task is to count the number of ways to split given array elements into two disjoint groups such that the XOR of elements of each group is equal.\n",
        "Note: The answer could be very large so print it by doing modulo with 109 + 7.\n",
        "\n",
        "\n",
        "[Problem Link](https://www.geeksforgeeks.org/problems/split-the-array0238/1)"
      ],
      "metadata": {
        "id": "Wdgjz09S9tGU"
      }
    },
    {
      "cell_type": "markdown",
      "source": [
        "### **Approach  ( Time Complexity O(n) and Space Complexity O(1) )**\n",
        "\n",
        "**Understanding the XOR condition:**\n",
        "\n",
        " *  The XOR of a set of elements is the bitwise XOR (exclusive OR) of all elements in that set.\n",
        " *  XOR has an interesting property: if the XOR of all elements in the array is zero, then it is possible to partition the array into non-empty subsets where each subset's XOR is zero.\n",
        "\n",
        "**Key Observation:**\n",
        "\n",
        " * If the XOR of all elements of the array is non-zero, then no partitioning into groups with XOR equal to zero is possible.\n",
        " * If the XOR of all elements is zero, then it becomes possible to form groups where XOR equals zero.\n",
        "\n",
        "**Subset Counting:**\n",
        "\n",
        " * If the XOR of the entire array is zero, there are 2^n-1 valid subsets, where\n",
        "n is the number of elements in the array. This is because the first n-1 elements can freely choose whether to be included in a group, and the n-th element is automatically determined based on the XOR condition.\n",
        "\n",
        "**Modulo Arithmetic:**\n",
        "\n",
        " * The result needs to be returned modulo 10**9 + 7 to avoid overflow and to fit within the problem constraints.\n",
        "\n",
        "**Edge Case:**\n",
        "\n",
        " * If the XOR of all elements is non-zero, no valid grouping is possible, and the function should return 0."
      ],
      "metadata": {
        "id": "L8Zpbqsnf2eJ"
      }
    },
    {
      "cell_type": "code",
      "source": [
        "#User function Template for python3\n",
        "class Solution:\n",
        "    def countgroup(self,arr):\n",
        "        #Complete the function\n",
        "        mod = 10**9 + 7\n",
        "        all_xor = 0\n",
        "\n",
        "        for i in arr:\n",
        "            all_xor = all_xor^i\n",
        "\n",
        "        if all_xor != 0:\n",
        "            return 0\n",
        "\n",
        "        return pow(2,len(arr)-1,mod)-1\n"
      ],
      "metadata": {
        "id": "4XNAM-o_xLN1"
      },
      "execution_count": null,
      "outputs": []
    },
    {
      "cell_type": "markdown",
      "source": [
        "# **Problem Statement - 2**\n",
        "\n",
        "**Sort a k sorted doubly linked list**\n",
        "\n",
        "Given a doubly linked list, each node is at most k-indices away from its target position. The problem is to sort the given doubly linked list. The distance can be assumed in either of the directions (left and right).\n",
        "\n",
        "\n",
        "[Problem Link](https://www.geeksforgeeks.org/problems/sort-a-k-sorted-doubly-linked-list/1)"
      ],
      "metadata": {
        "id": "P7qh7DHV8xVd"
      }
    },
    {
      "cell_type": "markdown",
      "source": [
        "### **Approach  ( Time Complexity O(n*(log k)) and Space Complexity O(k) )**\n",
        "\n",
        "**Initialize a min-heap:**\n",
        "\n",
        " * A min-heap is used to store the smallest elements within a window of size\n",
        "k+1. This helps in ensuring that we always have the smallest element available for the next node in the sorted list.\n",
        "\n",
        "**Add the first\n",
        "k\n",
        "+\n",
        "1\n",
        "k+1 elements to the heap:**\n",
        "\n",
        "* Since the elements are at most k positions away from their correct position, the smallest element among the first\n",
        "k+1 nodes should be at the start of the list.\n",
        "\n",
        "* Add the first\n",
        "k+1 elements from the doubly linked list into the min-heap.\n",
        "\n",
        "**Iterate through the list:**\n",
        "\n",
        " * For each node in the linked list, pop the smallest element from the heap and replace the current node's data with that value.\n",
        " * Then, move to the next node in the list, and add the next element (from the unsorted portion of the list) to the heap, maintaining the size of the heap at\n",
        "k+1.\n",
        " * Continue this process until the list is fully sorted.\n",
        "\n",
        "**Return the sorted list:**\n",
        "\n",
        " * Once the heap is exhausted and all nodes have been updated with sorted data, return the head of the sorted linked list."
      ],
      "metadata": {
        "id": "2mK8oT6weIJh"
      }
    },
    {
      "cell_type": "code",
      "source": [
        "import heapq\n",
        "\n",
        "class Solution:\n",
        "    def sortAKSortedDLL(self, head, k):\n",
        "        # Code Here\n",
        "        min_heap = []\n",
        "        _temp = head\n",
        "\n",
        "        for _ in range(k+1):\n",
        "            heapq.heappush(min_heap,_temp.data)\n",
        "            _temp = _temp.next\n",
        "\n",
        "        temp = head\n",
        "        while temp:\n",
        "            temp.data = heapq.heappop(min_heap)\n",
        "            if _temp: heapq.heappush(min_heap,_temp.data) ; _temp = _temp.next\n",
        "            temp = temp.next\n",
        "\n",
        "        return head\n"
      ],
      "metadata": {
        "id": "xOsfZ1MSieuR"
      },
      "execution_count": null,
      "outputs": []
    },
    {
      "cell_type": "markdown",
      "source": [
        "# **Thank You..**"
      ],
      "metadata": {
        "id": "Vnswq_x2gudi"
      }
    }
  ]
}