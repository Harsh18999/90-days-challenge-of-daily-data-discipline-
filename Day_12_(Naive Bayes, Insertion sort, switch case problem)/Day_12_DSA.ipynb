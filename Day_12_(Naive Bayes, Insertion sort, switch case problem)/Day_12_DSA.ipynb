{
  "nbformat": 4,
  "nbformat_minor": 0,
  "metadata": {
    "colab": {
      "provenance": [],
      "authorship_tag": "ABX9TyNGsAJf/phyLnXCS7y1L3qN"
    },
    "kernelspec": {
      "name": "python3",
      "display_name": "Python 3"
    },
    "language_info": {
      "name": "python"
    }
  },
  "cells": [
    {
      "cell_type": "markdown",
      "source": [
        "# **Problem Statement - 1**\n",
        "\n",
        "**Insertion Sort**\n",
        "\n",
        "The task is to complete the insert() function which is used to implement Insertion Sort.\n",
        "\n",
        "\n",
        "[Problem Link](https://www.geeksforgeeks.org/problems/insertion-sort/1)"
      ],
      "metadata": {
        "id": "P7qh7DHV8xVd"
      }
    },
    {
      "cell_type": "markdown",
      "source": [
        "### **Approach  ( Time Complexity O(n^2) and Space Complexity O(1) )**\n",
        "\n",
        "**Insertion Sort Outer Loop:**\n",
        "\n",
        "*  Iterate through the list alist starting from index 1 to n-1 (since a list with a single element is already sorted).\n",
        "*  For each index i, call the insert function to place the element in its correct position within the sorted portion of the list.\n",
        "\n",
        "**Insert Function:**\n",
        "\n",
        "*  Start at the given index and compare the current element alist[index] with the element before it (alist[index-1]).\n",
        "*  If the previous element is greater than the current one, swap them. Continue this process moving backwards until the correct position for the current element is found, or the start of the list is reached.\n",
        "\n",
        "**Return the Sorted List:** After completing the outer loop, the list will be sorted using the insertion sort algorithm, and alist is returned."
      ],
      "metadata": {
        "id": "2mK8oT6weIJh"
      }
    },
    {
      "cell_type": "code",
      "execution_count": null,
      "metadata": {
        "id": "nmQi3RKtcxZ8"
      },
      "outputs": [],
      "source": [
        "class Solution:\n",
        "    def insert(self, alist, index, n):\n",
        "        #code here\n",
        "        j = index\n",
        "        while j > 0 and alist[j-1] > alist[j]:\n",
        "            alist[j-1] ,alist[j]= alist[j], alist[j-1]\n",
        "            j -=1\n",
        "\n",
        "\n",
        "    #Function to sort the list using insertion sort algorithm.\n",
        "    def insertionSort(self, alist, n):\n",
        "        #code here\n",
        "        for i in range(1,n):\n",
        "            self.insert(alist,i,n)\n",
        "        return alist"
      ]
    }
  ]
}