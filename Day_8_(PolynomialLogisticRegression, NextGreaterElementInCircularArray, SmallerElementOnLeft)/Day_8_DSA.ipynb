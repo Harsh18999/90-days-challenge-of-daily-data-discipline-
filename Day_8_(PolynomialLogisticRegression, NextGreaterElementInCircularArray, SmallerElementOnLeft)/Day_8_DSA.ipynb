{
  "nbformat": 4,
  "nbformat_minor": 0,
  "metadata": {
    "colab": {
      "provenance": [],
      "authorship_tag": "ABX9TyNKlMIjl0RLuE7H6vYO0I8c"
    },
    "kernelspec": {
      "name": "python3",
      "display_name": "Python 3"
    },
    "language_info": {
      "name": "python"
    }
  },
  "cells": [
    {
      "cell_type": "markdown",
      "source": [
        "# **Problem Statement - 1**\n",
        "\n",
        "**Next Greater Element in Circular Array**\n",
        "\n",
        "Given an circular array arr[ ] of size n having distinct elements, the task is to find the next greater element for each element of the array .\n",
        "\n",
        "[Problem Link](https://www.geeksforgeeks.org/problems/next-greater-element/1)"
      ],
      "metadata": {
        "id": "P7qh7DHV8xVd"
      }
    },
    {
      "cell_type": "markdown",
      "source": [
        "### **Approach  ( Time Complexity O(n) and Space Complexity O(n) )**\n",
        "\n",
        "**Initialize Stack and Answer List:** Create an empty stack to keep track of potential next larger elements and an answer list ans initialized with zeros of length n to store the results.\n",
        "\n",
        "**Push Elements onto the Stack:** Traverse the array from right to left, pushing each element onto the stack. This step prepares the stack for the next phase where we determine the next larger elements.\n",
        "\n",
        "**Traverse the Array Again from Right to Left:** Use a second loop to iterate through the array from the last element to the first.\n",
        "\n",
        "**Maintain Stack of Potential Next Larger Elements:**\n",
        "For each element, use a while loop to pop elements from the stack that are less than or equal to the current array element, as they cannot be the next larger element.\n",
        "\n",
        "**Determine the Next Larger Element:**\n",
        "\n",
        "*  If the stack is empty after popping, it means there is no larger element to the right, so set ans[i] to -1.\n",
        "*  If the stack is not empty, the top element of the stack is the next larger element, so set ans[i] to this value.\n",
        "\n",
        "**Update Stack:** Push the current array element back onto the stack to maintain the list of potential next larger elements for the remaining items.\n"
      ],
      "metadata": {
        "id": "2mK8oT6weIJh"
      }
    },
    {
      "cell_type": "code",
      "execution_count": null,
      "metadata": {
        "id": "nmQi3RKtcxZ8"
      },
      "outputs": [],
      "source": [
        "def nextLargerElement(self,arr,n):\n",
        "    stack = [ ]\n",
        "    ans = [0]*n\n",
        "\n",
        "    for i in range(n-1,-1,-1):\n",
        "        stack.append(arr[i])\n",
        "\n",
        "    for i in range(n-1,-1,-1):\n",
        "        while stack and arr[i]>=stack[-1]:\n",
        "            stack.pop()\n",
        "        if not stack:\n",
        "            ans[i] = -1\n",
        "        else:\n",
        "            ans[i] = stack[-1]\n",
        "        stack.append(arr[i])\n",
        "\n",
        "    return ans"
      ]
    },
    {
      "cell_type": "markdown",
      "source": [
        "# **Problem Statement - 2**\n",
        "**Smallest number on left**\n",
        "\n",
        "Given an array a of integers of length n, find the nearest smaller number for every element such that the smaller element is on left side.If no small element present on the left print -1.\n",
        "\n",
        "[Problem Link](https://www.geeksforgeeks.org/problems/smallest-number-on-left3403/1)"
      ],
      "metadata": {
        "id": "Wdgjz09S9tGU"
      }
    },
    {
      "cell_type": "markdown",
      "source": [
        "### **Approach  ( Time Complexity O(n) and Space Complexity O(n) )**\n",
        "\n",
        "**Initialize Answer List and Stack:** Create an empty list ans to store the result, and an empty stack to keep track of potential smaller elements to the left.\n",
        "\n",
        "**Traverse the Array from Left to Right:** Use a for loop to iterate through each element in the array a.\n",
        "\n",
        "**Maintain Stack of Potential Smaller Elements:**\n",
        "For each element, use a while loop to pop elements from the stack that are greater than or equal to the current element (i). This ensures that only elements smaller than the current element remain in the stack.\n",
        "\n",
        "**Determine the Left Smaller Element:**\n",
        "\n",
        "*  If the stack is empty after popping, it means there is no smaller element to the left, so append -1 to ans.\n",
        "*  If the stack is not empty, the top element of the stack is the next smaller element to the left, so append this value to ans.\n",
        "\n",
        "**Update Stack:** Push the current element onto the stack to be a potential left smaller element for the upcoming elements."
      ],
      "metadata": {
        "id": "L8Zpbqsnf2eJ"
      }
    },
    {
      "cell_type": "code",
      "source": [
        "def leftSmaller(self, n, a):\n",
        "    ans = [ ]\n",
        "    stack = [ ]\n",
        "\n",
        "    for i in a:\n",
        "        while stack and i<=stack[-1]:\n",
        "            stack.pop()\n",
        "        if not stack:\n",
        "            ans.append(-1)\n",
        "        else:\n",
        "            ans.append(stack[-1])\n",
        "        stack.append(i)\n",
        "    return ans"
      ],
      "metadata": {
        "id": "21IJefxed_zF"
      },
      "execution_count": null,
      "outputs": []
    },
    {
      "cell_type": "markdown",
      "source": [
        "# **Thank You..**"
      ],
      "metadata": {
        "id": "Vnswq_x2gudi"
      }
    }
  ]
}