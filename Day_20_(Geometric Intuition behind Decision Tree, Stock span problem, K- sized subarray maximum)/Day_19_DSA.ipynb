{
  "nbformat": 4,
  "nbformat_minor": 0,
  "metadata": {
    "colab": {
      "provenance": [],
      "authorship_tag": "ABX9TyN9+gVjxkAUtRJllAD1Qw+P"
    },
    "kernelspec": {
      "name": "python3",
      "display_name": "Python 3"
    },
    "language_info": {
      "name": "python"
    }
  },
  "cells": [
    {
      "cell_type": "markdown",
      "source": [
        "# **Problem Statement - 1**\n",
        "**Stock span problem**\n",
        "\n",
        "The stock span problem is a financial problem where we have a series of n daily price quotes for a stock and we need to calculate the span of stocks price for all n days.\n",
        "The span Si of the stocks price on a given day i is defined as the maximum number of consecutive days just before the given day, for which the price of the stock on the given day is less than or equal to its price on the current day.\n",
        "\n",
        "[Problem Link](https://www.geeksforgeeks.org/problems/stock-span-problem-1587115621/1)"
      ],
      "metadata": {
        "id": "Wdgjz09S9tGU"
      }
    },
    {
      "cell_type": "markdown",
      "source": [
        "### **Approach  ( Time Complexity O(n) and Space Complexity O(n) )**\n",
        "\n",
        "**Stack:** The stack is used to store pairs of stock prices and their corresponding spans. This helps in efficiently calculating the span for each day.\n",
        "\n",
        "**Looping through prices:**\n",
        "\n",
        "*  For each day i, it initializes the span (sp) as 1.\n",
        "*  While the stack is not empty and the price at the top of the stack is less than or equal to the current price (a[i]), it pops the stack and adds the popped span to sp.\n",
        "*  After popping, the current price and its calculated span are added to the stack.\n",
        "*  The calculated span for the current day is appended to the result list.\n",
        "\n",
        "**Result:** After iterating through all prices, the function returns the list of spans."
      ],
      "metadata": {
        "id": "L8Zpbqsnf2eJ"
      }
    },
    {
      "cell_type": "code",
      "source": [
        "class Solution:\n",
        "\n",
        "    def calculateSpan(self,a,n):\n",
        "        #code here\n",
        "        stack = [ ]\n",
        "        res = [ ]\n",
        "\n",
        "        for i in range(n):\n",
        "            sp=1\n",
        "            while stack and stack[-1][0] <= a[i]:\n",
        "                sp+=stack.pop()[1]\n",
        "            stack.append([a[i],sp])\n",
        "            res.append(sp)\n",
        "\n",
        "        return res"
      ],
      "metadata": {
        "id": "21IJefxed_zF"
      },
      "execution_count": null,
      "outputs": []
    },
    {
      "cell_type": "markdown",
      "source": [
        "# **Problem Statement - 2**\n",
        "\n",
        "**K Sized Subarray Maximum**\n",
        "\n",
        "Given an array arr[] and an integer k. Find the maximum for each and every contiguous subarray of size k.\n",
        "\n",
        "[Problem Link](https://www.geeksforgeeks.org/problems/maximum-of-all-subarrays-of-size-k3101/1)"
      ],
      "metadata": {
        "id": "P7qh7DHV8xVd"
      }
    },
    {
      "cell_type": "markdown",
      "source": [
        "### **Approach  ( Time Complexity O(n) and Space Complexity O(k) )**\n",
        "\n",
        "**Sliding Window with Deque:**\n",
        "*  The deque holds indices of elements in the current sliding window of size k. The idea is to keep the elements in a decreasing order in terms of values.\n",
        "\n",
        "**Deque Operations:**\n",
        "* **Remove elements out of the current window:** If the element at the front of the deque is out of the current window (i.e., its index is i-k), it is removed from the deque.\n",
        "\n",
        "*  **Maintain decreasing order:** Elements smaller than the current element arr[i] are removed from the deque from the back, ensuring that the deque holds the largest element at the front.\n",
        "\n",
        "**Recording results:**\n",
        "Once the window reaches size k (i.e., i >= k-1), the front of the deque holds the index of the maximum element for that subarray, and it is appended to the result list."
      ],
      "metadata": {
        "id": "2mK8oT6weIJh"
      }
    },
    {
      "cell_type": "code",
      "execution_count": null,
      "metadata": {
        "id": "nmQi3RKtcxZ8"
      },
      "outputs": [],
      "source": [
        "from collections import deque\n",
        "class Solution:\n",
        "\n",
        "    def max_of_subarrays(self,arr,k):\n",
        "        #code here\n",
        "        dq = deque()\n",
        "        n = len(arr)\n",
        "        res = [ ]\n",
        "\n",
        "        for i in range(n):\n",
        "            if dq and dq[0] == i-k : dq.popleft()\n",
        "\n",
        "            while dq and arr[dq[-1]] < arr[i]:\n",
        "                dq.pop()\n",
        "\n",
        "            dq.append(i)\n",
        "            if i>= k-1 : res.append(arr[dq[0]])\n",
        "\n",
        "        return res"
      ]
    },
    {
      "cell_type": "markdown",
      "source": [
        "# **Thank You..**"
      ],
      "metadata": {
        "id": "Vnswq_x2gudi"
      }
    }
  ]
}