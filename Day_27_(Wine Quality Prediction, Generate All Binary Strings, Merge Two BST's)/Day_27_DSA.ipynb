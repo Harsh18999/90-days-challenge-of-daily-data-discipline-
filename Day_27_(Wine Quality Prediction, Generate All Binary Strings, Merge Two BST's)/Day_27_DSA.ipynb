{
  "nbformat": 4,
  "nbformat_minor": 0,
  "metadata": {
    "colab": {
      "provenance": [],
      "authorship_tag": "ABX9TyPAghXfWuGNv0QpcEZl2lrw"
    },
    "kernelspec": {
      "name": "python3",
      "display_name": "Python 3"
    },
    "language_info": {
      "name": "python"
    }
  },
  "cells": [
    {
      "cell_type": "markdown",
      "source": [
        "# **Problem Statement - 1**\n",
        "**Generate all binary strings**\n",
        "\n",
        "Given an integer N , Print all binary strings of size N which do not contain consecutive 1s.\n",
        "\n",
        "A binary string is that string which contains only 0 and 1.\n",
        "\n",
        "[Problem Link](https://www.geeksforgeeks.org/problems/generate-all-binary-strings/1)"
      ],
      "metadata": {
        "id": "Wdgjz09S9tGU"
      }
    },
    {
      "cell_type": "markdown",
      "source": [
        "### **Approach  ( Time Complexity O(2^n) and Space Complexity O(n) )**\n",
        "\n",
        "**Main Function:**\n",
        "\n",
        "+    Initialize an empty list res to store the generated binary strings.\n",
        "\n",
        "*    Create a list str of length n with all elements initialized to '0'.\n",
        "*    Call the recursive function generate with str, 1, and n as arguments.\n",
        "*    Modify the first element of str to '1' and call generate again with the same arguments.\n",
        "*    Return the list of generated binary strings res.\n",
        "\n",
        "**Recursive Function:**\n",
        "\n",
        "*    If the current index n is equal to the length k, it means we have generated a complete binary string. Append the string to the result list res and return.\n",
        "*    If the previous character (str[n-1]) is '1', we can only append '0' to the current position (str[n]). Recursively call generate with the updated string and incremented index n+1.\n",
        "\n",
        "*   **If the previous character (str[n-1]) is '0', we have two options:**\n",
        "      * Append '0' to the current position (str[n]) and recursively call generate with the updated string and incremented index n+1.\n",
        "      *  Append '1' to the current position (str[n]) and recursively call generate with the updated string and incremented index n+1.\n",
        "\n",
        "\n",
        "\n",
        "\n",
        "\n"
      ],
      "metadata": {
        "id": "L8Zpbqsnf2eJ"
      }
    },
    {
      "cell_type": "code",
      "source": [
        "class Solution:\n",
        "    def generateBinaryStrings(self, n):\n",
        "        # Code here\n",
        "        self.res = [ ]\n",
        "        str = ['0']*n\n",
        "        self.generate(str,1,n)\n",
        "        str[0]='1'\n",
        "        self.generate(str,1,n)\n",
        "\n",
        "        return self.res\n",
        "\n",
        "    def generate(self,str,n,k):\n",
        "\n",
        "        if n == k:\n",
        "            self.res.append(''.join(str))\n",
        "            return\n",
        "\n",
        "        if str[n-1] == '1':\n",
        "            str[n] = '0'\n",
        "            self.generate(str,n+1,k)\n",
        "\n",
        "        elif str[n-1] == '0':\n",
        "            str[n] = '0'\n",
        "            self.generate(str,n+1,k)\n",
        "            str[n] = '1'\n",
        "            self.generate(str,n+1,k)"
      ],
      "metadata": {
        "id": "21IJefxed_zF"
      },
      "execution_count": null,
      "outputs": []
    },
    {
      "cell_type": "markdown",
      "source": [
        "# **Problem Statement - 2**\n",
        "\n",
        "**Merge two BST 's**\n",
        "\n",
        "Given two BSTs, return elements of merged BSTs in sorted form.\n",
        "\n",
        "\n",
        "\n",
        "[Problem Link](https://www.geeksforgeeks.org/problems/merge-two-bst-s/1)"
      ],
      "metadata": {
        "id": "P7qh7DHV8xVd"
      }
    },
    {
      "cell_type": "markdown",
      "source": [
        "### **Approach  ( Time Complexity O((m+n)*log(m+n)) and Space Complexity O(m+n) )**\n",
        "\n",
        "**Inorder Traversal:**\n",
        "  *      Perform an inorder traversal on both BSTs (root1 and root2) to get two sorted lists of elements (res1 and res2).\n",
        "  *      The inorder function recursively visits the left subtree, appends the root, and then visits the right subtree.\n",
        "\n",
        "**Merge Two Sorted Lists:**\n",
        "  *    Use two pointers (i for res1 and j for res2) to merge the two sorted lists into one final sorted list (res).\n",
        "    \n",
        "  *   Compare the current elements of both lists and append the smaller one to the result list, incrementing the corresponding pointer.\n",
        "\n",
        "**Handle Remaining Elements:**\n",
        "    \n",
        "  * If there are any remaining elements in either of the two lists, append them to the result list.\n",
        "\n",
        "**Return:** The final merged sorted list is returned after merging both BSTs.\n",
        "\n"
      ],
      "metadata": {
        "id": "2mK8oT6weIJh"
      }
    },
    {
      "cell_type": "code",
      "source": [
        "class Solution:\n",
        "\n",
        "    def merge(self, root1, root2):\n",
        "        res1,res2 = [],[]\n",
        "        self.inorder(root1,res1)\n",
        "        self.inorder(root2,res2)\n",
        "        i,j,res = 0,0,[]\n",
        "        while i < len(res1) and j < len(res2):\n",
        "            if res1[i] < res2[j]:\n",
        "                res.append(res1[i])\n",
        "                i += 1\n",
        "            else:\n",
        "                res.append(res2[j])\n",
        "                j += 1\n",
        "\n",
        "        while i < len(res1):\n",
        "            res.append(res1[i])\n",
        "            i += 1\n",
        "\n",
        "        while j < len(res2):\n",
        "            res.append(res2[j])\n",
        "            j += 1\n",
        "\n",
        "        return res\n",
        "\n",
        "    def inorder(self,root,res):\n",
        "        if not root:\n",
        "            return\n",
        "        self.inorder(root.left,res)\n",
        "        res.append(root.data)\n",
        "        self.inorder(root.right,res)"
      ],
      "metadata": {
        "id": "d5ZfbfHod_qH"
      },
      "execution_count": null,
      "outputs": []
    },
    {
      "cell_type": "markdown",
      "source": [
        "# **Thank You..**"
      ],
      "metadata": {
        "id": "Vnswq_x2gudi"
      }
    }
  ]
}