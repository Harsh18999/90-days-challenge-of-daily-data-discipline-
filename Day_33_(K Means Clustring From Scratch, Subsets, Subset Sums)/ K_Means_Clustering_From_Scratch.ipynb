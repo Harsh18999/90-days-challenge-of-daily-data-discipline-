{
  "nbformat": 4,
  "nbformat_minor": 0,
  "metadata": {
    "colab": {
      "provenance": [],
      "authorship_tag": "ABX9TyMLugInKKd260VCjh9qYF4d"
    },
    "kernelspec": {
      "name": "python3",
      "display_name": "Python 3"
    },
    "language_info": {
      "name": "python"
    }
  },
  "cells": [
    {
      "cell_type": "code",
      "execution_count": 13,
      "metadata": {
        "id": "i0dNxBwCgAxf"
      },
      "outputs": [],
      "source": [
        "from sklearn.datasets import make_blobs, make_classification\n",
        "import numpy as np\n",
        "import seaborn as sns\n",
        "import matplotlib.pyplot as plt\n",
        "import plotly.express as px\n",
        "import plotly.graph_objects as go"
      ]
    },
    {
      "cell_type": "code",
      "source": [
        "X,y = make_blobs(n_samples=100, n_features=3, centers=None, cluster_std=1.0, center_box=(-8.0, 8.0), shuffle=True, random_state=None, return_centers=False)"
      ],
      "metadata": {
        "id": "Ybm8hYU5gV_v"
      },
      "execution_count": 32,
      "outputs": []
    },
    {
      "cell_type": "code",
      "source": [
        "fig = px.scatter_3d(x = X[:,0], y = X[:,1], z = X[:,2],title='3d Overview of data distribution')\n",
        "fig.show()"
      ],
      "metadata": {
        "colab": {
          "base_uri": "https://localhost:8080/",
          "height": 562
        },
        "id": "DPnypdfehcHP",
        "outputId": "77b241f4-5380-420a-f3c4-22b34a725d49"
      },
      "execution_count": 34,
      "outputs": [
        {
          "output_type": "display_data",
          "data": {
            "text/html": [
              "<html>\n",
              "<head><meta charset=\"utf-8\" /></head>\n",
              "<body>\n",
              "    <div>            <script src=\"https://cdnjs.cloudflare.com/ajax/libs/mathjax/2.7.5/MathJax.js?config=TeX-AMS-MML_SVG\"></script><script type=\"text/javascript\">if (window.MathJax && window.MathJax.Hub && window.MathJax.Hub.Config) {window.MathJax.Hub.Config({SVG: {font: \"STIX-Web\"}});}</script>                <script type=\"text/javascript\">window.PlotlyConfig = {MathJaxConfig: 'local'};</script>\n",
              "        <script charset=\"utf-8\" src=\"https://cdn.plot.ly/plotly-2.35.2.min.js\"></script>                <div id=\"ea17d2e0-a714-491a-9155-183cffcf5097\" class=\"plotly-graph-div\" style=\"height:525px; width:100%;\"></div>            <script type=\"text/javascript\">                                    window.PLOTLYENV=window.PLOTLYENV || {};                                    if (document.getElementById(\"ea17d2e0-a714-491a-9155-183cffcf5097\")) {                    Plotly.newPlot(                        \"ea17d2e0-a714-491a-9155-183cffcf5097\",                        [{\"hovertemplate\":\"x=%{x}\\u003cbr\\u003ey=%{y}\\u003cbr\\u003ez=%{z}\\u003cextra\\u003e\\u003c\\u002fextra\\u003e\",\"legendgroup\":\"\",\"marker\":{\"color\":\"#636efa\",\"symbol\":\"circle\"},\"mode\":\"markers\",\"name\":\"\",\"scene\":\"scene\",\"showlegend\":false,\"x\":[3.0562604793579773,-2.9968997791757586,-4.428669486409333,-5.1780775328503985,-3.5450007358085376,2.2361328641029017,-3.0701381394900498,-3.3178742775022556,1.8779823112733958,-4.012693988002022,-2.3925027403385033,2.4911860124228817,1.9092645846257212,-3.5546887481994363,-5.750191502446019,1.610315796799561,-3.8401732029610445,-3.7126771144332866,2.640723031801795,-4.0624716908574365,-2.7097776420910646,-2.700632136019318,-3.560145411521468,-2.9519512113833337,-3.4298973576398506,1.8064870077249582,1.9456590301158845,-4.408700683113351,0.34532015669136307,-3.1453727534684566,-4.407522688736431,-3.1679804961432323,1.6590034709384096,-3.6213153889200975,-5.26921213086057,-4.490089987362771,-4.381464521452892,0.9352728230206083,-3.770490629851092,-6.425812925590815,-0.5158015283094695,-3.8099452249931915,-3.7071441798206215,0.5610141887459403,-4.315685502060766,1.1892564879396066,-2.8304278524362685,0.21027828927194836,-0.31227877868142273,1.6177307841247102,-3.5469546165867927,-3.699882576654489,2.7317905024740976,-4.572102388505281,-4.649385506234328,-2.746048623494483,-3.3958724910371325,-2.798646085114161,4.273595568295723,-3.122225751176485,1.599848027501042,-3.997451314908472,1.4415210598099721,-4.068125837023065,-3.8303004473488924,2.1327044434836844,-3.3329225287128708,1.5778494268050245,-4.744583819931526,0.5606008920639202,0.38873065912607707,-3.6804451691515663,1.1722700588479325,-3.0128864383201672,-4.454698779374823,-3.7116083341594153,2.742858702735246,1.5682187792679343,0.03009021632475717,-2.662865730480247,-3.429373530402445,1.0750441868700384,-2.6085183191207726,2.1748746746109644,-2.9385480682167655,-5.046280775231385,-3.241172473748181,-4.193933943415997,-6.490328022822228,-4.3717429681123425,-3.4169240826478586,-5.553868380239988,-3.2704608461853923,2.784288158708824,-2.3168021041271945,-4.978524842699911,-3.7292114539346417,0.8572105911981472,-4.064090285012918,-3.8341518812635753],\"y\":[-0.4534801598763128,-5.016459898096885,-0.3405852460644939,-4.8149209369999335,-3.6559627914064325,0.8588878924568262,-3.93451004353129,-0.7245094717326097,-2.0115703014046065,-4.463973675264202,-4.914228008943096,-2.8350903092270596,0.13518136281281912,-5.027717683559866,0.016064010197171387,-0.9390129076704252,-4.781955907704608,0.813852155305283,1.0228500742428621,-4.892834696073262,-2.107488823742899,-4.039750165701939,-0.06483819405402892,-4.274041469781463,-1.1252346269563274,-0.9085215955812869,-0.23916749193206732,-0.06110956649611994,-1.8634915272714991,-4.043551709981946,-3.892815738353009,-4.385120031576115,-1.3462545122214253,1.8789317615220504,-0.1150087876973599,1.3943837287743719,0.8781447637716393,-0.3985466699732363,-5.021985273342712,-3.30113292795864,-0.30821058821050074,-4.333197378401303,-4.583036281468577,-0.48441690036788265,-5.455815186222093,0.7526928256592964,2.0832217426947643,-1.4058711014649408,0.5294445725600994,0.18200718031977003,-0.5221581129430444,-1.1711967597708806,-0.44742517825026057,1.1490263529772613,-0.20777270378256574,-4.20795479652476,0.01969443281480199,-0.5827209223623844,-0.6495187223908909,-3.7208153533984842,-1.2905232304060332,-0.6136309353960547,-0.5196069811816623,0.7298519042120333,-3.6106614238950767,-0.7957598692555775,-3.4234841984942506,-1.122556633501187,1.5732878534220147,-0.10920904607576465,-1.6678274563975468,-6.983496375504329,-1.7354022491255048,-6.275017266413101,1.2481405489605488,-5.810376849989306,-2.444901388552945,0.3728440847112391,-0.0859467407963489,0.7088852517423966,-6.074141301305748,-1.0713763171976722,0.9489711403390019,-1.207263974155652,-0.9571720897046525,-0.11167572827878802,-5.781796130320194,0.7291421302614944,-4.655639486592578,-2.2180176314119793,0.27241951680113485,-4.8531065871946835,-0.9524671430668891,-0.9317232491326518,-6.239513025651359,1.456785922230753,-3.536465038416026,0.0041806419360291835,-0.6446769310269762,-1.3386996896577124],\"z\":[7.802902047724118,0.2843708130289825,-5.795481806911943,1.6357209604946052,0.08932028232665434,7.91475167152971,1.4587517686641334,-4.448008751745358,8.003003527447744,2.6132017400877876,1.4934097834268396,7.9242826411556,6.6789445474587845,1.2543029444011542,-5.324351467793085,6.961563067146236,1.7361166771353542,-5.666571574295836,8.562294129175076,1.2351927740412152,0.8006295167032678,0.2477034116839345,-5.746028974764839,0.7859963460797024,-6.567942717878192,7.4041304219611135,6.644884572922944,-6.410518818014379,9.144950400716663,1.7275200109000455,1.7324676235643974,0.5003912979012317,10.2011668434887,-6.084519137774809,-6.583859478341749,-4.6650706560458115,-7.09751400588328,6.5539297525721985,2.819036305034662,0.18439293012551272,6.917479482752701,1.0557507021297825,2.314514446514627,8.004226937268287,0.606850692096612,4.88908906647535,-5.853025054804535,7.772134518410922,7.832811346411326,6.278839370076602,-8.116632182240721,-6.653572809828518,6.787579921703714,-6.660128867736677,-5.600196446239226,0.08542919647871061,-6.189381082450493,-4.651182914695067,8.102769134141823,2.0483919833852733,7.491071962544872,-5.52017371873148,7.643389827187522,-4.519679418559527,1.4151506196924057,7.446761328915721,0.7196536995348695,8.614286546396647,-5.129314364028952,6.8423312566286105,7.295984208030553,1.6524258072225075,9.550503917034613,-0.013770394792147478,-5.533656520302413,1.866303104206635,7.169977244048674,7.6296321913271425,8.151867502629214,-5.372841326975987,1.1520750247196787,7.821719014317096,-4.579493033628627,8.241642143757986,-5.430285325074495,-5.1343025317103965,3.0334123805045587,-5.397779551316413,1.1270370609304803,-6.115970032855451,-6.133509312602039,2.727219580901833,-6.122194414887967,8.137313216522957,0.9616153493853341,-6.263757596475893,-0.04566754741881218,7.269268533281929,-6.2943414087713325,-6.4999932020058],\"type\":\"scatter3d\"}],                        {\"template\":{\"data\":{\"histogram2dcontour\":[{\"type\":\"histogram2dcontour\",\"colorbar\":{\"outlinewidth\":0,\"ticks\":\"\"},\"colorscale\":[[0.0,\"#0d0887\"],[0.1111111111111111,\"#46039f\"],[0.2222222222222222,\"#7201a8\"],[0.3333333333333333,\"#9c179e\"],[0.4444444444444444,\"#bd3786\"],[0.5555555555555556,\"#d8576b\"],[0.6666666666666666,\"#ed7953\"],[0.7777777777777778,\"#fb9f3a\"],[0.8888888888888888,\"#fdca26\"],[1.0,\"#f0f921\"]]}],\"choropleth\":[{\"type\":\"choropleth\",\"colorbar\":{\"outlinewidth\":0,\"ticks\":\"\"}}],\"histogram2d\":[{\"type\":\"histogram2d\",\"colorbar\":{\"outlinewidth\":0,\"ticks\":\"\"},\"colorscale\":[[0.0,\"#0d0887\"],[0.1111111111111111,\"#46039f\"],[0.2222222222222222,\"#7201a8\"],[0.3333333333333333,\"#9c179e\"],[0.4444444444444444,\"#bd3786\"],[0.5555555555555556,\"#d8576b\"],[0.6666666666666666,\"#ed7953\"],[0.7777777777777778,\"#fb9f3a\"],[0.8888888888888888,\"#fdca26\"],[1.0,\"#f0f921\"]]}],\"heatmap\":[{\"type\":\"heatmap\",\"colorbar\":{\"outlinewidth\":0,\"ticks\":\"\"},\"colorscale\":[[0.0,\"#0d0887\"],[0.1111111111111111,\"#46039f\"],[0.2222222222222222,\"#7201a8\"],[0.3333333333333333,\"#9c179e\"],[0.4444444444444444,\"#bd3786\"],[0.5555555555555556,\"#d8576b\"],[0.6666666666666666,\"#ed7953\"],[0.7777777777777778,\"#fb9f3a\"],[0.8888888888888888,\"#fdca26\"],[1.0,\"#f0f921\"]]}],\"heatmapgl\":[{\"type\":\"heatmapgl\",\"colorbar\":{\"outlinewidth\":0,\"ticks\":\"\"},\"colorscale\":[[0.0,\"#0d0887\"],[0.1111111111111111,\"#46039f\"],[0.2222222222222222,\"#7201a8\"],[0.3333333333333333,\"#9c179e\"],[0.4444444444444444,\"#bd3786\"],[0.5555555555555556,\"#d8576b\"],[0.6666666666666666,\"#ed7953\"],[0.7777777777777778,\"#fb9f3a\"],[0.8888888888888888,\"#fdca26\"],[1.0,\"#f0f921\"]]}],\"contourcarpet\":[{\"type\":\"contourcarpet\",\"colorbar\":{\"outlinewidth\":0,\"ticks\":\"\"}}],\"contour\":[{\"type\":\"contour\",\"colorbar\":{\"outlinewidth\":0,\"ticks\":\"\"},\"colorscale\":[[0.0,\"#0d0887\"],[0.1111111111111111,\"#46039f\"],[0.2222222222222222,\"#7201a8\"],[0.3333333333333333,\"#9c179e\"],[0.4444444444444444,\"#bd3786\"],[0.5555555555555556,\"#d8576b\"],[0.6666666666666666,\"#ed7953\"],[0.7777777777777778,\"#fb9f3a\"],[0.8888888888888888,\"#fdca26\"],[1.0,\"#f0f921\"]]}],\"surface\":[{\"type\":\"surface\",\"colorbar\":{\"outlinewidth\":0,\"ticks\":\"\"},\"colorscale\":[[0.0,\"#0d0887\"],[0.1111111111111111,\"#46039f\"],[0.2222222222222222,\"#7201a8\"],[0.3333333333333333,\"#9c179e\"],[0.4444444444444444,\"#bd3786\"],[0.5555555555555556,\"#d8576b\"],[0.6666666666666666,\"#ed7953\"],[0.7777777777777778,\"#fb9f3a\"],[0.8888888888888888,\"#fdca26\"],[1.0,\"#f0f921\"]]}],\"mesh3d\":[{\"type\":\"mesh3d\",\"colorbar\":{\"outlinewidth\":0,\"ticks\":\"\"}}],\"scatter\":[{\"fillpattern\":{\"fillmode\":\"overlay\",\"size\":10,\"solidity\":0.2},\"type\":\"scatter\"}],\"parcoords\":[{\"type\":\"parcoords\",\"line\":{\"colorbar\":{\"outlinewidth\":0,\"ticks\":\"\"}}}],\"scatterpolargl\":[{\"type\":\"scatterpolargl\",\"marker\":{\"colorbar\":{\"outlinewidth\":0,\"ticks\":\"\"}}}],\"bar\":[{\"error_x\":{\"color\":\"#2a3f5f\"},\"error_y\":{\"color\":\"#2a3f5f\"},\"marker\":{\"line\":{\"color\":\"#E5ECF6\",\"width\":0.5},\"pattern\":{\"fillmode\":\"overlay\",\"size\":10,\"solidity\":0.2}},\"type\":\"bar\"}],\"scattergeo\":[{\"type\":\"scattergeo\",\"marker\":{\"colorbar\":{\"outlinewidth\":0,\"ticks\":\"\"}}}],\"scatterpolar\":[{\"type\":\"scatterpolar\",\"marker\":{\"colorbar\":{\"outlinewidth\":0,\"ticks\":\"\"}}}],\"histogram\":[{\"marker\":{\"pattern\":{\"fillmode\":\"overlay\",\"size\":10,\"solidity\":0.2}},\"type\":\"histogram\"}],\"scattergl\":[{\"type\":\"scattergl\",\"marker\":{\"colorbar\":{\"outlinewidth\":0,\"ticks\":\"\"}}}],\"scatter3d\":[{\"type\":\"scatter3d\",\"line\":{\"colorbar\":{\"outlinewidth\":0,\"ticks\":\"\"}},\"marker\":{\"colorbar\":{\"outlinewidth\":0,\"ticks\":\"\"}}}],\"scattermapbox\":[{\"type\":\"scattermapbox\",\"marker\":{\"colorbar\":{\"outlinewidth\":0,\"ticks\":\"\"}}}],\"scatterternary\":[{\"type\":\"scatterternary\",\"marker\":{\"colorbar\":{\"outlinewidth\":0,\"ticks\":\"\"}}}],\"scattercarpet\":[{\"type\":\"scattercarpet\",\"marker\":{\"colorbar\":{\"outlinewidth\":0,\"ticks\":\"\"}}}],\"carpet\":[{\"aaxis\":{\"endlinecolor\":\"#2a3f5f\",\"gridcolor\":\"white\",\"linecolor\":\"white\",\"minorgridcolor\":\"white\",\"startlinecolor\":\"#2a3f5f\"},\"baxis\":{\"endlinecolor\":\"#2a3f5f\",\"gridcolor\":\"white\",\"linecolor\":\"white\",\"minorgridcolor\":\"white\",\"startlinecolor\":\"#2a3f5f\"},\"type\":\"carpet\"}],\"table\":[{\"cells\":{\"fill\":{\"color\":\"#EBF0F8\"},\"line\":{\"color\":\"white\"}},\"header\":{\"fill\":{\"color\":\"#C8D4E3\"},\"line\":{\"color\":\"white\"}},\"type\":\"table\"}],\"barpolar\":[{\"marker\":{\"line\":{\"color\":\"#E5ECF6\",\"width\":0.5},\"pattern\":{\"fillmode\":\"overlay\",\"size\":10,\"solidity\":0.2}},\"type\":\"barpolar\"}],\"pie\":[{\"automargin\":true,\"type\":\"pie\"}]},\"layout\":{\"autotypenumbers\":\"strict\",\"colorway\":[\"#636efa\",\"#EF553B\",\"#00cc96\",\"#ab63fa\",\"#FFA15A\",\"#19d3f3\",\"#FF6692\",\"#B6E880\",\"#FF97FF\",\"#FECB52\"],\"font\":{\"color\":\"#2a3f5f\"},\"hovermode\":\"closest\",\"hoverlabel\":{\"align\":\"left\"},\"paper_bgcolor\":\"white\",\"plot_bgcolor\":\"#E5ECF6\",\"polar\":{\"bgcolor\":\"#E5ECF6\",\"angularaxis\":{\"gridcolor\":\"white\",\"linecolor\":\"white\",\"ticks\":\"\"},\"radialaxis\":{\"gridcolor\":\"white\",\"linecolor\":\"white\",\"ticks\":\"\"}},\"ternary\":{\"bgcolor\":\"#E5ECF6\",\"aaxis\":{\"gridcolor\":\"white\",\"linecolor\":\"white\",\"ticks\":\"\"},\"baxis\":{\"gridcolor\":\"white\",\"linecolor\":\"white\",\"ticks\":\"\"},\"caxis\":{\"gridcolor\":\"white\",\"linecolor\":\"white\",\"ticks\":\"\"}},\"coloraxis\":{\"colorbar\":{\"outlinewidth\":0,\"ticks\":\"\"}},\"colorscale\":{\"sequential\":[[0.0,\"#0d0887\"],[0.1111111111111111,\"#46039f\"],[0.2222222222222222,\"#7201a8\"],[0.3333333333333333,\"#9c179e\"],[0.4444444444444444,\"#bd3786\"],[0.5555555555555556,\"#d8576b\"],[0.6666666666666666,\"#ed7953\"],[0.7777777777777778,\"#fb9f3a\"],[0.8888888888888888,\"#fdca26\"],[1.0,\"#f0f921\"]],\"sequentialminus\":[[0.0,\"#0d0887\"],[0.1111111111111111,\"#46039f\"],[0.2222222222222222,\"#7201a8\"],[0.3333333333333333,\"#9c179e\"],[0.4444444444444444,\"#bd3786\"],[0.5555555555555556,\"#d8576b\"],[0.6666666666666666,\"#ed7953\"],[0.7777777777777778,\"#fb9f3a\"],[0.8888888888888888,\"#fdca26\"],[1.0,\"#f0f921\"]],\"diverging\":[[0,\"#8e0152\"],[0.1,\"#c51b7d\"],[0.2,\"#de77ae\"],[0.3,\"#f1b6da\"],[0.4,\"#fde0ef\"],[0.5,\"#f7f7f7\"],[0.6,\"#e6f5d0\"],[0.7,\"#b8e186\"],[0.8,\"#7fbc41\"],[0.9,\"#4d9221\"],[1,\"#276419\"]]},\"xaxis\":{\"gridcolor\":\"white\",\"linecolor\":\"white\",\"ticks\":\"\",\"title\":{\"standoff\":15},\"zerolinecolor\":\"white\",\"automargin\":true,\"zerolinewidth\":2},\"yaxis\":{\"gridcolor\":\"white\",\"linecolor\":\"white\",\"ticks\":\"\",\"title\":{\"standoff\":15},\"zerolinecolor\":\"white\",\"automargin\":true,\"zerolinewidth\":2},\"scene\":{\"xaxis\":{\"backgroundcolor\":\"#E5ECF6\",\"gridcolor\":\"white\",\"linecolor\":\"white\",\"showbackground\":true,\"ticks\":\"\",\"zerolinecolor\":\"white\",\"gridwidth\":2},\"yaxis\":{\"backgroundcolor\":\"#E5ECF6\",\"gridcolor\":\"white\",\"linecolor\":\"white\",\"showbackground\":true,\"ticks\":\"\",\"zerolinecolor\":\"white\",\"gridwidth\":2},\"zaxis\":{\"backgroundcolor\":\"#E5ECF6\",\"gridcolor\":\"white\",\"linecolor\":\"white\",\"showbackground\":true,\"ticks\":\"\",\"zerolinecolor\":\"white\",\"gridwidth\":2}},\"shapedefaults\":{\"line\":{\"color\":\"#2a3f5f\"}},\"annotationdefaults\":{\"arrowcolor\":\"#2a3f5f\",\"arrowhead\":0,\"arrowwidth\":1},\"geo\":{\"bgcolor\":\"white\",\"landcolor\":\"#E5ECF6\",\"subunitcolor\":\"white\",\"showland\":true,\"showlakes\":true,\"lakecolor\":\"white\"},\"title\":{\"x\":0.05},\"mapbox\":{\"style\":\"light\"}}},\"scene\":{\"domain\":{\"x\":[0.0,1.0],\"y\":[0.0,1.0]},\"xaxis\":{\"title\":{\"text\":\"x\"}},\"yaxis\":{\"title\":{\"text\":\"y\"}},\"zaxis\":{\"title\":{\"text\":\"z\"}}},\"legend\":{\"tracegroupgap\":0},\"title\":{\"text\":\"3d Overview of data distribution\"}},                        {\"responsive\": true}                    ).then(function(){\n",
              "                            \n",
              "var gd = document.getElementById('ea17d2e0-a714-491a-9155-183cffcf5097');\n",
              "var x = new MutationObserver(function (mutations, observer) {{\n",
              "        var display = window.getComputedStyle(gd).display;\n",
              "        if (!display || display === 'none') {{\n",
              "            console.log([gd, 'removed!']);\n",
              "            Plotly.purge(gd);\n",
              "            observer.disconnect();\n",
              "        }}\n",
              "}});\n",
              "\n",
              "// Listen for the removal of the full notebook cells\n",
              "var notebookContainer = gd.closest('#notebook-container');\n",
              "if (notebookContainer) {{\n",
              "    x.observe(notebookContainer, {childList: true});\n",
              "}}\n",
              "\n",
              "// Listen for the clearing of the current output cell\n",
              "var outputEl = gd.closest('.output');\n",
              "if (outputEl) {{\n",
              "    x.observe(outputEl, {childList: true});\n",
              "}}\n",
              "\n",
              "                        })                };                            </script>        </div>\n",
              "</body>\n",
              "</html>"
            ]
          },
          "metadata": {}
        }
      ]
    },
    {
      "cell_type": "code",
      "source": [
        "class K_Means:\n",
        "\n",
        "  def __init__(self,n_clusters = 2 ,max_iter = 100):\n",
        "    self.n_clusters = n_clusters   # define number of clusters\n",
        "    self.max_iter = max_iter  # set limit for iterations\n",
        "\n",
        "  def fit(self,X):\n",
        "    # randomly select centroids\n",
        "    centroids = X[np.random.choice(X.shape[0],self.n_clusters,replace=False)]\n",
        "\n",
        "    # make clusters through centroids\n",
        "    clusters = self._get_clusters(X,centroids)\n",
        "\n",
        "    # iterate loop for moving the centroids\n",
        "    for i in range(self.max_iter):\n",
        "        # get new centroids\n",
        "        new_centroids = self._move_centroids(X,clusters)\n",
        "        # check wetheer old centroids are equal to new centroids\n",
        "        # if both centroids are equal then break the loop\n",
        "        if (new_centroids == centroids).all() : break\n",
        "        # make old centroid to new centroid\n",
        "        centroids = new_centroids\n",
        "        # find clusters for new centroids\n",
        "        clusters = self._get_clusters(X,centroids)\n",
        "    return clusters\n",
        "\n",
        "  def _move_centroids(self,X,clusters): # move centroids position\n",
        "    # create a empty list to store new centroids values\n",
        "    new_centroids = []\n",
        "    # interate loop, how much types centroids, we have to create\n",
        "    for cluster in np.unique(clusters):\n",
        "      # get all values of X for cluster\n",
        "      _X = X[y==cluster]\n",
        "      # create a list to store centroid values of _X\n",
        "      centroid = []\n",
        "\n",
        "      for idx in range(len(_X[0])):\n",
        "        # calculatte mean of each axis and append in centroid\n",
        "        centroid.append(np.mean(_X[:,idx]))\n",
        "\n",
        "      new_centroids.append(centroid)\n",
        "    return np.array(new_centroids)\n",
        "\n",
        "  def _get_clusters(self,X,centroids):\n",
        "    # create two list to store clusters and distances\n",
        "    clusters = []\n",
        "    distance = []\n",
        "    # iterate through each row of x\n",
        "    for row in X :\n",
        "      for centroid in centroids:\n",
        "        # calculate euclidian distance for each point to each cluster\n",
        "        distance.append(np.sqrt(np.dot(row - centroid,row - centroid)))\n",
        "      # get minimum distance and find nearest centroid index value\n",
        "      min_distance = min(distance)\n",
        "      idx = distance.index(min_distance)\n",
        "      clusters.append(idx)\n",
        "      distance.clear()\n",
        "    return np.array(clusters)\n"
      ],
      "metadata": {
        "id": "3ctQ_j0ejjZs"
      },
      "execution_count": 96,
      "outputs": []
    },
    {
      "cell_type": "code",
      "source": [
        "Model = K_Means(n_clusters=3)\n",
        "pred_y = Model.fit(X)"
      ],
      "metadata": {
        "id": "4VFwihbomhgV"
      },
      "execution_count": 99,
      "outputs": []
    },
    {
      "cell_type": "code",
      "source": [
        "fig = px.scatter_3d(x = X[:,0], y = X[:,1], z = X[:,2],title='3d Overview of K Means Clustering',color=pred_y)\n",
        "fig.show()"
      ],
      "metadata": {
        "colab": {
          "base_uri": "https://localhost:8080/",
          "height": 562
        },
        "id": "jHsXqK29sdi9",
        "outputId": "bbed638a-d889-4092-af49-35c4165726c0"
      },
      "execution_count": 101,
      "outputs": [
        {
          "output_type": "display_data",
          "data": {
            "text/html": [
              "<html>\n",
              "<head><meta charset=\"utf-8\" /></head>\n",
              "<body>\n",
              "    <div>            <script src=\"https://cdnjs.cloudflare.com/ajax/libs/mathjax/2.7.5/MathJax.js?config=TeX-AMS-MML_SVG\"></script><script type=\"text/javascript\">if (window.MathJax && window.MathJax.Hub && window.MathJax.Hub.Config) {window.MathJax.Hub.Config({SVG: {font: \"STIX-Web\"}});}</script>                <script type=\"text/javascript\">window.PlotlyConfig = {MathJaxConfig: 'local'};</script>\n",
              "        <script charset=\"utf-8\" src=\"https://cdn.plot.ly/plotly-2.35.2.min.js\"></script>                <div id=\"0950dd36-455c-4b80-a317-4242316c8d0c\" class=\"plotly-graph-div\" style=\"height:525px; width:100%;\"></div>            <script type=\"text/javascript\">                                    window.PLOTLYENV=window.PLOTLYENV || {};                                    if (document.getElementById(\"0950dd36-455c-4b80-a317-4242316c8d0c\")) {                    Plotly.newPlot(                        \"0950dd36-455c-4b80-a317-4242316c8d0c\",                        [{\"hovertemplate\":\"x=%{x}\\u003cbr\\u003ey=%{y}\\u003cbr\\u003ez=%{z}\\u003cbr\\u003ecolor=%{marker.color}\\u003cextra\\u003e\\u003c\\u002fextra\\u003e\",\"legendgroup\":\"\",\"marker\":{\"color\":[0,2,1,2,2,0,2,1,0,2,2,0,0,2,1,0,2,1,0,2,2,2,1,2,1,0,0,1,0,2,2,2,0,1,1,1,1,0,2,2,0,2,2,0,2,0,1,0,0,0,1,1,0,1,1,2,1,1,0,2,0,1,0,1,2,0,2,0,1,0,0,2,0,2,1,2,0,0,0,1,2,0,1,0,1,1,2,1,2,1,1,2,1,0,2,1,2,0,1,1],\"coloraxis\":\"coloraxis\",\"symbol\":\"circle\"},\"mode\":\"markers\",\"name\":\"\",\"scene\":\"scene\",\"showlegend\":false,\"x\":[3.0562604793579773,-2.9968997791757586,-4.428669486409333,-5.1780775328503985,-3.5450007358085376,2.2361328641029017,-3.0701381394900498,-3.3178742775022556,1.8779823112733958,-4.012693988002022,-2.3925027403385033,2.4911860124228817,1.9092645846257212,-3.5546887481994363,-5.750191502446019,1.610315796799561,-3.8401732029610445,-3.7126771144332866,2.640723031801795,-4.0624716908574365,-2.7097776420910646,-2.700632136019318,-3.560145411521468,-2.9519512113833337,-3.4298973576398506,1.8064870077249582,1.9456590301158845,-4.408700683113351,0.34532015669136307,-3.1453727534684566,-4.407522688736431,-3.1679804961432323,1.6590034709384096,-3.6213153889200975,-5.26921213086057,-4.490089987362771,-4.381464521452892,0.9352728230206083,-3.770490629851092,-6.425812925590815,-0.5158015283094695,-3.8099452249931915,-3.7071441798206215,0.5610141887459403,-4.315685502060766,1.1892564879396066,-2.8304278524362685,0.21027828927194836,-0.31227877868142273,1.6177307841247102,-3.5469546165867927,-3.699882576654489,2.7317905024740976,-4.572102388505281,-4.649385506234328,-2.746048623494483,-3.3958724910371325,-2.798646085114161,4.273595568295723,-3.122225751176485,1.599848027501042,-3.997451314908472,1.4415210598099721,-4.068125837023065,-3.8303004473488924,2.1327044434836844,-3.3329225287128708,1.5778494268050245,-4.744583819931526,0.5606008920639202,0.38873065912607707,-3.6804451691515663,1.1722700588479325,-3.0128864383201672,-4.454698779374823,-3.7116083341594153,2.742858702735246,1.5682187792679343,0.03009021632475717,-2.662865730480247,-3.429373530402445,1.0750441868700384,-2.6085183191207726,2.1748746746109644,-2.9385480682167655,-5.046280775231385,-3.241172473748181,-4.193933943415997,-6.490328022822228,-4.3717429681123425,-3.4169240826478586,-5.553868380239988,-3.2704608461853923,2.784288158708824,-2.3168021041271945,-4.978524842699911,-3.7292114539346417,0.8572105911981472,-4.064090285012918,-3.8341518812635753],\"y\":[-0.4534801598763128,-5.016459898096885,-0.3405852460644939,-4.8149209369999335,-3.6559627914064325,0.8588878924568262,-3.93451004353129,-0.7245094717326097,-2.0115703014046065,-4.463973675264202,-4.914228008943096,-2.8350903092270596,0.13518136281281912,-5.027717683559866,0.016064010197171387,-0.9390129076704252,-4.781955907704608,0.813852155305283,1.0228500742428621,-4.892834696073262,-2.107488823742899,-4.039750165701939,-0.06483819405402892,-4.274041469781463,-1.1252346269563274,-0.9085215955812869,-0.23916749193206732,-0.06110956649611994,-1.8634915272714991,-4.043551709981946,-3.892815738353009,-4.385120031576115,-1.3462545122214253,1.8789317615220504,-0.1150087876973599,1.3943837287743719,0.8781447637716393,-0.3985466699732363,-5.021985273342712,-3.30113292795864,-0.30821058821050074,-4.333197378401303,-4.583036281468577,-0.48441690036788265,-5.455815186222093,0.7526928256592964,2.0832217426947643,-1.4058711014649408,0.5294445725600994,0.18200718031977003,-0.5221581129430444,-1.1711967597708806,-0.44742517825026057,1.1490263529772613,-0.20777270378256574,-4.20795479652476,0.01969443281480199,-0.5827209223623844,-0.6495187223908909,-3.7208153533984842,-1.2905232304060332,-0.6136309353960547,-0.5196069811816623,0.7298519042120333,-3.6106614238950767,-0.7957598692555775,-3.4234841984942506,-1.122556633501187,1.5732878534220147,-0.10920904607576465,-1.6678274563975468,-6.983496375504329,-1.7354022491255048,-6.275017266413101,1.2481405489605488,-5.810376849989306,-2.444901388552945,0.3728440847112391,-0.0859467407963489,0.7088852517423966,-6.074141301305748,-1.0713763171976722,0.9489711403390019,-1.207263974155652,-0.9571720897046525,-0.11167572827878802,-5.781796130320194,0.7291421302614944,-4.655639486592578,-2.2180176314119793,0.27241951680113485,-4.8531065871946835,-0.9524671430668891,-0.9317232491326518,-6.239513025651359,1.456785922230753,-3.536465038416026,0.0041806419360291835,-0.6446769310269762,-1.3386996896577124],\"z\":[7.802902047724118,0.2843708130289825,-5.795481806911943,1.6357209604946052,0.08932028232665434,7.91475167152971,1.4587517686641334,-4.448008751745358,8.003003527447744,2.6132017400877876,1.4934097834268396,7.9242826411556,6.6789445474587845,1.2543029444011542,-5.324351467793085,6.961563067146236,1.7361166771353542,-5.666571574295836,8.562294129175076,1.2351927740412152,0.8006295167032678,0.2477034116839345,-5.746028974764839,0.7859963460797024,-6.567942717878192,7.4041304219611135,6.644884572922944,-6.410518818014379,9.144950400716663,1.7275200109000455,1.7324676235643974,0.5003912979012317,10.2011668434887,-6.084519137774809,-6.583859478341749,-4.6650706560458115,-7.09751400588328,6.5539297525721985,2.819036305034662,0.18439293012551272,6.917479482752701,1.0557507021297825,2.314514446514627,8.004226937268287,0.606850692096612,4.88908906647535,-5.853025054804535,7.772134518410922,7.832811346411326,6.278839370076602,-8.116632182240721,-6.653572809828518,6.787579921703714,-6.660128867736677,-5.600196446239226,0.08542919647871061,-6.189381082450493,-4.651182914695067,8.102769134141823,2.0483919833852733,7.491071962544872,-5.52017371873148,7.643389827187522,-4.519679418559527,1.4151506196924057,7.446761328915721,0.7196536995348695,8.614286546396647,-5.129314364028952,6.8423312566286105,7.295984208030553,1.6524258072225075,9.550503917034613,-0.013770394792147478,-5.533656520302413,1.866303104206635,7.169977244048674,7.6296321913271425,8.151867502629214,-5.372841326975987,1.1520750247196787,7.821719014317096,-4.579493033628627,8.241642143757986,-5.430285325074495,-5.1343025317103965,3.0334123805045587,-5.397779551316413,1.1270370609304803,-6.115970032855451,-6.133509312602039,2.727219580901833,-6.122194414887967,8.137313216522957,0.9616153493853341,-6.263757596475893,-0.04566754741881218,7.269268533281929,-6.2943414087713325,-6.4999932020058],\"type\":\"scatter3d\"}],                        {\"template\":{\"data\":{\"histogram2dcontour\":[{\"type\":\"histogram2dcontour\",\"colorbar\":{\"outlinewidth\":0,\"ticks\":\"\"},\"colorscale\":[[0.0,\"#0d0887\"],[0.1111111111111111,\"#46039f\"],[0.2222222222222222,\"#7201a8\"],[0.3333333333333333,\"#9c179e\"],[0.4444444444444444,\"#bd3786\"],[0.5555555555555556,\"#d8576b\"],[0.6666666666666666,\"#ed7953\"],[0.7777777777777778,\"#fb9f3a\"],[0.8888888888888888,\"#fdca26\"],[1.0,\"#f0f921\"]]}],\"choropleth\":[{\"type\":\"choropleth\",\"colorbar\":{\"outlinewidth\":0,\"ticks\":\"\"}}],\"histogram2d\":[{\"type\":\"histogram2d\",\"colorbar\":{\"outlinewidth\":0,\"ticks\":\"\"},\"colorscale\":[[0.0,\"#0d0887\"],[0.1111111111111111,\"#46039f\"],[0.2222222222222222,\"#7201a8\"],[0.3333333333333333,\"#9c179e\"],[0.4444444444444444,\"#bd3786\"],[0.5555555555555556,\"#d8576b\"],[0.6666666666666666,\"#ed7953\"],[0.7777777777777778,\"#fb9f3a\"],[0.8888888888888888,\"#fdca26\"],[1.0,\"#f0f921\"]]}],\"heatmap\":[{\"type\":\"heatmap\",\"colorbar\":{\"outlinewidth\":0,\"ticks\":\"\"},\"colorscale\":[[0.0,\"#0d0887\"],[0.1111111111111111,\"#46039f\"],[0.2222222222222222,\"#7201a8\"],[0.3333333333333333,\"#9c179e\"],[0.4444444444444444,\"#bd3786\"],[0.5555555555555556,\"#d8576b\"],[0.6666666666666666,\"#ed7953\"],[0.7777777777777778,\"#fb9f3a\"],[0.8888888888888888,\"#fdca26\"],[1.0,\"#f0f921\"]]}],\"heatmapgl\":[{\"type\":\"heatmapgl\",\"colorbar\":{\"outlinewidth\":0,\"ticks\":\"\"},\"colorscale\":[[0.0,\"#0d0887\"],[0.1111111111111111,\"#46039f\"],[0.2222222222222222,\"#7201a8\"],[0.3333333333333333,\"#9c179e\"],[0.4444444444444444,\"#bd3786\"],[0.5555555555555556,\"#d8576b\"],[0.6666666666666666,\"#ed7953\"],[0.7777777777777778,\"#fb9f3a\"],[0.8888888888888888,\"#fdca26\"],[1.0,\"#f0f921\"]]}],\"contourcarpet\":[{\"type\":\"contourcarpet\",\"colorbar\":{\"outlinewidth\":0,\"ticks\":\"\"}}],\"contour\":[{\"type\":\"contour\",\"colorbar\":{\"outlinewidth\":0,\"ticks\":\"\"},\"colorscale\":[[0.0,\"#0d0887\"],[0.1111111111111111,\"#46039f\"],[0.2222222222222222,\"#7201a8\"],[0.3333333333333333,\"#9c179e\"],[0.4444444444444444,\"#bd3786\"],[0.5555555555555556,\"#d8576b\"],[0.6666666666666666,\"#ed7953\"],[0.7777777777777778,\"#fb9f3a\"],[0.8888888888888888,\"#fdca26\"],[1.0,\"#f0f921\"]]}],\"surface\":[{\"type\":\"surface\",\"colorbar\":{\"outlinewidth\":0,\"ticks\":\"\"},\"colorscale\":[[0.0,\"#0d0887\"],[0.1111111111111111,\"#46039f\"],[0.2222222222222222,\"#7201a8\"],[0.3333333333333333,\"#9c179e\"],[0.4444444444444444,\"#bd3786\"],[0.5555555555555556,\"#d8576b\"],[0.6666666666666666,\"#ed7953\"],[0.7777777777777778,\"#fb9f3a\"],[0.8888888888888888,\"#fdca26\"],[1.0,\"#f0f921\"]]}],\"mesh3d\":[{\"type\":\"mesh3d\",\"colorbar\":{\"outlinewidth\":0,\"ticks\":\"\"}}],\"scatter\":[{\"fillpattern\":{\"fillmode\":\"overlay\",\"size\":10,\"solidity\":0.2},\"type\":\"scatter\"}],\"parcoords\":[{\"type\":\"parcoords\",\"line\":{\"colorbar\":{\"outlinewidth\":0,\"ticks\":\"\"}}}],\"scatterpolargl\":[{\"type\":\"scatterpolargl\",\"marker\":{\"colorbar\":{\"outlinewidth\":0,\"ticks\":\"\"}}}],\"bar\":[{\"error_x\":{\"color\":\"#2a3f5f\"},\"error_y\":{\"color\":\"#2a3f5f\"},\"marker\":{\"line\":{\"color\":\"#E5ECF6\",\"width\":0.5},\"pattern\":{\"fillmode\":\"overlay\",\"size\":10,\"solidity\":0.2}},\"type\":\"bar\"}],\"scattergeo\":[{\"type\":\"scattergeo\",\"marker\":{\"colorbar\":{\"outlinewidth\":0,\"ticks\":\"\"}}}],\"scatterpolar\":[{\"type\":\"scatterpolar\",\"marker\":{\"colorbar\":{\"outlinewidth\":0,\"ticks\":\"\"}}}],\"histogram\":[{\"marker\":{\"pattern\":{\"fillmode\":\"overlay\",\"size\":10,\"solidity\":0.2}},\"type\":\"histogram\"}],\"scattergl\":[{\"type\":\"scattergl\",\"marker\":{\"colorbar\":{\"outlinewidth\":0,\"ticks\":\"\"}}}],\"scatter3d\":[{\"type\":\"scatter3d\",\"line\":{\"colorbar\":{\"outlinewidth\":0,\"ticks\":\"\"}},\"marker\":{\"colorbar\":{\"outlinewidth\":0,\"ticks\":\"\"}}}],\"scattermapbox\":[{\"type\":\"scattermapbox\",\"marker\":{\"colorbar\":{\"outlinewidth\":0,\"ticks\":\"\"}}}],\"scatterternary\":[{\"type\":\"scatterternary\",\"marker\":{\"colorbar\":{\"outlinewidth\":0,\"ticks\":\"\"}}}],\"scattercarpet\":[{\"type\":\"scattercarpet\",\"marker\":{\"colorbar\":{\"outlinewidth\":0,\"ticks\":\"\"}}}],\"carpet\":[{\"aaxis\":{\"endlinecolor\":\"#2a3f5f\",\"gridcolor\":\"white\",\"linecolor\":\"white\",\"minorgridcolor\":\"white\",\"startlinecolor\":\"#2a3f5f\"},\"baxis\":{\"endlinecolor\":\"#2a3f5f\",\"gridcolor\":\"white\",\"linecolor\":\"white\",\"minorgridcolor\":\"white\",\"startlinecolor\":\"#2a3f5f\"},\"type\":\"carpet\"}],\"table\":[{\"cells\":{\"fill\":{\"color\":\"#EBF0F8\"},\"line\":{\"color\":\"white\"}},\"header\":{\"fill\":{\"color\":\"#C8D4E3\"},\"line\":{\"color\":\"white\"}},\"type\":\"table\"}],\"barpolar\":[{\"marker\":{\"line\":{\"color\":\"#E5ECF6\",\"width\":0.5},\"pattern\":{\"fillmode\":\"overlay\",\"size\":10,\"solidity\":0.2}},\"type\":\"barpolar\"}],\"pie\":[{\"automargin\":true,\"type\":\"pie\"}]},\"layout\":{\"autotypenumbers\":\"strict\",\"colorway\":[\"#636efa\",\"#EF553B\",\"#00cc96\",\"#ab63fa\",\"#FFA15A\",\"#19d3f3\",\"#FF6692\",\"#B6E880\",\"#FF97FF\",\"#FECB52\"],\"font\":{\"color\":\"#2a3f5f\"},\"hovermode\":\"closest\",\"hoverlabel\":{\"align\":\"left\"},\"paper_bgcolor\":\"white\",\"plot_bgcolor\":\"#E5ECF6\",\"polar\":{\"bgcolor\":\"#E5ECF6\",\"angularaxis\":{\"gridcolor\":\"white\",\"linecolor\":\"white\",\"ticks\":\"\"},\"radialaxis\":{\"gridcolor\":\"white\",\"linecolor\":\"white\",\"ticks\":\"\"}},\"ternary\":{\"bgcolor\":\"#E5ECF6\",\"aaxis\":{\"gridcolor\":\"white\",\"linecolor\":\"white\",\"ticks\":\"\"},\"baxis\":{\"gridcolor\":\"white\",\"linecolor\":\"white\",\"ticks\":\"\"},\"caxis\":{\"gridcolor\":\"white\",\"linecolor\":\"white\",\"ticks\":\"\"}},\"coloraxis\":{\"colorbar\":{\"outlinewidth\":0,\"ticks\":\"\"}},\"colorscale\":{\"sequential\":[[0.0,\"#0d0887\"],[0.1111111111111111,\"#46039f\"],[0.2222222222222222,\"#7201a8\"],[0.3333333333333333,\"#9c179e\"],[0.4444444444444444,\"#bd3786\"],[0.5555555555555556,\"#d8576b\"],[0.6666666666666666,\"#ed7953\"],[0.7777777777777778,\"#fb9f3a\"],[0.8888888888888888,\"#fdca26\"],[1.0,\"#f0f921\"]],\"sequentialminus\":[[0.0,\"#0d0887\"],[0.1111111111111111,\"#46039f\"],[0.2222222222222222,\"#7201a8\"],[0.3333333333333333,\"#9c179e\"],[0.4444444444444444,\"#bd3786\"],[0.5555555555555556,\"#d8576b\"],[0.6666666666666666,\"#ed7953\"],[0.7777777777777778,\"#fb9f3a\"],[0.8888888888888888,\"#fdca26\"],[1.0,\"#f0f921\"]],\"diverging\":[[0,\"#8e0152\"],[0.1,\"#c51b7d\"],[0.2,\"#de77ae\"],[0.3,\"#f1b6da\"],[0.4,\"#fde0ef\"],[0.5,\"#f7f7f7\"],[0.6,\"#e6f5d0\"],[0.7,\"#b8e186\"],[0.8,\"#7fbc41\"],[0.9,\"#4d9221\"],[1,\"#276419\"]]},\"xaxis\":{\"gridcolor\":\"white\",\"linecolor\":\"white\",\"ticks\":\"\",\"title\":{\"standoff\":15},\"zerolinecolor\":\"white\",\"automargin\":true,\"zerolinewidth\":2},\"yaxis\":{\"gridcolor\":\"white\",\"linecolor\":\"white\",\"ticks\":\"\",\"title\":{\"standoff\":15},\"zerolinecolor\":\"white\",\"automargin\":true,\"zerolinewidth\":2},\"scene\":{\"xaxis\":{\"backgroundcolor\":\"#E5ECF6\",\"gridcolor\":\"white\",\"linecolor\":\"white\",\"showbackground\":true,\"ticks\":\"\",\"zerolinecolor\":\"white\",\"gridwidth\":2},\"yaxis\":{\"backgroundcolor\":\"#E5ECF6\",\"gridcolor\":\"white\",\"linecolor\":\"white\",\"showbackground\":true,\"ticks\":\"\",\"zerolinecolor\":\"white\",\"gridwidth\":2},\"zaxis\":{\"backgroundcolor\":\"#E5ECF6\",\"gridcolor\":\"white\",\"linecolor\":\"white\",\"showbackground\":true,\"ticks\":\"\",\"zerolinecolor\":\"white\",\"gridwidth\":2}},\"shapedefaults\":{\"line\":{\"color\":\"#2a3f5f\"}},\"annotationdefaults\":{\"arrowcolor\":\"#2a3f5f\",\"arrowhead\":0,\"arrowwidth\":1},\"geo\":{\"bgcolor\":\"white\",\"landcolor\":\"#E5ECF6\",\"subunitcolor\":\"white\",\"showland\":true,\"showlakes\":true,\"lakecolor\":\"white\"},\"title\":{\"x\":0.05},\"mapbox\":{\"style\":\"light\"}}},\"scene\":{\"domain\":{\"x\":[0.0,1.0],\"y\":[0.0,1.0]},\"xaxis\":{\"title\":{\"text\":\"x\"}},\"yaxis\":{\"title\":{\"text\":\"y\"}},\"zaxis\":{\"title\":{\"text\":\"z\"}}},\"coloraxis\":{\"colorbar\":{\"title\":{\"text\":\"color\"}},\"colorscale\":[[0.0,\"#0d0887\"],[0.1111111111111111,\"#46039f\"],[0.2222222222222222,\"#7201a8\"],[0.3333333333333333,\"#9c179e\"],[0.4444444444444444,\"#bd3786\"],[0.5555555555555556,\"#d8576b\"],[0.6666666666666666,\"#ed7953\"],[0.7777777777777778,\"#fb9f3a\"],[0.8888888888888888,\"#fdca26\"],[1.0,\"#f0f921\"]]},\"legend\":{\"tracegroupgap\":0},\"title\":{\"text\":\"3d Overview of K Means Clustering\"}},                        {\"responsive\": true}                    ).then(function(){\n",
              "                            \n",
              "var gd = document.getElementById('0950dd36-455c-4b80-a317-4242316c8d0c');\n",
              "var x = new MutationObserver(function (mutations, observer) {{\n",
              "        var display = window.getComputedStyle(gd).display;\n",
              "        if (!display || display === 'none') {{\n",
              "            console.log([gd, 'removed!']);\n",
              "            Plotly.purge(gd);\n",
              "            observer.disconnect();\n",
              "        }}\n",
              "}});\n",
              "\n",
              "// Listen for the removal of the full notebook cells\n",
              "var notebookContainer = gd.closest('#notebook-container');\n",
              "if (notebookContainer) {{\n",
              "    x.observe(notebookContainer, {childList: true});\n",
              "}}\n",
              "\n",
              "// Listen for the clearing of the current output cell\n",
              "var outputEl = gd.closest('.output');\n",
              "if (outputEl) {{\n",
              "    x.observe(outputEl, {childList: true});\n",
              "}}\n",
              "\n",
              "                        })                };                            </script>        </div>\n",
              "</body>\n",
              "</html>"
            ]
          },
          "metadata": {}
        }
      ]
    }
  ]
}