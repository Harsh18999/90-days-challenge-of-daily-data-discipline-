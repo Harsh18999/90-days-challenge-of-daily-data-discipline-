{
  "nbformat": 4,
  "nbformat_minor": 0,
  "metadata": {
    "colab": {
      "provenance": [],
      "authorship_tag": "ABX9TyORX955gqnFIg7n/EA0ePYF"
    },
    "kernelspec": {
      "name": "python3",
      "display_name": "Python 3"
    },
    "language_info": {
      "name": "python"
    }
  },
  "cells": [
    {
      "cell_type": "markdown",
      "source": [
        "# **Problem Statement - 1**\n",
        "**Subset Sums**\n",
        "\n",
        "Given a list arr of n integers, return sums of all subsets in it. Output sums can be printed in any order.\n",
        "\n",
        "[Problem Link](https://www.geeksforgeeks.org/problems/subset-sums2234/1)"
      ],
      "metadata": {
        "id": "Wdgjz09S9tGU"
      }
    },
    {
      "cell_type": "markdown",
      "source": [
        "### **Approach  ( Time Complexity O(2^n) and Space Complexity O(2^n) )**\n",
        "\n",
        "**Recursive Backtracking:**\n",
        "\n",
        "*    We use a recursive function _subsetsum to explore all possible subsets of the array.\n",
        "*    For each element in the array, we have two choices:\n",
        "      *  Include the element in the current subset, and add its value to the ongoing sum.\n",
        "      *  Exclude the element and move on to the next element without adding it to the sum.\n",
        "*    These two choices are explored for every element of the array recursively.\n",
        "\n",
        "**Base Case:**\n",
        "\n",
        "*    When we reach the end of the array (pos == len(arr)), the function stops making recursive calls.\n",
        "\n",
        "**Recursive Case:**\n",
        "\n",
        "*    In each recursive call, the function adds the current element (arr[pos]) to the sum and appends the new sum to the list of subset sums.\n",
        "*    Then, it continues by making two recursive calls: one where the current element is included, and another where it is not.\n",
        "\n",
        "**Initial State:**\n",
        "\n",
        " *   We initialize a list subsets_sum with 0, which represents the sum of the empty subset."
      ],
      "metadata": {
        "id": "L8Zpbqsnf2eJ"
      }
    },
    {
      "cell_type": "code",
      "source": [
        "#User function Template for python3\n",
        "class Solution:\n",
        "\tdef subsetSums(self, arr, n):\n",
        "\t\t# code here\n",
        "\t    subsets_sum = [0]\n",
        "\t    self._subsetsum(arr,0,0,subsets_sum)\n",
        "\t    return subsets_sum\n",
        "\n",
        "\tdef _subsetsum(self,arr,pos,sum,sub):\n",
        "\t     if pos == len(arr): return\n",
        "\n",
        "\t     sum += arr[pos]\n",
        "\t     sub.append(sum)\n",
        "\t     self._subsetsum(arr,pos+1,sum,sub)\n",
        "\t     sum -= arr[pos]\n",
        "\t     self._subsetsum(arr,pos+1,sum,sub)"
      ],
      "metadata": {
        "id": "4XNAM-o_xLN1"
      },
      "execution_count": null,
      "outputs": []
    },
    {
      "cell_type": "markdown",
      "source": [
        "# **Problem Statement - 2**\n",
        "\n",
        "**Subsets**\n",
        "\n",
        "Given a set of positive integers, find all its subsets.\n",
        "\n",
        "\n",
        "[Problem Link](https://www.geeksforgeeks.org/problems/subsets-1613027340/1)"
      ],
      "metadata": {
        "id": "P7qh7DHV8xVd"
      }
    },
    {
      "cell_type": "markdown",
      "source": [
        "### **Approach  ( Time Complexity O(2^n)) and Space Complexity O(2^n) )**\n",
        "\n",
        "**Recursive Backtracking:**\n",
        "\n",
        "*    We use a helper function _subsets that explores all the subsets of the array starting from a given position.\n",
        "*    For each element in the array, we make two choices:\n",
        "      *  Include the current element in the subset.\n",
        "      *  Exclude the current element and move on to the next.\n",
        "\n",
        "**Tracking Subsets:**\n",
        "\n",
        "*    We maintain a list sub to represent the current subset being built.\n",
        "*    Another list all_sub keeps track of all subsets generated so far, starting with an empty subset [].\n",
        "\n",
        "**Base Case:**\n",
        "\n",
        "*    When we reach the end of the list (pos == len(nums)), the recursion stops as there are no more elements to process.\n",
        "\n",
        "**Recursive Case:**\n",
        "\n",
        "*    The recursion first explores the subsets that exclude the current element, and then explores the subsets that include the current element.\n",
        "*    Each time we include an element, we make a recursive call and append the current subset to all_sub.\n",
        "\n",
        "**Sorting:**\n",
        "\n",
        "*    Once all subsets are generated, the result is sorted for lexicographical order."
      ],
      "metadata": {
        "id": "2mK8oT6weIJh"
      }
    },
    {
      "cell_type": "code",
      "source": [
        "class Solution:\n",
        "    def subsets(self, nums):\n",
        "        #code here\n",
        "        all_sub = [[]]\n",
        "        sub = []\n",
        "        self._subsets(nums,0,sub,all_sub)\n",
        "        return sorted(all_sub)\n",
        "\n",
        "    def _subsets(self,nums,pos,sub,all_sub):\n",
        "\n",
        "        if pos == len(nums): return\n",
        "\n",
        "        self._subsets(nums,pos+1,sub,all_sub)\n",
        "        sub.append(nums[pos])\n",
        "        all_sub.append(sub[:])\n",
        "        self._subsets(nums,pos+1,sub,all_sub)\n",
        "        sub.pop()"
      ],
      "metadata": {
        "id": "xOsfZ1MSieuR"
      },
      "execution_count": null,
      "outputs": []
    },
    {
      "cell_type": "code",
      "source": [],
      "metadata": {
        "id": "Du1YjFcTltQe"
      },
      "execution_count": null,
      "outputs": []
    },
    {
      "cell_type": "markdown",
      "source": [
        "# **Thank You..**"
      ],
      "metadata": {
        "id": "Vnswq_x2gudi"
      }
    }
  ]
}