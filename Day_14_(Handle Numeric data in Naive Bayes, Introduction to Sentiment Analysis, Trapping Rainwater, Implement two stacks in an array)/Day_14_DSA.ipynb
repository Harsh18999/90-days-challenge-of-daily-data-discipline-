{
  "nbformat": 4,
  "nbformat_minor": 0,
  "metadata": {
    "colab": {
      "provenance": [],
      "authorship_tag": "ABX9TyN7Gxmg0VFBO03p3k43wyKT"
    },
    "kernelspec": {
      "name": "python3",
      "display_name": "Python 3"
    },
    "language_info": {
      "name": "python"
    }
  },
  "cells": [
    {
      "cell_type": "markdown",
      "source": [
        "# **Problem Statement - 1**\n",
        "\n",
        "**Trapping Rainwater**\n",
        "\n",
        "Given an array arr[] with non-negative integers representing the height of blocks. If width of each block is 1, compute how much water can be trapped between the blocks during the rainy season.\n",
        "\n",
        "[Problem Link](https://www.geeksforgeeks.org/problems/trapping-rain-water-1587115621/1)"
      ],
      "metadata": {
        "id": "P7qh7DHV8xVd"
      }
    },
    {
      "cell_type": "markdown",
      "source": [
        "### **Approach  ( Time Complexity O(n) and Space Complexity O(n) )**\n",
        "\n",
        "**Calculate Left Maximums:**\n",
        "\n",
        "*  Use the leftmax function to create an array leftmx, where each element at index i contains the maximum height of the bars from the left up to i. This is done by iterating through the array and keeping track of the maximum height seen so far.\n",
        "\n",
        "**Calculate Right Maximums:**\n",
        "\n",
        "*  Use the rightmax function to create an array rightmx, where each element at index i contains the maximum height of the bars from the right up to i. This is done by iterating through the array in reverse and tracking the maximum height seen from the right.\n",
        "\n",
        "**Calculate Trapped Water:**\n",
        "\n",
        "*  Iterate through the array and, for each index i, check if the height of the current bar is less than both the left and right maximum heights.\n",
        "*  If true, the water trapped at that index is the difference between the minimum of leftmx[i] and rightmx[i] and the current bar height arr[i].\n",
        "Sum up the water trapped at each index.\n",
        "\n",
        "**Return Total Water:** The total trapped water is returned as the result."
      ],
      "metadata": {
        "id": "2mK8oT6weIJh"
      }
    },
    {
      "cell_type": "code",
      "execution_count": null,
      "metadata": {
        "id": "nmQi3RKtcxZ8"
      },
      "outputs": [],
      "source": [
        "class Solution:\n",
        "    def rightmax(self,arr):\n",
        "        n = len(arr)\n",
        "        res = [0]*n\n",
        "        mx = None\n",
        "        for i in reversed(range(n)):\n",
        "            res[i]=mx if mx else 0\n",
        "            mx = max(mx,arr[i]) if mx else arr[i]\n",
        "        return res\n",
        "\n",
        "    def leftmax(self,arr):\n",
        "        n = len(arr)\n",
        "        res = [0]*n\n",
        "        mx = None\n",
        "        for i in (range(n)):\n",
        "            res[i]=mx if mx else 0\n",
        "            mx = max(mx,arr[i]) if mx else arr[i]\n",
        "        return res\n",
        "\n",
        "    def trappingWater(self, arr):\n",
        "        #Code here\n",
        "        i = 0\n",
        "        n = len(arr)\n",
        "        water = 0\n",
        "\n",
        "        leftmx = self.leftmax(arr)\n",
        "        rightmx = self.rightmax(arr)\n",
        "\n",
        "        for i in range(n):\n",
        "            if arr[i] < leftmx[i] and arr[i] < rightmx[i] : water += min(rightmx[i],leftmx[i]) - arr[i]\n",
        "        return water"
      ]
    },
    {
      "cell_type": "markdown",
      "source": [
        "# **Problem Statement - 2**\n",
        "**Implement two stacks in an array**\n",
        "\n",
        "Your task is to implement  2 stacks in one array efficiently. You need to implement 4 methods.\n",
        "\n",
        "**twoStacks :** Initialize the data structures and variables to be used to implement  2 stacks in one array.\n",
        "\n",
        "[Problem Link](https://www.geeksforgeeks.org/problems/implement-two-stacks-in-an-array/1)"
      ],
      "metadata": {
        "id": "Wdgjz09S9tGU"
      }
    },
    {
      "cell_type": "markdown",
      "source": [
        "### **Approach  ( Time Complexity O(1) and Space Complexity O(n) )**\n",
        "\n",
        "**Initialization:**\n",
        "The class TwoStacks maintains two separate stacks in a list called stack, where stack[0] is the first stack and stack[1] is the second stack. These are initialized as empty lists.\n",
        "\n",
        "**Push Operation for Stack 1:**\n",
        "The push1 method appends the integer x to the first stack (stack[0]).\n",
        "\n",
        "**Push Operation for Stack 2:**\n",
        "The push2 method appends the integer x to the second stack (stack[1]).\n",
        "\n",
        "**Pop Operation for Stack 1:**\n",
        "The pop1 method removes and returns the top element from the first stack (stack[0]). If the stack is empty, it returns -1.\n",
        "\n",
        "**Pop Operation for Stack 2:**\n",
        "The pop2 method removes and returns the top element from the second stack (stack[1]). If the stack is empty, it returns -1."
      ],
      "metadata": {
        "id": "L8Zpbqsnf2eJ"
      }
    },
    {
      "cell_type": "code",
      "source": [
        "class TwoStacks:\n",
        "    def __init__(self):\n",
        "        self.stack = [[],[]]\n",
        "    # Function to push an integer into stack 1\n",
        "    def push1(self, x):\n",
        "        self.stack[0].append(x)\n",
        "\n",
        "    # Function to push an integer into stack 2\n",
        "    def push2(self, x):\n",
        "        self.stack[1].append(x)\n",
        "\n",
        "    # Function to remove an element from top of stack 1\n",
        "    def pop1(self):\n",
        "        return self.stack[0].pop() if self.stack[0] else -1\n",
        "\n",
        "    # Function to remove an element from top of stack 2\n",
        "    def pop2(self):\n",
        "        return self.stack[1].pop() if self.stack[1] else -1\n"
      ],
      "metadata": {
        "id": "21IJefxed_zF"
      },
      "execution_count": null,
      "outputs": []
    },
    {
      "cell_type": "markdown",
      "source": [
        "# **Thank You..**"
      ],
      "metadata": {
        "id": "Vnswq_x2gudi"
      }
    }
  ]
}