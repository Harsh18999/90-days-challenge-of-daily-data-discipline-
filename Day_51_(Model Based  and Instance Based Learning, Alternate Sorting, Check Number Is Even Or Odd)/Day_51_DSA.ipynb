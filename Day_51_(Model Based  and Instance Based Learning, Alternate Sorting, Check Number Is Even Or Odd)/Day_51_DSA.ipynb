{
  "nbformat": 4,
  "nbformat_minor": 0,
  "metadata": {
    "colab": {
      "provenance": [],
      "authorship_tag": "ABX9TyM/66lHRkvNY+kfacZqsQto"
    },
    "kernelspec": {
      "name": "python3",
      "display_name": "Python 3"
    },
    "language_info": {
      "name": "python"
    }
  },
  "cells": [
    {
      "cell_type": "markdown",
      "source": [
        "# **Problem Statement - 1**\n",
        "**Alternative Sorting**\n",
        "\n",
        "Given an array arr of distinct integers. Rearrange the array in such a way that the first element is the largest and the second element is the smallest, the third element is the second largest and the fourth element is the second smallest, and so on.\n",
        "\n",
        "[Problem Link](https://www.geeksforgeeks.org/problems/alternative-sorting1311/1)"
      ],
      "metadata": {
        "id": "Wdgjz09S9tGU"
      }
    },
    {
      "cell_type": "markdown",
      "source": [
        "### **Approach  ( Time Complexity O(n logn) and Space Complexity O(n) )**\n",
        "\n",
        "**Heap Initialization:**\n",
        "\n",
        " * Two heaps are created: ass and desc.\n",
        " * ass is a min-heap to store elements in ascending order.\n",
        " * desc is a max-heap to store elements in descending order.\n",
        "\n",
        "**Heap Population:**\n",
        "\n",
        " * Iterate through the input array arr.\n",
        " * For each element i:\n",
        " * Push i into the min-heap ass.\n",
        " * Push -i into the max-heap desc. (Negating ensures max-heap behavior)\n",
        "\n",
        "**Alternate Sorting:**\n",
        "\n",
        " * Iterate n times, where n is the length of the array.\n",
        " * **For each iteration i:**\n",
        "     * **If i is even:**\n",
        "        + Pop the maximum element from desc (negating to get the original value) and assign it to arr[i].\n",
        "     * **If i is odd:**\n",
        "         * Pop the minimum element from ass and assign it to arr[i].\n",
        "\n",
        "Return the Sorted Array:\n",
        "\n",
        " * After the iterations, the arr will be alternately sorted.\n",
        "Return the modified arr"
      ],
      "metadata": {
        "id": "L8Zpbqsnf2eJ"
      }
    },
    {
      "cell_type": "code",
      "source": [
        "import heapq as hp\n",
        "\n",
        "class Solution:\n",
        "    def alternateSort(self,arr):\n",
        "        # Your code goes here\n",
        "        n = len(arr)\n",
        "        ass = [ ]\n",
        "        desc = [ ]\n",
        "\n",
        "        for i in arr:\n",
        "            hp.heappush(ass,i)\n",
        "            hp.heappush(desc,-i)\n",
        "\n",
        "        for i in range(n):\n",
        "            if i % 2 == 0:\n",
        "                arr[i] = -hp.heappop(desc)\n",
        "            else: arr[i] = hp.heappop(ass)\n",
        "\n",
        "        return arr\n"
      ],
      "metadata": {
        "id": "4XNAM-o_xLN1"
      },
      "execution_count": null,
      "outputs": []
    },
    {
      "cell_type": "markdown",
      "source": [
        "# **Problem Statement - 2**\n",
        "\n",
        "**Odd or Even**\n",
        "\n",
        "Given a positive integer n, determine whether it is odd or even. Return a string \"even\" if the number is even and \"odd\" if the number is odd.\n",
        "\n",
        "\n",
        "[Problem Link](https://www.geeksforgeeks.org/problems/odd-or-even3618/1)"
      ],
      "metadata": {
        "id": "P7qh7DHV8xVd"
      }
    },
    {
      "cell_type": "markdown",
      "source": [
        "### **Approach  ( Time Complexity O(1) and Space Complexity O(1) )**\n",
        "\n",
        "**Bitwise AND with 1:**\n",
        "\n",
        " * n & 1 performs a bitwise AND operation between n and 1.\n",
        " * If the LSB of n is 1, the result will be 1; otherwise, it will be 0.\n",
        "\n",
        "**Checking the Result:**\n",
        "\n",
        " * If the result of the bitwise AND is 0, it means the number is even.\n",
        " * If the result is 1, the number is odd."
      ],
      "metadata": {
        "id": "2mK8oT6weIJh"
      }
    },
    {
      "cell_type": "code",
      "source": [
        "#User function Template for python3\n",
        "class Solution:\n",
        "    def oddEven (ob,n):\n",
        "        # code here\n",
        "\n",
        "        if n & 1 == 0:\n",
        "            return 'even'\n",
        "\n",
        "        return 'odd'"
      ],
      "metadata": {
        "id": "xOsfZ1MSieuR"
      },
      "execution_count": null,
      "outputs": []
    },
    {
      "cell_type": "markdown",
      "source": [
        "# **Thank You..**"
      ],
      "metadata": {
        "id": "Vnswq_x2gudi"
      }
    }
  ]
}