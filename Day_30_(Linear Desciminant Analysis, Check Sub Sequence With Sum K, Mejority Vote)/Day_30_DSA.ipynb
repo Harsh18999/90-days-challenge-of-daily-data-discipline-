{
  "nbformat": 4,
  "nbformat_minor": 0,
  "metadata": {
    "colab": {
      "provenance": [],
      "authorship_tag": "ABX9TyP967951/jsBjSiAKGPd27B"
    },
    "kernelspec": {
      "name": "python3",
      "display_name": "Python 3"
    },
    "language_info": {
      "name": "python"
    }
  },
  "cells": [
    {
      "cell_type": "markdown",
      "source": [
        "# **Problem Statement - 1**\n",
        "**Check if there exists a subsequence with sum K**\n",
        "\n",
        "Given an array arr and target sum k, check whether there exists a subsequence such that the sum of all elements in the subsequence equals the given target sum(k).\n",
        "\n",
        "[Problem Link](https://www.geeksforgeeks.org/problems/check-if-there-exists-a-subsequence-with-sum-k/1)"
      ],
      "metadata": {
        "id": "Wdgjz09S9tGU"
      }
    },
    {
      "cell_type": "markdown",
      "source": [
        "### **Approach  ( Time Complexity O(2^n) and Space Complexity O(n) )**\n",
        "\n",
        "**Recursive Function (subseq):**\n",
        "\n",
        "*    The function subseq recursively explores all possible subsequences by making a choice to either include the current element (arr[pos]) or skip it.\n",
        "\n",
        "**Base Cases:**\n",
        "\n",
        "*    If the current index pos reaches the length of the array (n), the function returns without making any changes.\n",
        "*    If sum equals the target k, the function sets the result (self.ans) to True.\n",
        "*    If sum exceeds k, it stops further exploration down that path.\n",
        "\n",
        "**Exploration:**\n",
        "\n",
        "*    **For each element in the array, two recursive calls are made:**\n",
        "        * One that skips the current element (i.e., move to the next element without adding it to sum).\n",
        "        *  Another that includes the current element (i.e., add it to sum and move to the next element).\n",
        "\n",
        "**Efficiency Considerations:**\n",
        "\n",
        "*    The recursion is halted as soon as the subsequence sum matches the target (K) to avoid unnecessary computations."
      ],
      "metadata": {
        "id": "L8Zpbqsnf2eJ"
      }
    },
    {
      "cell_type": "code",
      "source": [
        "#User function Template for python3\n",
        "\n",
        "class Solution:\n",
        "    def checkSubsequenceSum(self, N, arr, K):\n",
        "        # Code here\n",
        "        self.ans = False\n",
        "        self.subseq(arr,N,0,0,K)\n",
        "        return self.ans\n",
        "\n",
        "    def subseq(self,arr,n,sum,pos,k):\n",
        "        if pos == n: return\n",
        "        if self.ans == True: return\n",
        "        if sum < k :\n",
        "            self.subseq(arr,n,sum,pos+1,k)\n",
        "            sum+=arr[pos]\n",
        "            if sum == k : self.ans = True\n",
        "            self.subseq(arr,n,sum,pos+1,k)\n",
        "        elif sum == k:\n",
        "            self.ans = True\n",
        "\n",
        "        else: return"
      ],
      "metadata": {
        "id": "4XNAM-o_xLN1"
      },
      "execution_count": null,
      "outputs": []
    },
    {
      "cell_type": "markdown",
      "source": [
        "# **Problem Statement - 2**\n",
        "\n",
        "**Not a subset sum**\n",
        "\n",
        "*   List item\n",
        "*   List item\n",
        "\n",
        "\n",
        "\n",
        "You are given an array of integer arr[] where each number represents a vote to a candidate. Return the candidates that have votes greater than one-third of the total votes, If there's not a majority vote, return -1.\n",
        "\n",
        "\n",
        "\n",
        "[Problem Link](https://www.geeksforgeeks.org/problems/majority-vote/1)"
      ],
      "metadata": {
        "id": "P7qh7DHV8xVd"
      }
    },
    {
      "cell_type": "markdown",
      "source": [
        "### **Approach  ( Time Complexity O(n)) and Space Complexity O(1) )**\n",
        "\n",
        "**Boyer-Moore Voting Phase:**\n",
        "\n",
        "*    We aim to find two potential candidates (el1 and el2) that could be the majority elements.\n",
        "*    We use two counters (cnt1 and cnt2) to keep track of the frequency of two candidates.\n",
        "*    **As we iterate through the array:**\n",
        "        * If a candidate’s count is 0, we assign the current element as a new candidate.\n",
        "        * If the current element matches one of the candidates, we increase the respective count.\n",
        "        * If the current element does not match either candidate, we decrease both counts.\n",
        "\n",
        "**Validation Phase:**\n",
        "\n",
        "*    After the first pass, the candidates may not necessarily be the majority elements, so we need a second pass to confirm if they appear more than n/3 times.\n",
        "*    We iterate through the array again and count the actual occurrences of the two candidates.\n",
        "*    If a candidate's count is greater than or equal to min_votes (which is n // 3 + 1), it is added to the result.\n",
        "\n",
        "**Edge Cases:**\n",
        "\n",
        "*    If no majority element is found, return [-1].\n",
        "\n"
      ],
      "metadata": {
        "id": "2mK8oT6weIJh"
      }
    },
    {
      "cell_type": "code",
      "source": [
        "class Solution:\n",
        "    # Function to find the majority elements in the array\n",
        "\n",
        "    def findMajority(self, nums):\n",
        "        #Your Code goes here.\n",
        "        cnt1, cnt2 = 0,0\n",
        "        el1, el2 = float('-inf'), float('-inf')\n",
        "        min_votes = (len(nums)//3)+1\n",
        "\n",
        "        for num in nums:\n",
        "            if cnt1 == 0 and el2 != num:\n",
        "                cnt1+=1\n",
        "                el1 = num\n",
        "            elif cnt2 == 0 and el1 != num:\n",
        "                cnt2+=1\n",
        "                el2 = num\n",
        "\n",
        "            elif num == el1: cnt1+=1\n",
        "\n",
        "            elif num == el2: cnt2+=1\n",
        "\n",
        "            else: cnt1-=1 ; cnt2-=1\n",
        "\n",
        "        cnt1,cnt2 = 0,0\n",
        "        for num in nums:\n",
        "            if num == el1 : cnt1+=1\n",
        "            if num == el2 : cnt2+=1\n",
        "        res = []\n",
        "        if cnt1 >= min_votes: res.append(el1)\n",
        "        if cnt2 >= min_votes: res.append(el2)\n",
        "        if not res: res.append(-1)\n",
        "        return res"
      ],
      "metadata": {
        "id": "d5ZfbfHod_qH"
      },
      "execution_count": null,
      "outputs": []
    },
    {
      "cell_type": "markdown",
      "source": [
        "# **Thank You..**"
      ],
      "metadata": {
        "id": "Vnswq_x2gudi"
      }
    }
  ]
}