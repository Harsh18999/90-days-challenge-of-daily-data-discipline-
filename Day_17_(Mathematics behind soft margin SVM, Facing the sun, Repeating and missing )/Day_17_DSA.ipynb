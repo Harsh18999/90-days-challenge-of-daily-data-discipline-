{
  "nbformat": 4,
  "nbformat_minor": 0,
  "metadata": {
    "colab": {
      "provenance": [],
      "authorship_tag": "ABX9TyPITTHIr6KowNFV6DfeWLs2"
    },
    "kernelspec": {
      "name": "python3",
      "display_name": "Python 3"
    },
    "language_info": {
      "name": "python"
    }
  },
  "cells": [
    {
      "cell_type": "markdown",
      "source": [
        "# **Problem Statement - 1**\n",
        "\n",
        "**Missing And Repeating**\n",
        "\n",
        "Given an unsorted array arr of of positive integers. One number 'A' from set {1, 2,....,n} is missing and one number 'B' occurs twice in array. Find numbers A and B.\n",
        "\n",
        "\n",
        "[Problem Link](https://www.geeksforgeeks.org/problems/find-missing-and-repeating2512/1)"
      ],
      "metadata": {
        "id": "P7qh7DHV8xVd"
      }
    },
    {
      "cell_type": "markdown",
      "source": [
        "### **Approach  ( Time Complexity O(n) and Space Complexity O(1) )**\n",
        "\n",
        "**Initialize Variables:**\n",
        "\n",
        "*  Calculate the expected sum s of the first n natural numbers.\n",
        "*  Calculate the expected sum of squares ssq of the first n natural numbers.\n",
        "\n",
        "**Adjust for Array Values:**\n",
        "\n",
        "*  Traverse through the array, subtract each element from the expected sum s, and subtract the square of each element from the expected sum of squares ssq.\n",
        "\n",
        "**Calculate Missing and Repeating:**\n",
        "\n",
        "*  The difference in sums gives an equation involving the missing and repeating values.\n",
        "\n",
        "*  Use the formula missing = (s + ssq // s) // 2 to calculate the missing number.\n",
        "\n",
        "*  Use repeating = missing - s to calculate the repeating number.\n",
        "\n",
        "**Return Result:**\n",
        "\n",
        "*  Return the repeating and missing numbers as a list [repeating, missing]."
      ],
      "metadata": {
        "id": "2mK8oT6weIJh"
      }
    },
    {
      "cell_type": "code",
      "execution_count": null,
      "metadata": {
        "id": "nmQi3RKtcxZ8"
      },
      "outputs": [],
      "source": [
        "def MissingAndRepeating(arr):\n",
        "    n = len(arr)\n",
        "    s = (n * (n + 1)) // 2\n",
        "    ssq = (n * (n + 1) * (2 * n + 1)) // 6\n",
        "\n",
        "    missing = 0\n",
        "    repeating = 0\n",
        "\n",
        "    for i in range(n):\n",
        "        s -= arr[i]\n",
        "        ssq -= arr[i] * arr[i]\n",
        "\n",
        "    missing = (s + ssq // s) // 2\n",
        "    repeating = missing - s\n",
        "\n",
        "    return [repeating, missing]"
      ]
    },
    {
      "cell_type": "markdown",
      "source": [
        "# **Problem Statement - 2**\n",
        "**Facing the sun**\n",
        "\n",
        "Given an array height representing the heights of buildings. You have to count the buildings that will see the sunrise (Assume the sun rises on the side of the array starting point).\n",
        "\n",
        "[Problem Link](https://www.geeksforgeeks.org/problems/facing-the-sun2126/1)"
      ],
      "metadata": {
        "id": "Wdgjz09S9tGU"
      }
    },
    {
      "cell_type": "markdown",
      "source": [
        "### **Approach  ( Time Complexity O(n) and Space Complexity O(1) )**\n",
        "\n",
        "**Initialize Variables:**\n",
        "\n",
        "*  Start with lmx as the height of the first building (height[0]), which serves as the highest building seen so far.\n",
        "\n",
        "*  Set blds (building count) to 1, since the first building always gets sunlight.\n",
        "\n",
        "**Traverse through the list:**\n",
        "\n",
        "*  For each building in the list height, check if it is taller than lmx (the highest building so far).\n",
        "\n",
        "**Update the Count:**\n",
        "\n",
        "*  If the current building is taller than lmx, increment the count blds and update lmx to the height of the current building.\n",
        "\n",
        "**Return the Result:**\n",
        "\n",
        "*  After traversing all buildings, return the count blds as the total number of buildings that can see the sunlight."
      ],
      "metadata": {
        "id": "L8Zpbqsnf2eJ"
      }
    },
    {
      "cell_type": "code",
      "source": [
        "class Solution:\n",
        "    # Returns count buildings that can see sunlight\n",
        "    def countBuildings(self, height):\n",
        "        # code here\n",
        "        lmx = height[0]\n",
        "        blds = 1\n",
        "        for i in height:\n",
        "            if i > lmx:\n",
        "                blds +=1\n",
        "                lmx = i\n",
        "        return blds\n"
      ],
      "metadata": {
        "id": "21IJefxed_zF"
      },
      "execution_count": null,
      "outputs": []
    },
    {
      "cell_type": "markdown",
      "source": [
        "# **Thank You..**"
      ],
      "metadata": {
        "id": "Vnswq_x2gudi"
      }
    }
  ]
}