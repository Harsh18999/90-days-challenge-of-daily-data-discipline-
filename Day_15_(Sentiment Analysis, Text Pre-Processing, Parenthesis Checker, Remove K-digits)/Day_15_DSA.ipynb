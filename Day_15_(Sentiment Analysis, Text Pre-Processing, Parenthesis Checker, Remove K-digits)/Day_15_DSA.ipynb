{
  "nbformat": 4,
  "nbformat_minor": 0,
  "metadata": {
    "colab": {
      "provenance": [],
      "authorship_tag": "ABX9TyP2skHBbMo88Sg3Vv7e4LBR"
    },
    "kernelspec": {
      "name": "python3",
      "display_name": "Python 3"
    },
    "language_info": {
      "name": "python"
    }
  },
  "cells": [
    {
      "cell_type": "markdown",
      "source": [
        "# **Problem Statement - 1**\n",
        "\n",
        "**Parenthesis Checker**\n",
        "\n",
        "Given an expression string x. Examine whether the pairs and the orders of {,},(,),[,] are correct in exp.\n",
        "For example, the function should return 'true' for exp = [()]{}{[()()]()} and 'false' for exp = [(]).\n",
        "\n",
        "\n",
        "\n",
        "[Problem Link](https://www.geeksforgeeks.org/problems/parenthesis-checker2744/1)"
      ],
      "metadata": {
        "id": "P7qh7DHV8xVd"
      }
    },
    {
      "cell_type": "markdown",
      "source": [
        "### **Approach  ( Time Complexity O(n) and Space Complexity O(n) )**\n",
        "\n",
        "**Initialize a Dictionary for Matching Pairs:**\n",
        "\n",
        "*  A dictionary char is used to store the closing brackets as keys and their corresponding opening brackets as values, i.e., ')' : '(', '}' : '{', and ']' : '['.\n",
        "\n",
        "**Iterate Through the Input String:**\n",
        "\n",
        "*  Loop through each character in the input string x.\n",
        "\n",
        "**Push Opening Brackets to Stack:**\n",
        "\n",
        "*  If the character is an opening bracket (, {, or [, push it onto the stack.\n",
        "Check for Matching Brackets:\n",
        "\n",
        "*  If the character is a closing bracket ), }, or ], check if the stack is non-empty and the top of the stack contains the matching opening bracket (using the dictionary).\n",
        "\n",
        "*  If the match is found, pop the top element from the stack. If not, return False since the brackets are not balanced.\n",
        "\n",
        "**Return the Result:**\n",
        "\n",
        "*  After processing all characters, return True if the stack is empty (indicating all brackets were matched), otherwise return False."
      ],
      "metadata": {
        "id": "2mK8oT6weIJh"
      }
    },
    {
      "cell_type": "code",
      "execution_count": null,
      "metadata": {
        "id": "nmQi3RKtcxZ8"
      },
      "outputs": [],
      "source": [
        "class Solution:\n",
        "\n",
        "    #Function to check if brackets are balanced or not.\n",
        "    def ispar(self,x):\n",
        "        # code here\n",
        "        char = {')':'(','}':'{',']':'['}\n",
        "        stack = []\n",
        "        for i in x:\n",
        "            if i == '(' or i == '{' or i == '[' :\n",
        "                stack.append(i)\n",
        "            else:\n",
        "                if len(stack)>0 and char[i] == stack.pop():\n",
        "                    continue\n",
        "                return False\n",
        "        return True if len(stack)==0 else False"
      ]
    },
    {
      "cell_type": "markdown",
      "source": [
        "# **Problem Statement - 2**\n",
        "**Remove K Digits**\n",
        "\n",
        "Given a non-negative integer S represented as a string, remove K digits from the number so that the new number is the smallest possible.\n",
        "\n",
        "[Problem Link](https://www.geeksforgeeks.org/problems/remove-k-digits/1)"
      ],
      "metadata": {
        "id": "Wdgjz09S9tGU"
      }
    },
    {
      "cell_type": "markdown",
      "source": [
        "### **Approach  ( Time Complexity O(n) and Space Complexity O(n) )**\n",
        "\n",
        "**Initialize an Empty Stack:**\n",
        "\n",
        "*  A stack is used to store the digits in a way that maintains a non-decreasing order as we process the string S.\n",
        "\n",
        "**Traverse Through Each Digit in the String:**\n",
        "\n",
        "* For each digit in the input string S, check if the stack is not empty, and the top element of the stack is greater than the current digit. If so, remove the top element from the stack (this helps in minimizing the resulting number) and decrement K (indicating one removal).\n",
        "\n",
        "**Append the Current Digit to the Stack:**\n",
        "\n",
        "*  Whether or not an element was popped, the current digit is appended to the stack.\n",
        "\n",
        "**Handle Remaining Removals:**\n",
        "\n",
        "*  If there are still digits left to remove (i.e., K > 0), continue popping elements from the stack until K becomes 0.\n",
        "\n",
        "**Construct the Result:**\n",
        "\n",
        "*  After processing all the digits, join the stack into a string and remove leading zeros using .lstrip('0').\n",
        "\n",
        "**Return the Result:**\n",
        "\n",
        "*  If the result is empty after stripping leading zeros, return '0', otherwise return the modified number."
      ],
      "metadata": {
        "id": "L8Zpbqsnf2eJ"
      }
    },
    {
      "cell_type": "code",
      "source": [
        "class Solution:\n",
        "\n",
        "    def removeKdigits(self, S, K):\n",
        "        # code here\n",
        "        stack = []\n",
        "\n",
        "        for digit in S:\n",
        "            while K > 0 and stack and stack[-1] > digit:\n",
        "                stack.pop()\n",
        "                K -= 1\n",
        "\n",
        "            stack.append(digit)\n",
        "\n",
        "        while K > 0:\n",
        "            stack.pop()\n",
        "            K -= 1\n",
        "\n",
        "        result = ''.join(stack).lstrip('0')\n",
        "\n",
        "        return result if result else '0'"
      ],
      "metadata": {
        "id": "21IJefxed_zF"
      },
      "execution_count": null,
      "outputs": []
    },
    {
      "cell_type": "markdown",
      "source": [
        "# **Thank You..**"
      ],
      "metadata": {
        "id": "Vnswq_x2gudi"
      }
    }
  ]
}