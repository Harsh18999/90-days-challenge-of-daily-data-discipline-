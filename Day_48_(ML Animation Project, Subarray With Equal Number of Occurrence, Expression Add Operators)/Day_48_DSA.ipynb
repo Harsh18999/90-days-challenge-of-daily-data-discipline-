{
  "nbformat": 4,
  "nbformat_minor": 0,
  "metadata": {
    "colab": {
      "provenance": [],
      "authorship_tag": "ABX9TyOkVh35GjEXZxPEyB3vJkme"
    },
    "kernelspec": {
      "name": "python3",
      "display_name": "Python 3"
    },
    "language_info": {
      "name": "python"
    }
  },
  "cells": [
    {
      "cell_type": "markdown",
      "source": [
        "# **Problem Statement - 1**\n",
        "**Sub-arrays with equal number of occurences**\n",
        "\n",
        "Given an array arr[] and two integers say, x and y, find the number of sub-arrays in which the number of occurrences of x is equal to the number of occurrences of y.\n",
        "\n",
        "\n",
        "[Problem Link](https://www.geeksforgeeks.org/problems/sub-arrays-with-equal-number-of-occurences3901/1)"
      ],
      "metadata": {
        "id": "Wdgjz09S9tGU"
      }
    },
    {
      "cell_type": "markdown",
      "source": [
        "### **Approach  ( Time Complexity O(n) and Space Complexity O(n) )**\n",
        "\n",
        "**Initialize variables:**\n",
        "\n",
        " * **count:** This will keep track of the total number of valid subarrays where the occurrences of x and y are equal.\n",
        "\n",
        " * **diffMap:** A hashmap that stores the difference between the counts of x and y seen so far. It is initialized with {0: 1} because if cx - cy == 0, it means that, up to this point, the occurrences of x and y are the same.\n",
        " * **cx:** Counter for how many times x has appeared in the array so far.\n",
        " * **cy:** Counter for how many times y has appeared in the array so far.\n",
        "Iterate through the array:\n",
        "\n",
        "**For each element in the array:**\n",
        " * Increment cx if the element is x.\n",
        " * Increment cy if the element is y.\n",
        " * Calculate the difference between the counts of x and y: diff = cx - cy.\n",
        " * Check if this difference has been seen before in diffMap. If yes, it means that there is a subarray ending at this point where the occurrences of x and y are the same.\n",
        " * Add the count of this difference from diffMap to count.\n",
        " * Update diffMap to record the current difference diff by incrementing its frequency."
      ],
      "metadata": {
        "id": "L8Zpbqsnf2eJ"
      }
    },
    {
      "cell_type": "code",
      "source": [
        "class Solution:\n",
        "    def sameOccurrence(self, arr, x, y):\n",
        "        count = 0\n",
        "        diffMap = {0: 1}\n",
        "\n",
        "        cx = 0\n",
        "        cy = 0\n",
        "\n",
        "        for num in arr:\n",
        "            if num == x:\n",
        "                cx += 1\n",
        "            if num == y:\n",
        "                cy += 1\n",
        "\n",
        "            diff = cx - cy\n",
        "\n",
        "            count += diffMap.get(diff, 0)\n",
        "            diffMap[diff] = diffMap.get(diff, 0) + 1\n",
        "\n",
        "        return count\n"
      ],
      "metadata": {
        "id": "4XNAM-o_xLN1"
      },
      "execution_count": null,
      "outputs": []
    },
    {
      "cell_type": "markdown",
      "source": [
        "# **Problem Statement - 2**\n",
        "\n",
        "**Expression Add Operators**\n",
        "\n",
        "Given a string S that contains only digits (0-9) and an integer target, return all possible strings to insert the binary operator ' + ', ' - ', or ' * ' between the digits of S so that the resultant expression evaluates to the target value.\n",
        "\n",
        "\n",
        "[Problem Link](https://www.geeksforgeeks.org/problems/expression-add-operators/1)"
      ],
      "metadata": {
        "id": "P7qh7DHV8xVd"
      }
    },
    {
      "cell_type": "markdown",
      "source": [
        "### **Approach  ( Time Complexity O(3^n) and Space Complexity O(3^n) )**\n",
        "\n",
        "**Backtracking Function:**\n",
        "\n",
        " * The helper function _addopr() is used to recursively try adding operators (+, -, *) between digits and evaluate if the expression formed equals the target value.\n",
        " * The function keeps track of the current position in the string (pos), the current expression being formed (current_expr), the value of this expression so far (current_value), and the value of the last operand (last_operand), which is useful for correctly applying multiplication.\n",
        "\n",
        "**Handling Numbers:**\n",
        "\n",
        " * At each recursive call, a substring num_str (which represents the number formed by digits from the current position) is extracted from the string.\n",
        " * The algorithm tries forming different numbers from the current position by expanding num_str one digit at a time (i.e., it tries single-digit, two-digit, etc., numbers).\n",
        " * If a number starts with '0' (except for a single '0'), it is skipped to avoid invalid expressions like \"05\".\n",
        "\n",
        "**Base Case:**\n",
        "\n",
        " * If the recursion reaches the end of the string (pos == len(S)) and the current value (current_value) equals the target, the current expression (current_expr) is added to the result list.\n",
        "\n",
        "**Exploring Operators:**\n",
        "\n",
        " * If it's the first number (i.e., pos == 0), it is simply added to the expression without an operator.\n",
        "\n",
        " * **Otherwise, the function recursively tries adding each operator:**\n",
        "     *  Addition: Add the number with a '+' operator and update the current value accordingly.\n",
        "     *  Subtraction: Add the number with a '-' operator and update the current value.\n",
        "     *  Multiplication: Handle multiplication carefully by adjusting the current value to account for the last operand. The multiplication is treated as a higher-priority operator, so it must be applied after undoing the effect of the last operand."
      ],
      "metadata": {
        "id": "2mK8oT6weIJh"
      }
    },
    {
      "cell_type": "code",
      "source": [
        "#User function Template for python3\n",
        "\n",
        "class Solution:\n",
        "    def addOperators(self, S, target):\n",
        "        self.res = []\n",
        "        self.target = target\n",
        "        self._addopr(0, S, \"\", 0, 0)\n",
        "        return self.res\n",
        "\n",
        "    def _addopr(self, pos, S, current_expr, current_value, last_operand):\n",
        "        if pos == len(S):\n",
        "            if current_value == self.target:\n",
        "                self.res.append(current_expr)\n",
        "            return\n",
        "\n",
        "        for i in range(pos, len(S)):\n",
        "            num_str = S[pos:i + 1]\n",
        "            num = int(num_str)\n",
        "\n",
        "\n",
        "            if len(num_str) > 1 and S[pos] == '0':\n",
        "                break\n",
        "\n",
        "            if pos == 0:\n",
        "\n",
        "                self._addopr(i + 1, S, num_str, num, num)\n",
        "                continue\n",
        "\n",
        "            self._addopr(i + 1, S, current_expr + '+' + num_str, current_value + num, num)\n",
        "            self._addopr(i + 1, S, current_expr + '-' + num_str, current_value - num, -num)\n",
        "            self._addopr(i + 1, S, current_expr + '*' + num_str, current_value - last_operand + last_operand * num, last_operand * num)"
      ],
      "metadata": {
        "id": "xOsfZ1MSieuR"
      },
      "execution_count": null,
      "outputs": []
    },
    {
      "cell_type": "markdown",
      "source": [
        "# **Thank You..**"
      ],
      "metadata": {
        "id": "Vnswq_x2gudi"
      }
    }
  ]
}