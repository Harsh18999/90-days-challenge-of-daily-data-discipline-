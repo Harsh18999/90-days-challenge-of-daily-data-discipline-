{
  "nbformat": 4,
  "nbformat_minor": 0,
  "metadata": {
    "colab": {
      "provenance": [],
      "authorship_tag": "ABX9TyM+CqnOC5QxrDyi0VbUnbHI",
      "include_colab_link": true
    },
    "kernelspec": {
      "name": "python3",
      "display_name": "Python 3"
    },
    "language_info": {
      "name": "python"
    }
  },
  "cells": [
    {
      "cell_type": "markdown",
      "metadata": {
        "id": "view-in-github",
        "colab_type": "text"
      },
      "source": [
        "<a href=\"https://colab.research.google.com/github/Harsh18999/90-days-challenge-of-daily-data-discipline-/blob/main/Day_1/Day_1_DSA_.ipynb\" target=\"_parent\"><img src=\"https://colab.research.google.com/assets/colab-badge.svg\" alt=\"Open In Colab\"/></a>"
      ]
    },
    {
      "cell_type": "markdown",
      "source": [
        "# **Problem Statement - 1**\n",
        "\n",
        "-->  Given a sorted doubly linked list of positive distinct elements, the task is to find pairs in a doubly-linked list whose sum is equal to given value target.\n",
        "\n",
        "[Problem link](https://www.geeksforgeeks.org/problems/find-pairs-with-given-sum-in-doubly-linked-list/1?utm_source=youtube&utm_medium=collab_striver_ytdescription&utm_campaign=find-pairs-with-given-sum-in-doubly-linked-list)\n",
        "\n"
      ],
      "metadata": {
        "id": "cWatT3uKTQXP"
      }
    },
    {
      "cell_type": "markdown",
      "source": [
        "#### **Approach - 1 ( Time complexity - O(n^2) and Space Complexity O(n) )**\n",
        "\n",
        "**Initialize Pointers:** Set left to the head of the list and right to the next node. Create an empty list res to store pairs of nodes whose data sum equal to target value.\n",
        "\n",
        "**Iterate through the List:** Use a while loop to iterate through the list as long as both left and right pointers are valid nodes.\n",
        "\n",
        "**Calculate Sum:** Calculate the sum of the data from the left and right nodes.\n",
        "\n",
        "**Check for Target Match:**\n",
        "If the sum matches the target, append the pair (left.data, right.data) to res.\n",
        "\n",
        "If the sum is less than the target, move the right pointer to the next node if possible; otherwise, shift left to the next node and reset right to left.next.\n",
        "\n",
        "**Adjust Pointers:** If the sum is greater than the target, move the left pointer to the next node and set right to left.next if left is not null.\n",
        "\n",
        "**Return Result:** Once the loop is done, return the list of pairs stored in res."
      ],
      "metadata": {
        "id": "GRSkQEl1gq4M"
      }
    },
    {
      "cell_type": "code",
      "execution_count": 16,
      "metadata": {
        "id": "UOOeuXRATK1C"
      },
      "outputs": [],
      "source": [
        "def FindPairs(target,head):\n",
        "  left = head\n",
        "  right = head.next\n",
        "  res = [ ]\n",
        "\n",
        "  while left and right:\n",
        "      sum = left.data + right.data\n",
        "      if sum == target:\n",
        "          res.append((left.data,right.data))\n",
        "          if right.next:\n",
        "              right = right.next\n",
        "          else:\n",
        "              left=left.next\n",
        "              right = left.next if left else None\n",
        "      elif sum < target:\n",
        "          if right.next:\n",
        "              right = right.next\n",
        "          else:\n",
        "              left=left.next\n",
        "              right = left.next if left else None\n",
        "      else:\n",
        "          left = left.next\n",
        "          right = left.next if left else None\n",
        "\n",
        "      return res"
      ]
    },
    {
      "cell_type": "markdown",
      "source": [
        "####**Approach - 2 ( Time complexity - O(n) and Space Complexity O(n) )**\n",
        "\n",
        "**Initialize Pointers:** Start with two pointers, left at the head of the list and right at the last node. Move the right pointer to the end of the list by traversing through it.\n",
        "\n",
        "**Traverse** : Use a while loop to traverse the linked list with the condition that left.data is less than right.data, ensuring that pairs are only considered once.\n",
        "\n",
        "**Calculate Sum**: For each iteration, calculate the sum of the data values of the left and right nodes.\n",
        "\n",
        "**Check for Target Match**:\n",
        "\n",
        "*   If the sum equals the target, append the pair (left.data, right.data) to the result list res, then move the left pointer to the next node and the right pointer to the previous node.\n",
        "*   If the sum is less than the target, move the left pointer to the next node to increase the sum.\n",
        "* If the sum is greater than the target, move the right pointer to the previous node to decrease the sum.\n",
        "\n",
        "**Return Result:** After the loop, return the list of pairs stored in res."
      ],
      "metadata": {
        "id": "9FkOv6e1jn6T"
      }
    },
    {
      "cell_type": "code",
      "source": [
        "def FindPairs(target,head):\n",
        "  left = head\n",
        "  right = head\n",
        "  result = [ ]\n",
        "\n",
        "  while right.next:\n",
        "    right = right.next\n",
        "\n",
        "  while left.data < right.data :\n",
        "    sum = left.data + right.data\n",
        "\n",
        "    if sum == target:\n",
        "      result.append((left.data,right.data))\n",
        "      left = left.next\n",
        "      right = right.prev\n",
        "\n",
        "    elif sum < target:\n",
        "      left = left.next\n",
        "\n",
        "    else:\n",
        "      right = right.prev\n",
        "\n",
        "  return result\n"
      ],
      "metadata": {
        "id": "PmZbvfbSUijX"
      },
      "execution_count": 18,
      "outputs": []
    },
    {
      "cell_type": "markdown",
      "source": [
        "# **Problem Statement - 2**\n",
        "\n",
        "--> You are given the head_ref of a doubly Linked List and a Key. Your task is to delete all occurrences of the given key if it is present and return the new DLL.\n",
        "\n",
        "[Problem link](https://www.geeksforgeeks.org/problems/delete-all-occurrences-of-a-given-key-in-a-doubly-linked-list/1?utm_source=youtube&utm_medium=collab_striver_ytdescription&utm_campaign=delete-all-occurrences-of-a-given-key-in-a-doubly-linked-list)\n",
        "\n"
      ],
      "metadata": {
        "id": "3CBNUGC5pDUU"
      }
    },
    {
      "cell_type": "markdown",
      "source": [
        "**Approach**\n",
        "\n",
        "**Create dummy node:** Create a dummy node with value -1, and node.next will point head and head.prev will point to node.\n",
        "\n",
        "**Traverse:** Traverse over the linked list, with a temprary variable\n",
        "\n",
        "**Check for node data:** In each step of triversal, check the node.next.data is equal to key if yes then node.next will point node.next.next and if node.next.next exist then node.next.next.prev will point to the temp.\n",
        "\n",
        "**Remove dummy node:** dummy node.next.prev will point None and return node.next\n",
        "\n",
        "\n"
      ],
      "metadata": {
        "id": "8X_Nc_R3pc8c"
      }
    },
    {
      "cell_type": "code",
      "source": [
        "class Node:\n",
        "  def __init__(self,data):\n",
        "    self.data = data\n",
        "    self.next = None\n",
        "    self.prev = None"
      ],
      "metadata": {
        "id": "jh4RV4KntpUb"
      },
      "execution_count": 19,
      "outputs": []
    },
    {
      "cell_type": "code",
      "source": [
        "def deleteAllOccur(self, head, x):\n",
        "    n = Node(-1)\n",
        "    n.next = head\n",
        "    head.prev = n\n",
        "    temp = n\n",
        "    while temp.next:\n",
        "        if temp.next.data == x:\n",
        "            if temp.next.next : temp.next.next.prev = temp\n",
        "            temp.next = temp.next.next\n",
        "            continue\n",
        "        temp = temp.next\n",
        "    n.next.prev = None\n",
        "    return n.next"
      ],
      "metadata": {
        "id": "7S3ndR8FtZpy"
      },
      "execution_count": 21,
      "outputs": []
    }
  ]
}
