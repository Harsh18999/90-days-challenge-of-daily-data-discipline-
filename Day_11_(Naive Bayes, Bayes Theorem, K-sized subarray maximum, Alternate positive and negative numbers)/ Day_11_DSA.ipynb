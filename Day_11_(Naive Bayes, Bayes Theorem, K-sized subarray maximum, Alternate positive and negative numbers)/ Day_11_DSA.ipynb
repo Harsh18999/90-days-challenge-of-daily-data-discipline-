{
  "nbformat": 4,
  "nbformat_minor": 0,
  "metadata": {
    "colab": {
      "provenance": [],
      "authorship_tag": "ABX9TyM5usuVvU+UBXrgRp3oIrwq"
    },
    "kernelspec": {
      "name": "python3",
      "display_name": "Python 3"
    },
    "language_info": {
      "name": "python"
    }
  },
  "cells": [
    {
      "cell_type": "markdown",
      "source": [
        "# **Problem Statement - 1**\n",
        "\n",
        "**K Sized Subarray Maximum**\n",
        "\n",
        "Given an array arr[] of size N and an integer K. Find the maximum for each and every contiguous subarray of size K.\n",
        "\n",
        "[Problem Link](https://www.geeksforgeeks.org/problems/maximum-of-all-subarrays-of-size-k3101/1?page=1&category=Arrays&status=unsolved&sortBy=submissions)"
      ],
      "metadata": {
        "id": "P7qh7DHV8xVd"
      }
    },
    {
      "cell_type": "markdown",
      "source": [
        "### **Approach  ( Time Complexity O(n) and Space Complexity O(k) )**\n",
        "\n",
        "**Initialize Deque and Result List:**\n",
        "\n",
        "Use a deque dq to store the indices of elements in a sliding window. The deque helps in tracking the maximum element's index for each window.\n",
        "Initialize an empty list result to store the maximum of each subarray of size k.\n",
        "\n",
        "**Traverse the Array:**\n",
        "Iterate through the array arr using the index i from 0 to n-1.\n",
        "\n",
        "**Remove Out-of-Window Elements:**\n",
        "Check if the leftmost element in the deque is outside the current window of size k, and if so, remove it using popleft().\n",
        "\n",
        "**Maintain Deque in Descending Order:**\n",
        "While the deque is not empty and the current element arr[i] is greater than or equal to the element at the index stored at the end of the deque (arr[dq[-1]]), pop elements from the deque. This ensures the deque stores elements in a descending order of their values.\n",
        "\n",
        "**Add Current Element's Index to Deque:**\n",
        "Append the current index i to the deque.\n",
        "\n",
        "**Store the Maximum for Each Subarray:**\n",
        "Once the index i reaches the position where a full window of size k is formed (i.e., when i >= k - 1), append the value arr[dq[0]] (the element at the front of the deque, which is the maximum of the current window) to the result list.\n",
        "\n",
        "**Return the Result List:**\n",
        "After processing all elements, return the result list containing the maximum values for each subarray of size k."
      ],
      "metadata": {
        "id": "2mK8oT6weIJh"
      }
    },
    {
      "cell_type": "code",
      "execution_count": null,
      "metadata": {
        "id": "nmQi3RKtcxZ8"
      },
      "outputs": [],
      "source": [
        "class Solution:\n",
        "\n",
        "    def max_of_subarrays(self,arr,n,k):\n",
        "\n",
        "        dq = deque()\n",
        "        result = []\n",
        "\n",
        "        for i in range(n):\n",
        "\n",
        "            if dq and dq[0] == i - k:\n",
        "                dq.popleft()\n",
        "\n",
        "            while dq and arr[dq[-1]] <= arr[i]:\n",
        "                dq.pop()\n",
        "\n",
        "            dq.append(i)\n",
        "\n",
        "            if i >= k - 1:\n",
        "                result.append(arr[dq[0]])\n",
        "\n",
        "        return result"
      ]
    },
    {
      "cell_type": "markdown",
      "source": [
        "# **Problem Statement - 2**\n",
        "**Alternate positive and negative numbers**\n",
        "\n",
        "Given an unsorted array arr containing both positive and negative numbers. Your task is to create an array of alternate positive and negative numbers without changing the relative order of positive and negative numbers.\n",
        "\n",
        "[Problem Link](https://www.geeksforgeeks.org/problems/array-of-alternate-ve-and-ve-nos1401/1)"
      ],
      "metadata": {
        "id": "Wdgjz09S9tGU"
      }
    },
    {
      "cell_type": "markdown",
      "source": [
        "### **Approach  ( Time Complexity O(n) and Space Complexity O(n) )**\n",
        "\n",
        "**Separate Positive and Negative Numbers:** Traverse the array and store positive numbers in the pos list and negative numbers in the neg list.\n",
        "\n",
        "**Initialize Pointers:** Set up pointers n1, m1, and i to track positions in pos, neg, and the original array, respectively.\n",
        "\n",
        "**Interleave Positive and Negative Numbers:** Alternate between placing positive and negative numbers in arr based on index i, using a while loop to continue until one of the lists (pos or neg) is exhausted.\n",
        "\n",
        "**Place Remaining Elements:** If any elements are left in either pos or neg, add them to the array in their original order.\n",
        "\n",
        "**Final Array:** The modified array contains alternating positive and negative numbers, with any remaining numbers appended at the end."
      ],
      "metadata": {
        "id": "L8Zpbqsnf2eJ"
      }
    },
    {
      "cell_type": "code",
      "source": [
        "class Solution:\n",
        "    def rearrange(self, arr):\n",
        "\n",
        "        pos = []\n",
        "        neg = []\n",
        "\n",
        "        for num in arr:\n",
        "            if num >= 0:\n",
        "                pos.append(num)\n",
        "            else:\n",
        "                neg.append(num)\n",
        "\n",
        "        n = len(pos)\n",
        "        m = len(neg)\n",
        "\n",
        "        n1, m1, i = 0, 0, 0\n",
        "\n",
        "        while n1 < n and m1 < m:\n",
        "            if i % 2 == 0:\n",
        "                arr[i] = pos[n1]\n",
        "                n1 += 1\n",
        "            else:\n",
        "                arr[i] = neg[m1]\n",
        "                m1 += 1\n",
        "            i += 1\n",
        "\n",
        "        while n1 < n:\n",
        "            arr[i] = pos[n1]\n",
        "            n1 += 1\n",
        "            i += 1\n",
        "\n",
        "        while m1 < m:\n",
        "            arr[i] = neg[m1]\n",
        "            m1 += 1\n",
        "            i += 1\n",
        "\n"
      ],
      "metadata": {
        "id": "21IJefxed_zF"
      },
      "execution_count": null,
      "outputs": []
    },
    {
      "cell_type": "markdown",
      "source": [
        "# **Thank You..**"
      ],
      "metadata": {
        "id": "Vnswq_x2gudi"
      }
    }
  ]
}