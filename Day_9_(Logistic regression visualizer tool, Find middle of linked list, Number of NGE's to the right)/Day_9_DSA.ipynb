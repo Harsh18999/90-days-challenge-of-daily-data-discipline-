{
  "nbformat": 4,
  "nbformat_minor": 0,
  "metadata": {
    "colab": {
      "provenance": [],
      "authorship_tag": "ABX9TyMnWJdcu65ZTjTzeA5vfUNL"
    },
    "kernelspec": {
      "name": "python3",
      "display_name": "Python 3"
    },
    "language_info": {
      "name": "python"
    }
  },
  "cells": [
    {
      "cell_type": "markdown",
      "source": [
        "# **Problem Statement - 1**\n",
        "\n",
        "**Find Middle of Linked List**\n",
        "\n",
        "Given the head of a linked list, the task is to find the middle. For example, the middle of 1-> 2->3->4->5 is 3. If there are two middle nodes (even count), return the second middle. For example, middle of 1->2->3->4->5->6 is 4.\n",
        "\n",
        "[Problem Link](https://www.geeksforgeeks.org/problems/finding-middle-element-in-a-linked-list/1)"
      ],
      "metadata": {
        "id": "P7qh7DHV8xVd"
      }
    },
    {
      "cell_type": "markdown",
      "source": [
        "### **Approach  ( Time Complexity O(n) and Space Complexity O(1) )**\n",
        "\n",
        "**Initialize Two Pointers:** Use two pointers, slow and fast, both starting at the head of the linked list. The slow pointer will move one step at a time, while the fast pointer will move two steps at a time.\n",
        "\n",
        "**Traverse the Linked List:**\n",
        "\n",
        "*  Move the slow pointer one node ahead (slow = slow.next) and the fast pointer two nodes ahead (fast = fast.next.next).\n",
        "*  Continue this until the fast pointer reaches the end of the list or there are no more nodes left for it to jump two steps.\n",
        "\n",
        "**Return the Middle Node:**\n",
        "\n",
        "*  When the loop terminates, the slow pointer will be at the middle node, because it moves at half the speed of the fast pointer.\n",
        "*  Return the data of the slow pointer as the middle node value."
      ],
      "metadata": {
        "id": "2mK8oT6weIJh"
      }
    },
    {
      "cell_type": "code",
      "execution_count": null,
      "metadata": {
        "id": "nmQi3RKtcxZ8"
      },
      "outputs": [],
      "source": [
        "class Solution:\n",
        "    #  Should return data of middle node. If linked list is empty, then  -1\n",
        "    def getMiddle(self, head):\n",
        "        # Code here\n",
        "        # return the value stored in the middle node\n",
        "        slow = head\n",
        "        fast = head\n",
        "\n",
        "        while fast and fast.next:\n",
        "            slow = slow.next\n",
        "            fast = fast.next.next\n",
        "\n",
        "        return slow.data"
      ]
    },
    {
      "cell_type": "markdown",
      "source": [
        "# **Problem Statement - 2**\n",
        "**Number of NGEs to the right**\n",
        "\n",
        "Given an array of N integers and Q queries of indices. Return a list NGEs[] where NGEs[i] stores the count of elements strictly greater than the current element (arr[indices[i]]) to the right of indices[i].\n",
        "\n",
        "[Problem Link](https://www.geeksforgeeks.org/problems/number-of-nges-to-the-right/1?utm_source=youtube&utm_medium=collab_striver_ytdescription&utm_campaign=number-of-nges-to-the-right)"
      ],
      "metadata": {
        "id": "Wdgjz09S9tGU"
      }
    },
    {
      "cell_type": "markdown",
      "source": [
        "### **Approach  ( Time Complexity O(n*q) and Space Complexity O(q) )**\n",
        "\n",
        "**Initialize the Answer List:** Create an empty list ans to store the results for each query.\n",
        "\n",
        "**Iterate Through Queries:** For each index i in indices, perform the following:\n",
        "\n",
        "*   Initialize a counter c to zero, which will keep track of the number of next greater elements.\n",
        "\n",
        "*   Loop through the elements in arr starting from the current index i up to the end (N).\n",
        "\n",
        "*   For each element arr[j] after arr[i], check if it is greater than arr[i].\n",
        "If so, increment the counter c.\n",
        "\n",
        "**Store the Count:** After processing the array for the current index i, append the count c to the ans list.\n",
        "\n",
        "**Return the Result:** Finally, return the ans list, which contains the count of next greater elements for each query."
      ],
      "metadata": {
        "id": "L8Zpbqsnf2eJ"
      }
    },
    {
      "cell_type": "code",
      "source": [
        "class Solution:\n",
        "    def count_NGEs(self, N, arr, queries, indices):\n",
        "        # Code here\n",
        "        ans = [ ]\n",
        "        for i in indices:\n",
        "            c=0\n",
        "            for j in range(i,N):\n",
        "                if arr[j]>arr[i]:\n",
        "                    c+=1\n",
        "            ans.append(c)\n",
        "        return ans\n"
      ],
      "metadata": {
        "id": "21IJefxed_zF"
      },
      "execution_count": null,
      "outputs": []
    },
    {
      "cell_type": "markdown",
      "source": [
        "# **Thank You..**"
      ],
      "metadata": {
        "id": "Vnswq_x2gudi"
      }
    }
  ]
}