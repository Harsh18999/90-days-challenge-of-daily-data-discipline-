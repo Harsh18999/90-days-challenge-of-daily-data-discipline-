{
  "nbformat": 4,
  "nbformat_minor": 0,
  "metadata": {
    "colab": {
      "provenance": [],
      "authorship_tag": "ABX9TyNsXobBV1rBtEgE+pFPCPG6"
    },
    "kernelspec": {
      "name": "python3",
      "display_name": "Python 3"
    },
    "language_info": {
      "name": "python"
    }
  },
  "cells": [
    {
      "cell_type": "markdown",
      "source": [
        "# **Problem Statement - 1**\n",
        "\n",
        "--> Implement a stack using Linkedlist\n",
        "\n",
        "[Problem Link](https://bit.ly/3w6PwVv)"
      ],
      "metadata": {
        "id": "P7qh7DHV8xVd"
      }
    },
    {
      "cell_type": "markdown",
      "source": [
        "### **Approach:   Time Complexity for push O(1) and pop O(1)**\n",
        "\n",
        "\n",
        "**Initialize the Stack:** Set head to None to represent an empty stack.\n",
        "\n",
        "**Push Operation:**\n",
        "\n",
        "   * Create a new node n using the given data.\n",
        "   * Set the next pointer of the new node n to the current head of the stack.\n",
        "   * Update the head to point to the new node n, effectively adding it to the top of the stack.\n",
        "\n",
        "**Pop Operation:**\n",
        "\n",
        "* Check if the stack (head) is not empty.\n",
        "*   If not empty, store the data of the current head node in a variable p.\n",
        "*   Update the head to point to the next node, removing the current top node.\n",
        "*   Return the stored data p as the popped element.\n",
        "Handle Empty Stack:\n",
        "\n",
        "* If the stack is empty (head is None), return -1 to indicate that the pop operation failed.\n",
        "\n",
        "\n"
      ],
      "metadata": {
        "id": "KdTAscCr9LSD"
      }
    },
    {
      "cell_type": "code",
      "source": [
        "class Node:\n",
        "  def __init__(self,data):\n",
        "    self.data = data\n",
        "    self.next = None"
      ],
      "metadata": {
        "id": "u68ZijMFFKXs"
      },
      "execution_count": 2,
      "outputs": []
    },
    {
      "cell_type": "code",
      "execution_count": 3,
      "metadata": {
        "id": "b0P9p8xZBjQW"
      },
      "outputs": [],
      "source": [
        "head = None\n",
        "\n",
        "def push(self, data):\n",
        "    n = Node(data)\n",
        "    n.next = head\n",
        "    head = n\n",
        "\n",
        "def pop(self):\n",
        "    if self.head:\n",
        "      p = self.head.data\n",
        "      head = head.next\n",
        "      return p\n",
        "\n",
        "    else:\n",
        "      return -1"
      ]
    },
    {
      "cell_type": "markdown",
      "source": [
        "# **Problem Statement - 2**\n",
        "\n",
        "--> Implement a Queue using Linkedlist\n",
        "\n",
        "[Problem Link](https://bit.ly/3PA7mY0)"
      ],
      "metadata": {
        "id": "QU9gmF_pFWdE"
      }
    },
    {
      "cell_type": "markdown",
      "source": [
        "\n",
        "### **Approach:   Time Complexity for push O(1) and pop O(1)**\n",
        "\n",
        "\n",
        "**Initialize the Queue:**\n",
        "Set both rear and front to None to represent an empty queue.\n",
        "\n",
        "**Push Operation:**\n",
        "\n",
        "*   **if Queue is Empty:** If rear is None, it means the queue is empty.\n",
        "    *   Create a new node with the given item and assign it to both rear and front, making it the first element in the queue.\n",
        "*   **Queue is Not Empty:** If rear is not None, it means there are already elements in the queue.\n",
        "    *   Create a new node with the given item and set it as the next node of the current rear.\n",
        "    *   Update rear to point to this new node, adding it to the end of the queue.\n",
        "\n",
        "**Pop Operation:**\n",
        "\n",
        "* **Check if Queue is Not Empty:** If front is not None, proceed with popping.\n",
        "   *  Store the data of the current front node in variable p.\n",
        "   *  Update front to point to the next node, effectively removing the current front element.\n",
        "* **Check if Queue is Now Empty:** If front becomes None after the update, set rear to None as well, since the queue is now empty.\n",
        "   *   Return the stored data p as the popped element."
      ],
      "metadata": {
        "id": "mcA81zHYFtPQ"
      }
    },
    {
      "cell_type": "code",
      "source": [
        "\n",
        "rear = None\n",
        "front = None\n",
        "\n",
        "#Function to push an element into the queue.\n",
        "def push(item):\n",
        "    if not rear:\n",
        "        rear = Node(item)\n",
        "        front = rear\n",
        "    else:\n",
        "        rear.next = Node(item)\n",
        "        rear = rear.next\n",
        "\n",
        "#Function to pop front element from the queue.\n",
        "def pop():\n",
        "    if front:\n",
        "        p = front.data\n",
        "        front = front.next\n",
        "        if not front: rear = None\n",
        "        return p\n",
        "    else:\n",
        "        return -1"
      ],
      "metadata": {
        "id": "HyxrpTlvFTy3"
      },
      "execution_count": null,
      "outputs": []
    },
    {
      "cell_type": "markdown",
      "source": [
        "# **Problem Statement - 3**\n",
        "\n",
        "Given a string s containing just the characters '(', ')', '{', '}', '[', ']', determine if the input string is valid.\n",
        "\n",
        "An input string is valid if:\n",
        "\n",
        "1.  Open brackets must be closed by the same type of brackets.\n",
        "2.  Open brackets must be closed in the correct order.\n",
        "3.  Every close bracket has a corresponding open bracket of the same type.\n",
        "\n",
        "\n",
        "[Problem Link](https://leetcode.com/problems/valid-parentheses/)"
      ],
      "metadata": {
        "id": "jd4I5B7hH6WS"
      }
    },
    {
      "cell_type": "markdown",
      "source": [
        "**Initialize Mapping and Stack:**\n",
        "*  A dictionary char is used to map closing brackets (), }, ]) to their corresponding opening brackets ((, {, [).\n",
        "\n",
        "*  An empty list stack is initialized to keep track of the opening brackets.\n",
        "\n",
        "**Iterate Through Each Character in the String s:**\n",
        "\n",
        "*  **Opening Bracket:**If the current character (i) is an opening bracket ((, {, [), push it onto the stack.\n",
        "\n",
        "*  **Closing Bracket:**\n",
        "    *   Check if the stack is not empty and if the top element of the stack matches the corresponding opening bracket for the current closing bracket (using the char dictionary).\n",
        "    *   If it matches, pop the top element from the stack and continue to the next character.\n",
        "    *   If it doesn’t match or the stack is empty when encountering a closing bracket, return False because the brackets are not balanced.\n",
        "\n",
        "**Final Check:**\n",
        "\n",
        "*   After iterating through the string, check if the stack is empty.\n",
        "*  If the stack is empty (len(stack) == 0), it means all the opening brackets had matching closing brackets in the correct order, so return True.\n",
        "*   If the stack is not empty, return False because there are unmatched opening brackets."
      ],
      "metadata": {
        "id": "xnbeNUoLIUDI"
      }
    },
    {
      "cell_type": "code",
      "source": [
        "def isValid(s):\n",
        "    char = {')':'(','}':'{',']':'['}\n",
        "    stack = []\n",
        "    for i in s:\n",
        "        if i == '(' or i == '{' or i == '[' :\n",
        "            stack.append(i)\n",
        "        else:\n",
        "            if len(stack)>0 and char[i] == stack.pop():\n",
        "              continue\n",
        "            return False\n",
        "    return True if len(stack)==0 else False"
      ],
      "metadata": {
        "id": "5EToc8Y8IR5B"
      },
      "execution_count": 4,
      "outputs": []
    },
    {
      "cell_type": "code",
      "source": [],
      "metadata": {
        "id": "TGGJmgdqKgdD"
      },
      "execution_count": null,
      "outputs": []
    }
  ]
}
