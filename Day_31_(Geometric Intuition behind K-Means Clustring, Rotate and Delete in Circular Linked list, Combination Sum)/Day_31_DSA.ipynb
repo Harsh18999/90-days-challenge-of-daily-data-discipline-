{
  "nbformat": 4,
  "nbformat_minor": 0,
  "metadata": {
    "colab": {
      "provenance": [],
      "authorship_tag": "ABX9TyMIw7F0zh0vTARW3JgvlFUt"
    },
    "kernelspec": {
      "name": "python3",
      "display_name": "Python 3"
    },
    "language_info": {
      "name": "python"
    }
  },
  "cells": [
    {
      "cell_type": "markdown",
      "source": [
        "# **Problem Statement - 1**\n",
        "**Deletion and Reverse in Circular Linked List**\n",
        "\n",
        "Given a Circular Linked List. The task is to delete the given node, key in the circular linked list, and reverse the circular linked list.\n",
        "\n",
        "[Problem Link](https://www.geeksforgeeks.org/problems/deletion-and-reverse-in-linked-list/1)"
      ],
      "metadata": {
        "id": "Wdgjz09S9tGU"
      }
    },
    {
      "cell_type": "markdown",
      "source": [
        "### **Approach  ( Time Complexity O(n) and Space Complexity O(1) )**\n",
        "\n",
        "**Reversing a Circular Linked List:**\n",
        "\n",
        "*    We use a three-pointer approach (prev, current, next_node) to reverse the circular linked list.\n",
        "*    Starting from the head node, we traverse the list, adjusting the next pointers to point to the previous node instead of the next one.\n",
        "*    Since the list is circular, we have to handle the condition where the traversal reaches back to the head node to terminate the loop.\n",
        "*   Finally, we update the head.next pointer to complete the circular structure of the reversed list.\n",
        "\n",
        "**Deleting a Node in a Circular Linked List:**\n",
        "\n",
        "*    The function first checks if the list is empty. If so, it returns None.\n",
        "*    **To delete a node, we handle two cases:**\n",
        "      *  Deleting the head node: We need to find the last node to re-link it to the new head after deletion.\n",
        "      *  Deleting any other node: We traverse the list and, when we find the  node to be deleted, we adjust the next pointer of the previous node to bypass the node to be deleted.\n",
        "\n",
        "*   If the node is not found, the function returns the original head."
      ],
      "metadata": {
        "id": "L8Zpbqsnf2eJ"
      }
    },
    {
      "cell_type": "code",
      "source": [
        "'''\n",
        "class Node:\n",
        "    def __init__(self, data):\n",
        "        self.data = data\n",
        "        self.next = None\n",
        "\n",
        "'''\n",
        "class Solution:\n",
        "    def reverse(self, head):\n",
        "        if not head or not head.next:\n",
        "            return head\n",
        "\n",
        "        prev = None\n",
        "        current = head\n",
        "        next_node = current.next\n",
        "\n",
        "        while True:\n",
        "            next_node = current.next\n",
        "            current.next = prev\n",
        "            prev = current\n",
        "            current = next_node\n",
        "\n",
        "            if current == head:\n",
        "                break\n",
        "\n",
        "\n",
        "        head.next = prev\n",
        "        return prev\n",
        "\n",
        "    def deleteNode(self, head, key):\n",
        "        if not head:\n",
        "            return None\n",
        "\n",
        "        current = head\n",
        "\n",
        "        if head.data == key:\n",
        "\n",
        "            temp = head\n",
        "            while temp.next != head:\n",
        "                temp = temp.next\n",
        "            if head == temp:\n",
        "                return None\n",
        "            temp.next = head.next\n",
        "            return head.next\n",
        "\n",
        "\n",
        "        while current.next != head:\n",
        "            if current.next.data == key:\n",
        "                current.next = current.next.next\n",
        "                return head\n",
        "            current = current.next\n",
        "\n",
        "        return head"
      ],
      "metadata": {
        "id": "4XNAM-o_xLN1"
      },
      "execution_count": null,
      "outputs": []
    },
    {
      "cell_type": "markdown",
      "source": [
        "# **Problem Statement - 2**\n",
        "\n",
        "**Combination Sum**\n",
        "\n",
        "Given an array of integers and a sum B, find all unique combinations in the array where the sum is equal to B. The same number may be chosen from the array any number of times to make B.\n",
        "\n",
        "**Note:**\n",
        "1. All numbers will be positive integers.\n",
        "2. Elements in a combination (a1, a2, …, ak) must be in non-descending order. (ie, a1 ≤ a2 ≤ … ≤ ak).\n",
        "3. The combinations themselves must be sorted in ascending order.\n",
        "\n",
        "\n",
        "\n",
        "[Problem Link](https://www.geeksforgeeks.org/problems/combination-sum-1587115620/1)"
      ],
      "metadata": {
        "id": "P7qh7DHV8xVd"
      }
    },
    {
      "cell_type": "markdown",
      "source": [
        "### **Approach  ( Time Complexity O(2^n)) and Space Complexity O(k) )**\n",
        "\n",
        "**Remove Duplicates and Sort:**\n",
        "\n",
        "*    We first convert the input array A into a set to remove any duplicates, then sort the resulting set and convert it back into a list.\n",
        "*    This ensures that the elements are unique and in ascending order, which helps in efficiently exploring combinations.\n",
        "\n",
        "**Backtracking for Combinations:**\n",
        "\n",
        "*    We define a helper function _combinations that recursively explores all combinations starting from the start index.\n",
        "*    If the target sum becomes zero, it means a valid combination has been found, and we append a copy of the current combination (comb) to the result list (self.res).\n",
        "*    If the target becomes negative, we stop further exploration.\n",
        "*    **For each element in A, the function:**\n",
        "      *  Adds the current element to the combination (comb).\n",
        "      *  Recursively explores further combinations by reducing the target by the current element.\n",
        "      *  Removes the element after exploration (backtracking) to try different combinations.\n",
        "\n",
        "**Key Points:**\n",
        "\n",
        "*    The start index ensures that combinations are formed in non-decreasing order.\n",
        "*    Elements can be reused any number of times, so the recursion keeps the index i for further exploration, ensuring the same element can be used repeatedly.\n",
        "\n"
      ],
      "metadata": {
        "id": "2mK8oT6weIJh"
      }
    },
    {
      "cell_type": "code",
      "source": [
        "#User function Template for python3\n",
        "\n",
        "class Solution:\n",
        "\n",
        "    # Function to return a list of indexes denoting the required\n",
        "    # combinations whose sum is equal to given number.\n",
        "    def combinationalSum(self, A, B):\n",
        "        self.res = []\n",
        "\n",
        "        A = sorted(list(set(A)))\n",
        "        self._combinations(A, [], B, 0)\n",
        "        return self.res\n",
        "\n",
        "    def _combinations(self, A, comb, target, start):\n",
        "        if target == 0:\n",
        "            self.res.append(list(comb))\n",
        "            return\n",
        "        if target < 0:\n",
        "            return\n",
        "\n",
        "\n",
        "        for i in range(start, len(A)):\n",
        "\n",
        "            comb.append(A[i])\n",
        "            self._combinations(A, comb, target - A[i], i)\n",
        "            comb.pop()"
      ],
      "metadata": {
        "id": "d5ZfbfHod_qH"
      },
      "execution_count": null,
      "outputs": []
    },
    {
      "cell_type": "markdown",
      "source": [
        "# **Thank You..**"
      ],
      "metadata": {
        "id": "Vnswq_x2gudi"
      }
    }
  ]
}