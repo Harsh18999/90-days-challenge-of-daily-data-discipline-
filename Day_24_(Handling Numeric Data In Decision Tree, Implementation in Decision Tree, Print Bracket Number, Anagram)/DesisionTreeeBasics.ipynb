{
  "nbformat": 4,
  "nbformat_minor": 0,
  "metadata": {
    "colab": {
      "provenance": [],
      "authorship_tag": "ABX9TyO/RS82ihTdTod12pOtPznz"
    },
    "kernelspec": {
      "name": "python3",
      "display_name": "Python 3"
    },
    "language_info": {
      "name": "python"
    }
  },
  "cells": [
    {
      "cell_type": "code",
      "execution_count": 1,
      "metadata": {
        "id": "zBXegs99w7LB"
      },
      "outputs": [],
      "source": [
        "import numpy as np"
      ]
    },
    {
      "cell_type": "code",
      "source": [
        "class Node:\n",
        "    def __init__(self, feature=None, threshold=None, left=None, right=None,*,value=None):\n",
        "        self.feature = feature\n",
        "        self.threshold = threshold\n",
        "        self.left = left\n",
        "        self.right = right\n",
        "        self.value = value\n",
        "\n",
        "    def is_leaf_node(self):\n",
        "        return self.value is not None"
      ],
      "metadata": {
        "id": "f5-VSk3wBtMb"
      },
      "execution_count": null,
      "outputs": []
    },
    {
      "cell_type": "code",
      "source": [
        "from collections import Counter\n",
        "\n",
        "class DecisionTree:\n",
        "\n",
        "  def __init__(self,min_samples_split=2,max_depth=100,n_features=None):\n",
        "    self.min_samples_split = min_samples_split\n",
        "    self.max_depth = max_depth\n",
        "    self.n_features = n_features\n",
        "    self.root=None\n",
        "\n",
        "  def fit(self,X,y):\n",
        "    self.n_features = X.shape[1] if not self.n_features else min(X.shape[1],self.n_features)\n",
        "    self.root = self._grow_tree(X,y)\n",
        "\n",
        "  def _grow_tree(self,X,y,depth=0):\n",
        "    n_samples,n_features = X.shape\n",
        "    n_labels = len(np.unique(y))\n",
        "\n",
        "    if  (depth>=self.max_depth or n_labels==1 or n_samples<self.min_samples_split):\n",
        "      leaf_value = self._most_common_label(y)\n",
        "      return Node(value=leaf_value)\n",
        "\n",
        "    feat_idxs = np.random.choice(n_features,self.n_features,replace=False)\n",
        "\n",
        "    best_feature , best_threshold = self._best_split(X,y,feat_idxs)\n",
        "\n",
        "    left_idxs, right_idxs = self._split(X[:,best_feature],best_threshold)\n",
        "    left = self._grow_tree(X[left_idxs,:],y[left_idxs],depth+1)\n",
        "    right = self._grow_tree(X[right_idxs,:],y[right_idxs],depth+1)\n",
        "    return Node(best_feature,best_threshold,left,right)\n",
        "\n",
        "\n",
        "  def _best_split(self,X,y,feat_idxs):\n",
        "    best_gain = -1\n",
        "    split_idx , split_threshold = None, None\n",
        "\n",
        "    for feat_idx in feat_idxs:\n",
        "      X_column = X[:,feat_idx]\n",
        "      thresholds = np.unique(X_column)\n",
        "\n",
        "      for thr in thresholds:\n",
        "        gain = self._information_gain(X_column,y,thr)\n",
        "\n",
        "        if gain > best_gain:\n",
        "          best_gain = gain\n",
        "          split_idx = feat_idx\n",
        "          split_threshold =  thr\n",
        "\n",
        "    return split_idx,split_threshold\n",
        "\n",
        "  def _information_gain(self,X,y,thr):\n",
        "\n",
        "    parent_entropy = self._entropy(y)\n",
        "\n",
        "    left_idxs, right_idxs = self._split(X,thr)\n",
        "\n",
        "    if len(left_idxs)==0 or len(right_idxs)==0:\n",
        "      return 0\n",
        "\n",
        "    n = len(y)\n",
        "    n_l , n_r = len(left_idxs),len(right_idxs)\n",
        "    e_l, e_r = self._entropy(y[left_idxs]), self._entropy(y[right_idxs])\n",
        "    weighted_child_entropy = (n_l/n)*e_l + (n_r/n)*e_r\n",
        "\n",
        "    information_gain = parent_entropy - weighted_child_entropy\n",
        "\n",
        "    return information_gain\n",
        "\n",
        "  def _split(self,X,split_thr):\n",
        "\n",
        "    left_idxs = np.argwhere(X <= split_thr).flatten()\n",
        "    right_idxs = np.argwhere(X > split_thr).flatten()\n",
        "\n",
        "    return left_idxs, right_idxs\n",
        "\n",
        "  def _entropy(self,X):\n",
        "    hist = np.bincount(X)\n",
        "    ps = hist/len(X)\n",
        "    return -np.sum([ p*np.log(p) for p in ps if p>0])\n",
        "\n",
        "  def _most_common_label(self, y):\n",
        "        counter = Counter(y)\n",
        "        value = counter.most_common(1)[0][0]\n",
        "        return value\n",
        "\n",
        "\n",
        "  def Predict(self, X):\n",
        "        return np.array([self._traverse_tree(x, self.root) for x in X])\n",
        "\n",
        "  def _traverse_tree(self, x, node):\n",
        "        if node.is_leaf_node():\n",
        "            return node.value\n",
        "\n",
        "        if x[node.feature] <= node.threshold:\n",
        "            return self._traverse_tree(x, node.left)\n",
        "        return self._traverse_tree(x, node.right)"
      ],
      "metadata": {
        "id": "UA84stIXDrl-"
      },
      "execution_count": null,
      "outputs": []
    }
  ]
}