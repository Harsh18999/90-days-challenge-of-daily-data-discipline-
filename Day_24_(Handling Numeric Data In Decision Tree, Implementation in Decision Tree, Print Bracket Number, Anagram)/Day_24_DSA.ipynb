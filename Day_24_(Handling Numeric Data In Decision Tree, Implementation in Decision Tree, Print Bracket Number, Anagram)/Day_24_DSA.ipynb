{
  "nbformat": 4,
  "nbformat_minor": 0,
  "metadata": {
    "colab": {
      "provenance": [],
      "authorship_tag": "ABX9TyMNS3d5hqMUqqpVw2EZFea/"
    },
    "kernelspec": {
      "name": "python3",
      "display_name": "Python 3"
    },
    "language_info": {
      "name": "python"
    }
  },
  "cells": [
    {
      "cell_type": "markdown",
      "source": [
        "# **Problem Statement - 1**\n",
        "**Print Bracket Number**\n",
        "\n",
        "Given a string str, the task is to find the bracket numbers, i.e., for each bracket in str, return i if the bracket is the ith opening or closing bracket to appear in the string.\n",
        "\n",
        "[Problem Link](https://www.geeksforgeeks.org/problems/print-bracket-number4058/1?page=4&category=Strings&status=unsolved&sortBy=submissions)"
      ],
      "metadata": {
        "id": "Wdgjz09S9tGU"
      }
    },
    {
      "cell_type": "markdown",
      "source": [
        "### **Approach  ( Time Complexity O(n) and Space Complexity O(n) )**\n",
        "\n",
        "**Initialization:**\n",
        "\n",
        "*   res: An empty list to store the bracket numbers.\n",
        "*    stack: An empty stack to keep track of the opening bracket numbers.\n",
        "*    c: A counter initialized to 1, used to assign unique numbers to opening brackets.\n",
        "\n",
        "**Iteration:**\n",
        "\n",
        "*    Iterate through each character i in the input string str.\n",
        "\n",
        "*    If the character is an opening bracket '(':\n",
        "        * Append the current counter value c to the res list.\n",
        "        * Push the current counter value c onto the stack.\n",
        "        * Increment the counter c for the next opening bracket.\n",
        "*    If the character is a closing bracket ')':\n",
        "        * Pop the top element from the stack and append it to the res list.   \n",
        "        * This top element represents the corresponding opening bracket number.\n",
        "\n",
        "**Return:**\n",
        "\n",
        "*    Return the res list, which now contains the bracket numbers corresponding to the opening and closing brackets in the input string.\n",
        "\n",
        "\n",
        "\n",
        "\n"
      ],
      "metadata": {
        "id": "L8Zpbqsnf2eJ"
      }
    },
    {
      "cell_type": "code",
      "source": [
        "class Solution:\n",
        "\tdef bracketNumbers(self, str):\n",
        "\t\t# code here\n",
        "\t\tres = [ ]\n",
        "\t\tstack = [ ]\n",
        "\t\tc=1\n",
        "\t\tfor i in str:\n",
        "\t\t    if i == '(':\n",
        "\t\t        res.append(c)\n",
        "\t\t        stack.append(c)\n",
        "\t\t        c+=1\n",
        "\t\t    elif i == ')':\n",
        "\t\t        res.append(stack.pop())\n",
        "\n",
        "\t\treturn res"
      ],
      "metadata": {
        "id": "21IJefxed_zF"
      },
      "execution_count": null,
      "outputs": []
    },
    {
      "cell_type": "markdown",
      "source": [
        "# **Problem Statement - 2**\n",
        "\n",
        "**Anagram**\n",
        "\n",
        "Given two strings a and b consisting of lowercase characters. The task is to check whether two given strings are an anagram of each other or not. An anagram of a string is another string that contains the same characters, only the order of characters can be different. For example, act and tac are an anagram of each other. Strings a and b can only contain lowercase alphabets.\n",
        "\n",
        "\n",
        "\n",
        "[Problem Link](https://www.geeksforgeeks.org/problems/anagram-1587115620/1?page=1&category=Strings&status=solved&sortBy=submissions)"
      ],
      "metadata": {
        "id": "P7qh7DHV8xVd"
      }
    },
    {
      "cell_type": "markdown",
      "source": [
        "### **Approach  ( Time Complexity O(n) and Space Complexity O(n) )**\n",
        "\n",
        "\n",
        "**Create a dictionary:** Initialize an empty dictionary d to store character frequencies.\n",
        "\n",
        "**Count frequencies in a:** Iterate through each character i in string a. If the character is not in the dictionary, add it with a frequency of 1. Otherwise, increment its frequency.\n",
        "\n",
        "**Check frequencies in b:** Iterate through each character i in string b. If the character is not in the dictionary or its frequency becomes negative, return False. Otherwise, decrement its frequency and remove it if it becomes 0.\n",
        "\n",
        "**Return result:** After processing both strings, check if the dictionary is empty. If it's empty, return True (anagram), otherwise return False (not an anagram)."
      ],
      "metadata": {
        "id": "2mK8oT6weIJh"
      }
    },
    {
      "cell_type": "code",
      "source": [
        "class Solution:\n",
        "\n",
        "    #Function is to check whether two strings are anagram of each other or not.\n",
        "    def isAnagram(self,a,b):\n",
        "        #code here\n",
        "        d = {}\n",
        "        for i in a:\n",
        "            if i not in d:\n",
        "                d[i]=1\n",
        "                continue\n",
        "            d[i]+=1\n",
        "\n",
        "        for i in b:\n",
        "            if i not in d:\n",
        "                return False\n",
        "            d[i]-=1\n",
        "            if d[i] == 0: del d[i]\n",
        "\n",
        "        return True if not d else Falseclass Solution:\n",
        ""
      ],
      "metadata": {
        "id": "d5ZfbfHod_qH"
      },
      "execution_count": null,
      "outputs": []
    },
    {
      "cell_type": "markdown",
      "source": [
        "# **Thank You..**"
      ],
      "metadata": {
        "id": "Vnswq_x2gudi"
      }
    }
  ]
}
